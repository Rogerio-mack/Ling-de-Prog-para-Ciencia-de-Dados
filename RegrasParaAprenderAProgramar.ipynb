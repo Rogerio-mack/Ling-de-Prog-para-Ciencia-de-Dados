{
  "nbformat": 4,
  "nbformat_minor": 0,
  "metadata": {
    "kernelspec": {
      "display_name": "Python 3",
      "language": "python",
      "name": "python3"
    },
    "language_info": {
      "codemirror_mode": {
        "name": "ipython",
        "version": 3
      },
      "file_extension": ".py",
      "mimetype": "text/x-python",
      "name": "python",
      "nbconvert_exporter": "python",
      "pygments_lexer": "ipython3",
      "version": "3.7.4"
    },
    "colab": {
      "name": "RegrasParaAprenderAProgramar.ipynb",
      "provenance": [],
      "collapsed_sections": [],
      "include_colab_link": true
    }
  },
  "cells": [
    {
      "cell_type": "markdown",
      "metadata": {
        "id": "view-in-github",
        "colab_type": "text"
      },
      "source": [
        "<a href=\"https://colab.research.google.com/github/Rogerio-mack/Ling-de-Prog-para-Ciencia-de-Dados/blob/master/RegrasParaAprenderAProgramar.ipynb\" target=\"_parent\"><img src=\"https://colab.research.google.com/assets/colab-badge.svg\" alt=\"Open In Colab\"/></a>"
      ]
    },
    {
      "cell_type": "markdown",
      "metadata": {
        "id": "J3LMBfpeHTwb"
      },
      "source": [
        "<head>\n",
        "  <meta name=\"author\" content=\"Rogério de Oliveira\">\n",
        "  <meta institution=\"author\" content=\"Universidade Presbiteriana Mackenzie\">\n",
        "</head>\n",
        "\n",
        "<img src=\"http://meusite.mackenzie.br/rogerio/mackenzie_logo/UPM.2_horizontal_vermelho.jpg\" width=300, align=\"right\">\n",
        "<!-- <h1 align=left><font size = 6, style=\"color:rgb(200,0,0)\"> optional title </font></h1> -->\n"
      ]
    },
    {
      "cell_type": "markdown",
      "metadata": {
        "id": "zQX8WQPeHTwc"
      },
      "source": [
        "# Como Programar?\n",
        "\n",
        "Essas boas práticas, ou regras para aprender a programar, são normalmente negligenciadas pelo iniciante mas são regras de *ouro* que qualquer programador experiente entende e aplica no seu dia a dia de programação ou no aprendizado de uma nova linguagem. Vale a pena então gastar um tempo em entender essas regras  e buscar aplicá-las. Elas ajudarão muito você a aprender a programar ou a aprender uma nova linguagem. Particularmente as regras de 2-4 são práticas que permitem você se desenvolver rapidamente em uma linguagem e economizar tempo no seu aprendizado."
      ]
    },
    {
      "cell_type": "markdown",
      "metadata": {
        "id": "gfegaAkT9sqt"
      },
      "source": [
        "# **5 REGRAS PARA APRENDER A PROGRAMAR**\n",
        "\n",
        "1. **Programar não é fácil** e exige esforço e tempo. \n",
        "> Como aprender uma uma nova língua você precisa assimilar e praticar os seus conhecimentos \n",
        "1. **Building Blocks**. Programe de modo **incremental** \n",
        "> Para resolver um problema vá construindo a solução aos poucos. Resolva um parte do problema e verifique se os resultados são os esperados. Em seguinda incremente sua solução com outras partes do problema e assim sucessivamente.\n",
        "1. **Small Building Blocks**.`Debug` o seu programa\n",
        "> Guanhou um erro? Não está funcionando? **Leia a mensagem de erro com atenção**. Se não ficou claro o problema volte e você está construindo seu programa de modo incremental, volte um passo na solução e **reconstrua sua solução em etapas ainda menores**. **Inspecione as variáveis** a cada passo fazendo `print` dos valores e verificando se o conteúdo das variáveis é o esperado.\n",
        "1.  **Copy Building Blocks**.Copy $\\rightarrow$ Paste $\\rightarrow$ Adapte\n",
        "> Empregue o Google e a internet ao seu favor. Existem milhares de soluções disponíveis. Empregue também alguma **referência online** de sua preferência. Você pode começar [aqui](https://www.w3schools.com/).\n",
        "1. **Reuse Building Blocks**. \n",
        "> Você deve aprender a 'ler' um código mesmo que não seja capaz de 'escrevê-lo'. Isso lhe dará a capacidade de criar inúmeras soluções poderosas mesmo que você não domine completamente a linguagem!"
      ]
    },
    {
      "cell_type": "markdown",
      "metadata": {
        "id": "R19Pp48DEB0-"
      },
      "source": [
        "<img src=\"http://meusite.mackenzie.br/rogerio/figuras/python_doesntwork2.jfif\" width=600, align=\"center\">\n"
      ]
    }
  ]
}