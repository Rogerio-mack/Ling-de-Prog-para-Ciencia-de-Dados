{
 "cells": [
  {
   "cell_type": "markdown",
   "metadata": {},
   "source": [
    "# Download do dataset"
   ]
  },
  {
   "cell_type": "markdown",
   "metadata": {},
   "source": [
    "Este *jupyter notebook* é extra à trilha 6 do componente curricular, possibilitando estudantes reproduzirem a coleta inicial do *dataset* utilizado como fonte de estudos desta trilha.\n",
    "\n",
    "O processo é relativamente simples, seguindo os passos:\n",
    "\n",
    "**1)** Instalação e carregamento do pacote *tidyverse*\n",
    "\n",
    "**2)** Acesso à URL onde há o conjunto de dados;\n",
    "\n",
    "**3)** Download do arquivo de 1.6Gb (este tempo pode demorar de acordo com sua conexão de internet)\n",
    "\n",
    "**4)** Descompactação do arquivo, aumentando para 12Gb o tamanho dos arquivos;\n",
    "\n",
    "**5)** Carregamento de um arquivo que foi extraído, com 7 milhões de observações, em um dataframe;\n",
    "\n",
    "**6)** Seleção aleatória de 100.000 observações desta lista de 7 milhões;\n",
    "\n",
    "**7)** Criação de um arquivo CSV com as 100.000 observações, totalizando 10Mb."
   ]
  },
  {
   "cell_type": "markdown",
   "metadata": {},
   "source": [
    "O código abaixo permite fazer a instalação e carregamento do pacote *tidyverse*."
   ]
  },
  {
   "cell_type": "code",
   "execution_count": null,
   "metadata": {},
   "outputs": [],
   "source": [
    "install.packages('tidyverse')\n",
    "library('tidyverse')"
   ]
  },
  {
   "cell_type": "markdown",
   "metadata": {},
   "source": [
    "Abaixo é escrito na variável URL o caminho para fazer download do *dataset* completo. Em seguida, é criada uma nova variável com o nome que o arquivo terá no seu computador local."
   ]
  },
  {
   "cell_type": "code",
   "execution_count": null,
   "metadata": {},
   "outputs": [],
   "source": [
    "URL <- \"http://ww2.amstat.org/sections/graphics/datasets/DataExpo2009.zip\"\n",
    "nomeArquivo <- \"arquivo_baixado\""
   ]
  },
  {
   "cell_type": "markdown",
   "metadata": {},
   "source": [
    "A função *download.file* irá trabalhar com dois parâmetros, um dizendo qual é o local onde está o arquivo a ser baixado da internet para seu computador local, e o segundo é o nome que este arquivo terá."
   ]
  },
  {
   "cell_type": "code",
   "execution_count": 1,
   "metadata": {},
   "outputs": [],
   "source": [
    "download.file(URL, nomeArquivo)"
   ]
  },
  {
   "cell_type": "markdown",
   "metadata": {},
   "source": [
    "Após o download do arquivo, é necessário fazer a extração dos arquivos internos. Este arquivo tem a característica de um Zip, que comprime em um único arquivo toda uma estrutura de arquivos. Neste caso, é utilizada a função *Unzip* para extrair todos os arquivos de dentro do Zip."
   ]
  },
  {
   "cell_type": "code",
   "execution_count": 2,
   "metadata": {},
   "outputs": [],
   "source": [
    "unzip(nomeArquivo)"
   ]
  },
  {
   "cell_type": "markdown",
   "metadata": {},
   "source": [
    "Depois dos arquivos serem descompactados, faremos o carregamento dos dados em um *Data Frame*. Utilizando a função *read_csv* do pacote *tidyverse* é possivel ler um dos arquivos que baixou e então atribuí-lo à uma variável."
   ]
  },
  {
   "cell_type": "code",
   "execution_count": null,
   "metadata": {},
   "outputs": [],
   "source": [
    "voos2008 <- read_csv(\"DataExpo2009\\\\2008.csv.bz2\")"
   ]
  },
  {
   "cell_type": "markdown",
   "metadata": {},
   "source": [
    "O conjunto de dados é grande, possui 7 milhões de linhas.\n",
    "\n",
    "Para facilitar o trabalho, vamos executar a randomização destas 7 milhões de observações para coletar 100.000 registros aleatórios. \n",
    "É recomendado que seja configurado o *seed* de 42. Isso é importante para permitir a reproduzibilidade do experimento. A semente de aleatoriedade permite que, independente de qual ambiente seja executado o experimento, todos estudantes terão os mesmos resultados.\n",
    "\n",
    "Para validar, repare que ao manter a semente como 42, é esperado que os 6 primeiros numeros de vôo sejam: 'N913SW' | 'N212WN' | 'N69602'| 'N550JB' | 'N284YV' | 'N305SW'"
   ]
  },
  {
   "cell_type": "code",
   "execution_count": null,
   "metadata": {},
   "outputs": [],
   "source": [
    "set.seed(42)\n",
    "\n",
    "sampleDados <- sample_n(voos2008, 100000)\n",
    "str(sampleDados)\n",
    "\n",
    "head(sampleDados$TailNum)"
   ]
  },
  {
   "cell_type": "markdown",
   "metadata": {},
   "source": [
    "Por fim, este conjunto de dados de exemplo com 100.000 observações será salvo em um arquivo chamado *voos2008.csv*, e isso é feito com a função *write_csv* do pacote *tidyverse*. "
   ]
  },
  {
   "cell_type": "code",
   "execution_count": null,
   "metadata": {},
   "outputs": [],
   "source": [
    "write_csv(sampleDados, 'voos2008.csv')"
   ]
  },
  {
   "cell_type": "markdown",
   "metadata": {},
   "source": [
    "Repare na sua pasta de trabalho que existe um arquivo chamado **voos2008.csv** com aproximadamente 10Mb de tamanho. Este arquivo também está disponível para download dentro dos arquivos disponíveis no componente curricular."
   ]
  }
 ],
 "metadata": {
  "kernelspec": {
   "display_name": "R",
   "language": "R",
   "name": "ir"
  },
  "language_info": {
   "codemirror_mode": "r",
   "file_extension": ".r",
   "mimetype": "text/x-r-source",
   "name": "R",
   "pygments_lexer": "r",
   "version": "4.1.0"
  }
 },
 "nbformat": 4,
 "nbformat_minor": 4
}
