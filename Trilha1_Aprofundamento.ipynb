{
 "cells": [
  {
   "cell_type": "markdown",
   "metadata": {},
   "source": [
    "# Trilha 1: Tarefa (Peso 3)"
   ]
  },
  {
   "cell_type": "markdown",
   "metadata": {},
   "source": [
    "A frequência de termos (quantidade que cada palavra aparece em um texto) tem grande importância em uma série de problemas envolvendo busca, classificação e sumarização automática de documentos. \n",
    "\n",
    "A ideia é que as palavras que as frequências das palavras que um texto contém pode dar uma boa pista do conteúdo do texto.  \n",
    "\n",
    " \n",
    "\n",
    "Hans Peter Luhn (1957): The weight of a term that occurs in a document is simply proportional to the term frequency. \n",
    "\n",
    " \n",
    "\n",
    "Entretanto, parece haver termos muito frequentes, como artigos, preposições etc. que parecem contribuir muito pouco para explicar o conteúdo de um texto. \n",
    "\n",
    " \n",
    "\n",
    "George Kingsley Zipf: Zipf's law states that given a large sample of words used, the frequency of any word is inversely proportional to its rank in the frequency table. So word number n has a frequency proportional to 1/n. \n",
    "\n",
    " \n",
    "\n",
    "Essa é uma lei geral que que ocorre em todo o texto de produção humana e, importante, em qualquer língua. Esse princípio pode ser então empregado desde para decifrar códigos e texto em línguas antigas, como em modernos sistemas de mineração de texto (search engines, bibliotecas digitais, classificação automática de conteúdo etc.). Você pode acessar:  \n",
    "\n",
    " \n",
    "\n",
    "https://demonstrations.wolfram.com/ZipfsLawAppliedToWordAndLetterFrequencies/ \n",
    "\n",
    " \n",
    "\n",
    "para uma demonstração disso. "
   ]
  },
  {
   "cell_type": "markdown",
   "metadata": {},
   "source": [
    "## Tarefa \n",
    "\n",
    " \n",
    "\n",
    "Implemente um programa em Python (Python notebook) que constrói um dicionário de termos de um documento (mínimo 1000 palavras) com a frequência de cada termo permitindo confirmar a lei de Zipf para o documento selecionado.  \n",
    "\n",
    "Comente ao final os resultados obtidos. \n",
    "\n",
    " \n",
    "\n",
    "Peça ao professor modelos de código para sua implementação. "
   ]
  },
  {
   "cell_type": "markdown",
   "metadata": {},
   "source": [
    "> **Pensar na resolução de problema:** A atividade pede para pegar um documento com o mínimo de 1000 palavras e contar a frequência com que cada uma aparece no texto. Isso ajudará a provar a *Lei de Zipf*."
   ]
  },
  {
   "cell_type": "markdown",
   "metadata": {},
   "source": [
    "Criar uma variável com o texto que quer contar as palavras."
   ]
  },
  {
   "cell_type": "code",
   "execution_count": 4,
   "metadata": {},
   "outputs": [],
   "source": [
    "# <<escreva seu código aqui>>"
   ]
  },
  {
   "cell_type": "markdown",
   "metadata": {},
   "source": [
    "Montar um dicionário com a palavra e a quantidade de vezes que a palavra aparece no texto."
   ]
  },
  {
   "cell_type": "code",
   "execution_count": 5,
   "metadata": {},
   "outputs": [],
   "source": [
    "# <<escreva seu código aqui>>"
   ]
  },
  {
   "cell_type": "markdown",
   "metadata": {},
   "source": [
    "Ordenar o dicionário para apresentar a frequência de palavras de forma decrecente.\n",
    "\n",
    "Lá no exercício de fixação da trilha 1, há uma lista de letras que você também fez essa mesma contagem de frequência. Utilize a mesma estratégia"
   ]
  },
  {
   "cell_type": "code",
   "execution_count": 3,
   "metadata": {},
   "outputs": [],
   "source": [
    "# <<escreva seu código aqui>>"
   ]
  }
 ],
 "metadata": {
  "kernelspec": {
   "display_name": "Python 3",
   "language": "python",
   "name": "python3"
  },
  "language_info": {
   "codemirror_mode": {
    "name": "ipython",
    "version": 3
   },
   "file_extension": ".py",
   "mimetype": "text/x-python",
   "name": "python",
   "nbconvert_exporter": "python",
   "pygments_lexer": "ipython3",
   "version": "3.9.0"
  }
 },
 "nbformat": 4,
 "nbformat_minor": 4
}
