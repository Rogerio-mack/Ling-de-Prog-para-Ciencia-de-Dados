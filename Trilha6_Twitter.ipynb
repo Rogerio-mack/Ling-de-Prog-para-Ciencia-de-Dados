{
 "cells": [
  {
   "cell_type": "markdown",
   "metadata": {},
   "source": [
    "# Twitter"
   ]
  },
  {
   "cell_type": "markdown",
   "metadata": {},
   "source": [
    "Para manipulação de dados, é possível trabalhar com diversas fontes. Neste exemplo vamos ver como utilizar o twitter e trabalhar com os dados que são retornados por lá."
   ]
  },
  {
   "cell_type": "code",
   "execution_count": null,
   "metadata": {},
   "outputs": [],
   "source": [
    "#Instalação dos pacotes\n",
    "install.packages(\"twitteR\")\n",
    "install.packages(\"gsubfn\")\n",
    "install.packages(\"wordcloud\")\n",
    "install.packages(\"NLP\")\n",
    "install.packages(\"tm\")"
   ]
  },
  {
   "cell_type": "code",
   "execution_count": null,
   "metadata": {},
   "outputs": [],
   "source": [
    "#Carregamento dos pacotes\n",
    "library(data.table)\n",
    "library('twitteR')\n",
    "library(igraph)\n",
    "library(gsubfn)\n",
    "library(wordcloud)\n",
    "library(NLP)\n",
    "library(tm)"
   ]
  },
  {
   "cell_type": "markdown",
   "metadata": {},
   "source": [
    "## Autenticando no Twitter"
   ]
  },
  {
   "cell_type": "markdown",
   "metadata": {},
   "source": [
    "Gerar as API Keys pelo site https://apps.twitter.com/\n",
    "\n",
    "https://apps.twitter.com/app/12987492/keys"
   ]
  },
  {
   "cell_type": "code",
   "execution_count": null,
   "metadata": {},
   "outputs": [],
   "source": [
    "options(httr_oauth_cache=T)\n",
    "\n",
    "consumer_key = \" \" #API Key\n",
    "consumer_secret = \" \" #API Secret Key\n",
    "access_key = \" \" #Access Token\n",
    "access_secret = \" \" #Access Token Secret\n",
    "\n",
    "setup_twitter_oauth(consumer_key, consumer_secret, access_key, access_secret)"
   ]
  },
  {
   "cell_type": "markdown",
   "metadata": {},
   "source": [
    "Para validar se a autenticação está realmente funcionando, vamos retornar a *localização* e a *descrição* de um @ qualquer. Peguei o meu para garantir que existe."
   ]
  },
  {
   "cell_type": "code",
   "execution_count": null,
   "metadata": {},
   "outputs": [],
   "source": [
    "usuario <- \"DiegoNogare\"\n",
    "perfil <- getUser(usuario)\n",
    "\n",
    "location(perfil)\n",
    "\n",
    "description(perfil)"
   ]
  },
  {
   "cell_type": "markdown",
   "metadata": {},
   "source": [
    "## Retorno de dados"
   ]
  },
  {
   "cell_type": "markdown",
   "metadata": {},
   "source": [
    "### Dados do perfil "
   ]
  },
  {
   "cell_type": "code",
   "execution_count": null,
   "metadata": {},
   "outputs": [],
   "source": [
    "seguidores <- perfil$getFollowers()\n",
    "length(seguidores)\n",
    "seguidores <- rbindlist(lapply(seguidores,as.data.frame))\n"
   ]
  },
  {
   "cell_type": "code",
   "execution_count": null,
   "metadata": {},
   "outputs": [],
   "source": [
    "head(seguidores)"
   ]
  },
  {
   "cell_type": "code",
   "execution_count": null,
   "metadata": {},
   "outputs": [],
   "source": [
    "quemSigo <- perfil$getFriends()\n",
    "length(quemSigo)\n",
    "quemSigo <- rbindlist(lapply(quemSigo,as.data.frame))\n"
   ]
  },
  {
   "cell_type": "code",
   "execution_count": null,
   "metadata": {},
   "outputs": [],
   "source": [
    "head(quemSigo)"
   ]
  },
  {
   "cell_type": "markdown",
   "metadata": {},
   "source": [
    "E para analisar os meus seguidores que tem mais seguidores?"
   ]
  },
  {
   "cell_type": "code",
   "execution_count": null,
   "metadata": {},
   "outputs": [],
   "source": [
    "\n",
    "SeguidoresQueTemMaisSeguidores <- seguidores[ order(-seguidores$followersCount) ,]\n",
    "top10Seguidores <- head(SeguidoresQueTemMaisSeguidores,10 )\n",
    "\n",
    "top10Seguidores <- top10Seguidores [,c('name', 'followersCount', 'screenName', 'location', 'profileImageUrl')]\n",
    "\n",
    "print(top10Seguidores)"
   ]
  },
  {
   "cell_type": "markdown",
   "metadata": {},
   "source": [
    "E das pessoas que eu sigo, quais tem mais seguidores?"
   ]
  },
  {
   "cell_type": "code",
   "execution_count": null,
   "metadata": {},
   "outputs": [],
   "source": [
    "SigoQueTemMaisSeguidores <- quemSigo[ order(-quemSigo$followersCount) ,]\n",
    "top10quemSigo <- head(SigoQueTemMaisSeguidores,10 )\n",
    "\n",
    "top10quemSigo <- top10quemSigo [,c('name', 'followersCount', 'screenName', 'location', 'profileImageUrl')]\n",
    "\n",
    "print(top10quemSigo)"
   ]
  },
  {
   "cell_type": "markdown",
   "metadata": {},
   "source": [
    "## Retorno de tweets "
   ]
  },
  {
   "cell_type": "markdown",
   "metadata": {},
   "source": [
    "Retonar os ultimos tweets das pessoas que me seguem"
   ]
  },
  {
   "cell_type": "code",
   "execution_count": null,
   "metadata": {},
   "outputs": [],
   "source": [
    "tweets <- as.data.frame(matrix(c(NA,NA), nrow=1,ncol=2))\n",
    "\n",
    "ultimosTweets <- 1\n",
    "dez <- length(top10Seguidores$screenName)\n",
    "i <- 1\n",
    "while (i <= dez)\n",
    "{\n",
    "   tweets <- rbind(tweets, as.data.frame( matrix(c(top10Seguidores[i]$screenName,\n",
    "      userTimeline(top10Seguidores[i]$screenName, n=ultimosTweets)[[1]]$text\n",
    "      ) ,nrow=ultimosTweets, ncol=2, byrow=T) )\n",
    "      )\n",
    "  i <- i + 1\n",
    "}\n",
    "colnames(tweets) <- c(\"Perfil\", \"Post\")\n",
    "tweetsSeguidores <- tweets[!is.na(tweets$Perfil),]\n",
    "\n",
    "View(tweetsSeguidores)"
   ]
  },
  {
   "cell_type": "markdown",
   "metadata": {},
   "source": [
    "E também, os ultimos tweets das pessoas que eu sigo"
   ]
  },
  {
   "cell_type": "code",
   "execution_count": null,
   "metadata": {},
   "outputs": [],
   "source": [
    "tweets <- as.data.frame(matrix(c(NA,NA), nrow=1,ncol=2))\n",
    "\n",
    "ultimosTweets <- 1\n",
    "dez <- length(top10quemSigo$screenName)\n",
    "i <- 1\n",
    "while (i <= dez)\n",
    "{\n",
    "  tweets <- rbind(tweets, as.data.frame( matrix(c(top10quemSigo[i]$screenName,\n",
    "                                                  userTimeline(top10quemSigo[i]$screenName, n=ultimosTweets)[[1]]$text\n",
    "  ) ,nrow=ultimosTweets, ncol=2, byrow=T) )\n",
    "  )\n",
    "  i <- i + 1\n",
    "}\n",
    "colnames(tweets) <- c(\"Perfil\", \"Post\")\n",
    "tweetsQuemSigo <- tweets[!is.na(tweets$Perfil),]\n",
    "\n",
    "View(tweetsQuemSigo)"
   ]
  },
  {
   "cell_type": "markdown",
   "metadata": {},
   "source": [
    "Seguidores com a mesma localização que a minha "
   ]
  },
  {
   "cell_type": "code",
   "execution_count": null,
   "metadata": {},
   "outputs": [],
   "source": [
    "SeguidoresNaMesmaLocalizacaoQueEu <- as.data.frame( seguidores[seguidores$location == location(perfil),] )\n",
    "head(SeguidoresNaMesmaLocalizacaoQueEu$name,10)"
   ]
  },
  {
   "cell_type": "markdown",
   "metadata": {},
   "source": [
    "Quem eu sigo que também está com a mesma localização"
   ]
  },
  {
   "cell_type": "code",
   "execution_count": null,
   "metadata": {},
   "outputs": [],
   "source": [
    "QuemSigoNaMesmaLocalizacaoQueEu <- as.data.frame( quemSigo[quemSigo$location == location(perfil),] )\n",
    "head(QuemSigoNaMesmaLocalizacaoQueEu$name,10)\n"
   ]
  },
  {
   "cell_type": "markdown",
   "metadata": {},
   "source": [
    "## Buscas de Tweets\n"
   ]
  },
  {
   "cell_type": "code",
   "execution_count": null,
   "metadata": {},
   "outputs": [],
   "source": [
    "#Função para limpar texto\n",
    "CaracteresParaMudar <- list( 'S'='S', 's'='s', 'Z'='Z', 'z'='z', 'À'='A', 'Á'='A', 'Â'='A', 'Ã'='A', 'Ä'='A', 'Å'='A', 'Æ'='A', 'Ç'='C', 'È'='E', 'É'='E',\n",
    "                             'Ê'='E', 'Ë'='E', 'Ì'='I', 'Í'='I', 'Î'='I', 'Ï'='I', 'Ñ'='N', 'Ò'='O', 'Ó'='O', 'Ô'='O', 'Õ'='O', 'Ö'='O', 'Ø'='O', 'Ù'='U',\n",
    "                             'Ú'='U', 'Û'='U', 'Ü'='U', 'Ý'='Y', 'Þ'='B', 'ß'='Ss', 'à'='a', 'á'='a', 'â'='a', 'ã'='a', 'ä'='a', 'å'='a', 'æ'='a', 'ç'='c',\n",
    "                             'è'='e', 'é'='e', 'ê'='e', 'ë'='e', 'ì'='i', 'í'='i', 'î'='i', 'ï'='i', 'ð'='o', 'ñ'='n', 'ò'='o', 'ó'='o', 'ô'='o', 'õ'='o',\n",
    "                             'ö'='o', 'ø'='o', 'ù'='u', 'ú'='u', 'û'='u', 'ý'='y', 'ý'='y', 'þ'='b', 'ÿ'='y' )\n",
    "\n",
    "\n",
    "LimparTexto <- function(texto){\n",
    "  texto <- gsub(\"\\\\s?(f|ht)(tp)(s?)(://)([^\\\\.]*)[\\\\.|/](\\\\S*)\", texto, replacement=\"\")\n",
    "  texto <- gsub(\"\\n\", texto, replacement=\" \")\n",
    "  texto <- gsub(pattern=\"[[:punct:]]\", texto, replacement=\"\")\n",
    "  \n",
    "  texto <- tolower(texto)\n",
    "  texto <- gsubfn(paste(names(CaracteresParaMudar),collapse='|'), CaracteresParaMudar, texto)\n",
    "\n",
    "  texto <- removeWords(texto, stopwords(\"portuguese\"))    \n",
    "  return(texto)\n",
    "}\n",
    "\n",
    "prepararNuvem <- function()\n",
    "{\n",
    "  docs <- Corpus(VectorSource(postsLimpos))\n",
    "  dtm <- TermDocumentMatrix(docs)\n",
    "  m <- as.matrix(dtm)\n",
    "  v <- sort(rowSums(m),decreasing=TRUE)\n",
    "  d <- data.frame(word = names(v),freq=v)\n",
    "  return(d)\n",
    "}"
   ]
  },
  {
   "cell_type": "code",
   "execution_count": null,
   "metadata": {},
   "outputs": [],
   "source": [
    "#Busca por termo específico\n",
    "#**************************\n",
    "totalTweets = 1000\n",
    "termo <- \"#NFLnaESPN\"\n",
    "desde <- \"2021-01-01\"\n",
    "idioma <- 'pt'\n",
    "\n",
    "posts <- searchTwitter(termo, n=totalTweets, since=desde, lang = idioma) \n",
    "posts <- twListToDF(posts)"
   ]
  },
  {
   "cell_type": "markdown",
   "metadata": {},
   "source": [
    "> Execute a leitura do arquivo **somente** se você não conseguiu recuperar os termos específicos que gostaria. Tem alguns exemplos que carreguei para hoje:\n",
    ">\n",
    ">    - Bolsonaro.txt\n",
    ">    \n",
    ">    - inteligenciaArtificial.csv\n",
    ">    \n",
    ">    - Lula.csv\n",
    ">    \n",
    ">    - tokyo2020.csv\n",
    ">    \n",
    ">    - NFLnaESPN.csv"
   ]
  },
  {
   "cell_type": "code",
   "execution_count": null,
   "metadata": {},
   "outputs": [],
   "source": [
    "#Ler o arquivo (caso não consiga fazer a busca por termos específicos)\n",
    "arquivo <- \"inteligenciaArtificial.csv\"\n",
    "posts <- read.csv(arquivo, header=TRUE, sep=\",\")\n",
    "\n",
    "head(posts)"
   ]
  },
  {
   "cell_type": "code",
   "execution_count": null,
   "metadata": {},
   "outputs": [],
   "source": [
    "head(posts)"
   ]
  },
  {
   "cell_type": "code",
   "execution_count": null,
   "metadata": {},
   "outputs": [],
   "source": [
    "postsLimpos <- as.vector( as.character( LimparTexto(posts$text) ) )\n",
    "\n",
    "head(postsLimpos)"
   ]
  },
  {
   "cell_type": "code",
   "execution_count": null,
   "metadata": {},
   "outputs": [],
   "source": [
    "d <- prepararNuvem()\n",
    "\n",
    "wordcloud(words = d$word, freq = d$freq, min.freq = 1\n",
    "          ,max.words=150\n",
    "          ,random.order=FALSE\n",
    "          ,colors=brewer.pal(8, \"Dark2\") )"
   ]
  },
  {
   "cell_type": "code",
   "execution_count": null,
   "metadata": {},
   "outputs": [],
   "source": [
    "nomeArquivo <- \"NuvemPalavras.png\"\n",
    "\n",
    "png(nomeArquivo, width=1024, height=1024, units=\"px\", res=150)\n",
    "    wordcloud(words = d$word, freq = d$freq, min.freq = 1\n",
    "              ,max.words=150\n",
    "              ,random.order=FALSE\n",
    "              ,colors=brewer.pal(8, \"Dark2\") )\n",
    "dev.off()"
   ]
  },
  {
   "cell_type": "markdown",
   "metadata": {},
   "source": [
    "## Publicação no Twitter "
   ]
  },
  {
   "cell_type": "code",
   "execution_count": null,
   "metadata": {},
   "outputs": [],
   "source": [
    "updateStatus( paste(\"Ao procurar '\", termo, \"' no idioma '\", toupper(idioma) , \"' desde \", desde, \" foi gerada esta nuvem. #LinguagemR #DataScience\" , sep=\"\") , mediaPath = nomeArquivo)"
   ]
  }
 ],
 "metadata": {
  "kernelspec": {
   "display_name": "R",
   "language": "R",
   "name": "ir"
  },
  "language_info": {
   "codemirror_mode": "r",
   "file_extension": ".r",
   "mimetype": "text/x-r-source",
   "name": "R",
   "pygments_lexer": "r",
   "version": "4.1.0"
  }
 },
 "nbformat": 4,
 "nbformat_minor": 4
}
