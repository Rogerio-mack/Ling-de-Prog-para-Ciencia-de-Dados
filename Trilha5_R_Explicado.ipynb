{
 "cells": [
  {
   "cell_type": "markdown",
   "metadata": {},
   "source": [
    "# Tipos de Dados"
   ]
  },
  {
   "cell_type": "code",
   "execution_count": 1,
   "metadata": {},
   "outputs": [
    {
     "data": {
      "text/html": [
       "TRUE"
      ],
      "text/latex": [
       "TRUE"
      ],
      "text/markdown": [
       "TRUE"
      ],
      "text/plain": [
       "[1] TRUE"
      ]
     },
     "metadata": {},
     "output_type": "display_data"
    },
    {
     "data": {
      "text/html": [
       "1"
      ],
      "text/latex": [
       "1"
      ],
      "text/markdown": [
       "1"
      ],
      "text/plain": [
       "[1] 1"
      ]
     },
     "metadata": {},
     "output_type": "display_data"
    }
   ],
   "source": [
    "x <- 1\n",
    "is.numeric(x)\n",
    "x"
   ]
  },
  {
   "cell_type": "code",
   "execution_count": 2,
   "metadata": {},
   "outputs": [
    {
     "data": {
      "text/html": [
       "TRUE"
      ],
      "text/latex": [
       "TRUE"
      ],
      "text/markdown": [
       "TRUE"
      ],
      "text/plain": [
       "[1] TRUE"
      ]
     },
     "metadata": {},
     "output_type": "display_data"
    },
    {
     "data": {
      "text/html": [
       "'2'"
      ],
      "text/latex": [
       "'2'"
      ],
      "text/markdown": [
       "'2'"
      ],
      "text/plain": [
       "[1] \"2\""
      ]
     },
     "metadata": {},
     "output_type": "display_data"
    }
   ],
   "source": [
    "x <- '2'\n",
    "is.character(x)\n",
    "x\n",
    "\n"
   ]
  },
  {
   "cell_type": "code",
   "execution_count": 3,
   "metadata": {},
   "outputs": [
    {
     "data": {
      "text/html": [
       "FALSE"
      ],
      "text/latex": [
       "FALSE"
      ],
      "text/markdown": [
       "FALSE"
      ],
      "text/plain": [
       "[1] FALSE"
      ]
     },
     "metadata": {},
     "output_type": "display_data"
    },
    {
     "data": {
      "text/html": [
       "3"
      ],
      "text/latex": [
       "3"
      ],
      "text/markdown": [
       "3"
      ],
      "text/plain": [
       "[1] 3"
      ]
     },
     "metadata": {},
     "output_type": "display_data"
    }
   ],
   "source": [
    "x <- 3\n",
    "is.integer(x)\n",
    "x\n",
    "\n"
   ]
  },
  {
   "cell_type": "code",
   "execution_count": 4,
   "metadata": {},
   "outputs": [
    {
     "data": {
      "text/html": [
       "TRUE"
      ],
      "text/latex": [
       "TRUE"
      ],
      "text/markdown": [
       "TRUE"
      ],
      "text/plain": [
       "[1] TRUE"
      ]
     },
     "metadata": {},
     "output_type": "display_data"
    },
    {
     "data": {
      "text/html": [
       "3"
      ],
      "text/latex": [
       "3"
      ],
      "text/markdown": [
       "3"
      ],
      "text/plain": [
       "[1] 3"
      ]
     },
     "metadata": {},
     "output_type": "display_data"
    }
   ],
   "source": [
    "x <- as.integer(3)\n",
    "is.integer(x)\n",
    "x\n",
    "\n"
   ]
  },
  {
   "cell_type": "code",
   "execution_count": 5,
   "metadata": {},
   "outputs": [
    {
     "data": {
      "text/html": [
       "FALSE"
      ],
      "text/latex": [
       "FALSE"
      ],
      "text/markdown": [
       "FALSE"
      ],
      "text/plain": [
       "[1] FALSE"
      ]
     },
     "metadata": {},
     "output_type": "display_data"
    },
    {
     "data": {
      "text/html": [
       "TRUE"
      ],
      "text/latex": [
       "TRUE"
      ],
      "text/markdown": [
       "TRUE"
      ],
      "text/plain": [
       "[1] TRUE"
      ]
     },
     "metadata": {},
     "output_type": "display_data"
    },
    {
     "data": {
      "text/html": [
       "4"
      ],
      "text/latex": [
       "4"
      ],
      "text/markdown": [
       "4"
      ],
      "text/plain": [
       "[1] 4"
      ]
     },
     "metadata": {},
     "output_type": "display_data"
    },
    {
     "data": {
      "text/html": [
       "TRUE"
      ],
      "text/latex": [
       "TRUE"
      ],
      "text/markdown": [
       "TRUE"
      ],
      "text/plain": [
       "[1] TRUE"
      ]
     },
     "metadata": {},
     "output_type": "display_data"
    },
    {
     "data": {
      "text/html": [
       "TRUE"
      ],
      "text/latex": [
       "TRUE"
      ],
      "text/markdown": [
       "TRUE"
      ],
      "text/plain": [
       "[1] TRUE"
      ]
     },
     "metadata": {},
     "output_type": "display_data"
    }
   ],
   "source": [
    "x <- 2+2\n",
    "is.integer(x)\n",
    "is.numeric(x)\n",
    "x\n",
    "\n",
    "x <- TRUE\n",
    "is.logical(x)\n",
    "x"
   ]
  },
  {
   "cell_type": "code",
   "execution_count": 6,
   "metadata": {},
   "outputs": [
    {
     "data": {
      "text/html": [
       "TRUE"
      ],
      "text/latex": [
       "TRUE"
      ],
      "text/markdown": [
       "TRUE"
      ],
      "text/plain": [
       "[1] TRUE"
      ]
     },
     "metadata": {},
     "output_type": "display_data"
    },
    {
     "data": {
      "text/html": [
       "TRUE"
      ],
      "text/latex": [
       "TRUE"
      ],
      "text/markdown": [
       "TRUE"
      ],
      "text/plain": [
       "[1] TRUE"
      ]
     },
     "metadata": {},
     "output_type": "display_data"
    }
   ],
   "source": [
    "x <- TRUE\n",
    "is.logical(x)\n",
    "x"
   ]
  },
  {
   "cell_type": "markdown",
   "metadata": {},
   "source": [
    "# Matrizes e vetores"
   ]
  },
  {
   "cell_type": "code",
   "execution_count": 7,
   "metadata": {},
   "outputs": [
    {
     "data": {
      "text/html": [
       "TRUE"
      ],
      "text/latex": [
       "TRUE"
      ],
      "text/markdown": [
       "TRUE"
      ],
      "text/plain": [
       "[1] TRUE"
      ]
     },
     "metadata": {},
     "output_type": "display_data"
    },
    {
     "data": {
      "text/html": [
       "<style>\n",
       ".list-inline {list-style: none; margin:0; padding: 0}\n",
       ".list-inline>li {display: inline-block}\n",
       ".list-inline>li:not(:last-child)::after {content: \"\\00b7\"; padding: 0 .5ex}\n",
       "</style>\n",
       "<ol class=list-inline><li>5</li><li>6</li><li>7</li><li>8</li></ol>\n"
      ],
      "text/latex": [
       "\\begin{enumerate*}\n",
       "\\item 5\n",
       "\\item 6\n",
       "\\item 7\n",
       "\\item 8\n",
       "\\end{enumerate*}\n"
      ],
      "text/markdown": [
       "1. 5\n",
       "2. 6\n",
       "3. 7\n",
       "4. 8\n",
       "\n",
       "\n"
      ],
      "text/plain": [
       "[1] 5 6 7 8"
      ]
     },
     "metadata": {},
     "output_type": "display_data"
    }
   ],
   "source": [
    "x <- c(5,6,7,8)\n",
    "is.vector(x)\n",
    "x\n"
   ]
  },
  {
   "cell_type": "code",
   "execution_count": 8,
   "metadata": {
    "scrolled": true
   },
   "outputs": [
    {
     "data": {
      "text/html": [
       "TRUE"
      ],
      "text/latex": [
       "TRUE"
      ],
      "text/markdown": [
       "TRUE"
      ],
      "text/plain": [
       "[1] TRUE"
      ]
     },
     "metadata": {},
     "output_type": "display_data"
    },
    {
     "data": {
      "text/html": [
       "<style>\n",
       ".list-inline {list-style: none; margin:0; padding: 0}\n",
       ".list-inline>li {display: inline-block}\n",
       ".list-inline>li:not(:last-child)::after {content: \"\\00b7\"; padding: 0 .5ex}\n",
       "</style>\n",
       "<ol class=list-inline><li>9</li><li>10</li><li>11</li><li>12</li></ol>\n"
      ],
      "text/latex": [
       "\\begin{enumerate*}\n",
       "\\item 9\n",
       "\\item 10\n",
       "\\item 11\n",
       "\\item 12\n",
       "\\end{enumerate*}\n"
      ],
      "text/markdown": [
       "1. 9\n",
       "2. 10\n",
       "3. 11\n",
       "4. 12\n",
       "\n",
       "\n"
      ],
      "text/plain": [
       "[1]  9 10 11 12"
      ]
     },
     "metadata": {},
     "output_type": "display_data"
    }
   ],
   "source": [
    "x <- c(9:12)\n",
    "is.vector(x)\n",
    "x"
   ]
  },
  {
   "cell_type": "code",
   "execution_count": 9,
   "metadata": {},
   "outputs": [
    {
     "data": {
      "text/html": [
       "<table class=\"dataframe\">\n",
       "<caption>A matrix: 2 × 3 of type dbl</caption>\n",
       "<tbody>\n",
       "\t<tr><td>1</td><td>2</td><td>3</td></tr>\n",
       "\t<tr><td>4</td><td>5</td><td>6</td></tr>\n",
       "</tbody>\n",
       "</table>\n"
      ],
      "text/latex": [
       "A matrix: 2 × 3 of type dbl\n",
       "\\begin{tabular}{lll}\n",
       "\t 1 & 2 & 3\\\\\n",
       "\t 4 & 5 & 6\\\\\n",
       "\\end{tabular}\n"
      ],
      "text/markdown": [
       "\n",
       "A matrix: 2 × 3 of type dbl\n",
       "\n",
       "| 1 | 2 | 3 |\n",
       "| 4 | 5 | 6 |\n",
       "\n"
      ],
      "text/plain": [
       "     [,1] [,2] [,3]\n",
       "[1,] 1    2    3   \n",
       "[2,] 4    5    6   "
      ]
     },
     "metadata": {},
     "output_type": "display_data"
    }
   ],
   "source": [
    "x <- matrix(c(1,2,3,4,5,6), nrow = 2, ncol = 3, byrow = TRUE)\n",
    "x"
   ]
  },
  {
   "cell_type": "code",
   "execution_count": 10,
   "metadata": {},
   "outputs": [
    {
     "data": {
      "text/html": [
       "<table class=\"dataframe\">\n",
       "<caption>A matrix: 2 × 3 of type dbl</caption>\n",
       "<tbody>\n",
       "\t<tr><td>1</td><td>3</td><td>5</td></tr>\n",
       "\t<tr><td>2</td><td>4</td><td>6</td></tr>\n",
       "</tbody>\n",
       "</table>\n"
      ],
      "text/latex": [
       "A matrix: 2 × 3 of type dbl\n",
       "\\begin{tabular}{lll}\n",
       "\t 1 & 3 & 5\\\\\n",
       "\t 2 & 4 & 6\\\\\n",
       "\\end{tabular}\n"
      ],
      "text/markdown": [
       "\n",
       "A matrix: 2 × 3 of type dbl\n",
       "\n",
       "| 1 | 3 | 5 |\n",
       "| 2 | 4 | 6 |\n",
       "\n"
      ],
      "text/plain": [
       "     [,1] [,2] [,3]\n",
       "[1,] 1    3    5   \n",
       "[2,] 2    4    6   "
      ]
     },
     "metadata": {},
     "output_type": "display_data"
    }
   ],
   "source": [
    "x <- matrix(c(1,2,3,4,5,6), nrow = 2, ncol = 3, byrow = FALSE)\n",
    "x\n"
   ]
  },
  {
   "cell_type": "code",
   "execution_count": 11,
   "metadata": {},
   "outputs": [
    {
     "data": {
      "text/html": [
       "<table class=\"dataframe\">\n",
       "<caption>A matrix: 3 × 3 of type dbl</caption>\n",
       "<tbody>\n",
       "\t<tr><td>1</td><td>4</td><td>1</td></tr>\n",
       "\t<tr><td>2</td><td>5</td><td>2</td></tr>\n",
       "\t<tr><td>3</td><td>6</td><td>3</td></tr>\n",
       "</tbody>\n",
       "</table>\n"
      ],
      "text/latex": [
       "A matrix: 3 × 3 of type dbl\n",
       "\\begin{tabular}{lll}\n",
       "\t 1 & 4 & 1\\\\\n",
       "\t 2 & 5 & 2\\\\\n",
       "\t 3 & 6 & 3\\\\\n",
       "\\end{tabular}\n"
      ],
      "text/markdown": [
       "\n",
       "A matrix: 3 × 3 of type dbl\n",
       "\n",
       "| 1 | 4 | 1 |\n",
       "| 2 | 5 | 2 |\n",
       "| 3 | 6 | 3 |\n",
       "\n"
      ],
      "text/plain": [
       "     [,1] [,2] [,3]\n",
       "[1,] 1    4    1   \n",
       "[2,] 2    5    2   \n",
       "[3,] 3    6    3   "
      ]
     },
     "metadata": {},
     "output_type": "display_data"
    }
   ],
   "source": [
    "x <- matrix(c(1,2,3,4,5,6), nrow = 3, ncol = 3, byrow = FALSE)\n",
    "x"
   ]
  },
  {
   "cell_type": "code",
   "execution_count": 12,
   "metadata": {},
   "outputs": [
    {
     "data": {
      "text/html": [
       "<table class=\"dataframe\">\n",
       "<caption>A matrix: 3 × 2 of type dbl</caption>\n",
       "<tbody>\n",
       "\t<tr><td>1</td><td>4</td></tr>\n",
       "\t<tr><td>2</td><td>5</td></tr>\n",
       "\t<tr><td>3</td><td>6</td></tr>\n",
       "</tbody>\n",
       "</table>\n"
      ],
      "text/latex": [
       "A matrix: 3 × 2 of type dbl\n",
       "\\begin{tabular}{ll}\n",
       "\t 1 & 4\\\\\n",
       "\t 2 & 5\\\\\n",
       "\t 3 & 6\\\\\n",
       "\\end{tabular}\n"
      ],
      "text/markdown": [
       "\n",
       "A matrix: 3 × 2 of type dbl\n",
       "\n",
       "| 1 | 4 |\n",
       "| 2 | 5 |\n",
       "| 3 | 6 |\n",
       "\n"
      ],
      "text/plain": [
       "     [,1] [,2]\n",
       "[1,] 1    4   \n",
       "[2,] 2    5   \n",
       "[3,] 3    6   "
      ]
     },
     "metadata": {},
     "output_type": "display_data"
    }
   ],
   "source": [
    "x <- matrix(c(1,2,3,4,5,6), nrow = 3, ncol = 2)\n",
    "x"
   ]
  },
  {
   "cell_type": "code",
   "execution_count": 13,
   "metadata": {},
   "outputs": [
    {
     "data": {
      "text/html": [
       "<style>\n",
       ".list-inline {list-style: none; margin:0; padding: 0}\n",
       ".list-inline>li {display: inline-block}\n",
       ".list-inline>li:not(:last-child)::after {content: \"\\00b7\"; padding: 0 .5ex}\n",
       "</style>\n",
       "<ol class=list-inline><li>16</li><li>17</li><li>18</li><li>19</li><li>20</li></ol>\n"
      ],
      "text/latex": [
       "\\begin{enumerate*}\n",
       "\\item 16\n",
       "\\item 17\n",
       "\\item 18\n",
       "\\item 19\n",
       "\\item 20\n",
       "\\end{enumerate*}\n"
      ],
      "text/markdown": [
       "1. 16\n",
       "2. 17\n",
       "3. 18\n",
       "4. 19\n",
       "5. 20\n",
       "\n",
       "\n"
      ],
      "text/plain": [
       "[1] 16 17 18 19 20"
      ]
     },
     "metadata": {},
     "output_type": "display_data"
    }
   ],
   "source": [
    "# Gera matriz numérica de 5 x 4 \n",
    "y <- matrix (01:20, nrow = 5, ncol = 4)\n",
    "\n",
    "# Identificar colunas ou elementos.\n",
    "y [, 4]  # coluna de matriz\n"
   ]
  },
  {
   "cell_type": "code",
   "execution_count": 14,
   "metadata": {},
   "outputs": [
    {
     "data": {
      "text/html": [
       "<style>\n",
       ".list-inline {list-style: none; margin:0; padding: 0}\n",
       ".list-inline>li {display: inline-block}\n",
       ".list-inline>li:not(:last-child)::after {content: \"\\00b7\"; padding: 0 .5ex}\n",
       "</style>\n",
       "<ol class=list-inline><li>3</li><li>8</li><li>13</li><li>18</li></ol>\n"
      ],
      "text/latex": [
       "\\begin{enumerate*}\n",
       "\\item 3\n",
       "\\item 8\n",
       "\\item 13\n",
       "\\item 18\n",
       "\\end{enumerate*}\n"
      ],
      "text/markdown": [
       "1. 3\n",
       "2. 8\n",
       "3. 13\n",
       "4. 18\n",
       "\n",
       "\n"
      ],
      "text/plain": [
       "[1]  3  8 13 18"
      ]
     },
     "metadata": {},
     "output_type": "display_data"
    }
   ],
   "source": [
    "y [3,] # 3ª linha da matriz\n"
   ]
  },
  {
   "cell_type": "code",
   "execution_count": 15,
   "metadata": {},
   "outputs": [
    {
     "data": {
      "text/html": [
       "<table class=\"dataframe\">\n",
       "<caption>A matrix: 3 × 3 of type int</caption>\n",
       "<tbody>\n",
       "\t<tr><td>2</td><td>7</td><td>12</td></tr>\n",
       "\t<tr><td>3</td><td>8</td><td>13</td></tr>\n",
       "\t<tr><td>4</td><td>9</td><td>14</td></tr>\n",
       "</tbody>\n",
       "</table>\n"
      ],
      "text/latex": [
       "A matrix: 3 × 3 of type int\n",
       "\\begin{tabular}{lll}\n",
       "\t 2 & 7 & 12\\\\\n",
       "\t 3 & 8 & 13\\\\\n",
       "\t 4 & 9 & 14\\\\\n",
       "\\end{tabular}\n"
      ],
      "text/markdown": [
       "\n",
       "A matrix: 3 × 3 of type int\n",
       "\n",
       "| 2 | 7 | 12 |\n",
       "| 3 | 8 | 13 |\n",
       "| 4 | 9 | 14 |\n",
       "\n"
      ],
      "text/plain": [
       "     [,1] [,2] [,3]\n",
       "[1,] 2    7    12  \n",
       "[2,] 3    8    13  \n",
       "[3,] 4    9    14  "
      ]
     },
     "metadata": {},
     "output_type": "display_data"
    }
   ],
   "source": [
    "y [2:4 , 1:3] # linhas 2,3,4 de colunas 1,2,3"
   ]
  },
  {
   "cell_type": "code",
   "execution_count": 16,
   "metadata": {},
   "outputs": [
    {
     "data": {
      "text/html": [
       "<table class=\"dataframe\">\n",
       "<caption>A matrix: 2 × 2 of type dbl</caption>\n",
       "<thead>\n",
       "\t<tr><th></th><th scope=col>C1</th><th scope=col>C2</th></tr>\n",
       "</thead>\n",
       "<tbody>\n",
       "\t<tr><th scope=row>R1</th><td> 1</td><td>26</td></tr>\n",
       "\t<tr><th scope=row>R2</th><td>24</td><td>68</td></tr>\n",
       "</tbody>\n",
       "</table>\n"
      ],
      "text/latex": [
       "A matrix: 2 × 2 of type dbl\n",
       "\\begin{tabular}{r|ll}\n",
       "  & C1 & C2\\\\\n",
       "\\hline\n",
       "\tR1 &  1 & 26\\\\\n",
       "\tR2 & 24 & 68\\\\\n",
       "\\end{tabular}\n"
      ],
      "text/markdown": [
       "\n",
       "A matrix: 2 × 2 of type dbl\n",
       "\n",
       "| <!--/--> | C1 | C2 |\n",
       "|---|---|---|\n",
       "| R1 |  1 | 26 |\n",
       "| R2 | 24 | 68 |\n",
       "\n"
      ],
      "text/plain": [
       "   C1 C2\n",
       "R1  1 26\n",
       "R2 24 68"
      ]
     },
     "metadata": {},
     "output_type": "display_data"
    }
   ],
   "source": [
    "# outro exemplo\n",
    "celulas <- c(1,26,24,68)\n",
    "nomeslinhas <- c(\"R1\", \"R2\")\n",
    "nomescolunas <- c(\"C1\", \"C2\")\n",
    "\n",
    "minhamatriz <- matrix(celulas, nrow=2, ncol=2,\n",
    "  byrow=TRUE, dimnames=list(nomeslinhas, nomescolunas)) \n",
    "\n",
    "minhamatriz"
   ]
  },
  {
   "cell_type": "markdown",
   "metadata": {},
   "source": [
    "# Dataframe"
   ]
  },
  {
   "cell_type": "code",
   "execution_count": 17,
   "metadata": {},
   "outputs": [
    {
     "data": {
      "text/html": [
       "<table class=\"dataframe\">\n",
       "<caption>A data.frame: 4 × 3</caption>\n",
       "<thead>\n",
       "\t<tr><th scope=col>d</th><th scope=col>e</th><th scope=col>f</th></tr>\n",
       "\t<tr><th scope=col>&lt;dbl&gt;</th><th scope=col>&lt;chr&gt;</th><th scope=col>&lt;lgl&gt;</th></tr>\n",
       "</thead>\n",
       "<tbody>\n",
       "\t<tr><td>1</td><td>vermelho</td><td> TRUE</td></tr>\n",
       "\t<tr><td>2</td><td>branco  </td><td> TRUE</td></tr>\n",
       "\t<tr><td>3</td><td>vermelho</td><td> TRUE</td></tr>\n",
       "\t<tr><td>4</td><td>NA      </td><td>FALSE</td></tr>\n",
       "</tbody>\n",
       "</table>\n"
      ],
      "text/latex": [
       "A data.frame: 4 × 3\n",
       "\\begin{tabular}{lll}\n",
       " d & e & f\\\\\n",
       " <dbl> & <chr> & <lgl>\\\\\n",
       "\\hline\n",
       "\t 1 & vermelho &  TRUE\\\\\n",
       "\t 2 & branco   &  TRUE\\\\\n",
       "\t 3 & vermelho &  TRUE\\\\\n",
       "\t 4 & NA       & FALSE\\\\\n",
       "\\end{tabular}\n"
      ],
      "text/markdown": [
       "\n",
       "A data.frame: 4 × 3\n",
       "\n",
       "| d &lt;dbl&gt; | e &lt;chr&gt; | f &lt;lgl&gt; |\n",
       "|---|---|---|\n",
       "| 1 | vermelho |  TRUE |\n",
       "| 2 | branco   |  TRUE |\n",
       "| 3 | vermelho |  TRUE |\n",
       "| 4 | NA       | FALSE |\n",
       "\n"
      ],
      "text/plain": [
       "  d e        f    \n",
       "1 1 vermelho  TRUE\n",
       "2 2 branco    TRUE\n",
       "3 3 vermelho  TRUE\n",
       "4 4 NA       FALSE"
      ]
     },
     "metadata": {},
     "output_type": "display_data"
    }
   ],
   "source": [
    "d <- c(1,2,3,4)\n",
    "e <- c(\"vermelho\", \"branco\", \"vermelho\", NA)\n",
    "f <- c(TRUE,TRUE,TRUE,FALSE)\n",
    "\n",
    "meusdados <- data.frame(d,e,f)\n",
    "\n",
    "meusdados\n"
   ]
  },
  {
   "cell_type": "code",
   "execution_count": 18,
   "metadata": {},
   "outputs": [
    {
     "data": {
      "text/html": [
       "<table class=\"dataframe\">\n",
       "<caption>A data.frame: 4 × 3</caption>\n",
       "<thead>\n",
       "\t<tr><th scope=col>ID</th><th scope=col>Cor</th><th scope=col>Flag</th></tr>\n",
       "\t<tr><th scope=col>&lt;dbl&gt;</th><th scope=col>&lt;chr&gt;</th><th scope=col>&lt;lgl&gt;</th></tr>\n",
       "</thead>\n",
       "<tbody>\n",
       "\t<tr><td>1</td><td>vermelho</td><td> TRUE</td></tr>\n",
       "\t<tr><td>2</td><td>branco  </td><td> TRUE</td></tr>\n",
       "\t<tr><td>3</td><td>vermelho</td><td> TRUE</td></tr>\n",
       "\t<tr><td>4</td><td>NA      </td><td>FALSE</td></tr>\n",
       "</tbody>\n",
       "</table>\n"
      ],
      "text/latex": [
       "A data.frame: 4 × 3\n",
       "\\begin{tabular}{lll}\n",
       " ID & Cor & Flag\\\\\n",
       " <dbl> & <chr> & <lgl>\\\\\n",
       "\\hline\n",
       "\t 1 & vermelho &  TRUE\\\\\n",
       "\t 2 & branco   &  TRUE\\\\\n",
       "\t 3 & vermelho &  TRUE\\\\\n",
       "\t 4 & NA       & FALSE\\\\\n",
       "\\end{tabular}\n"
      ],
      "text/markdown": [
       "\n",
       "A data.frame: 4 × 3\n",
       "\n",
       "| ID &lt;dbl&gt; | Cor &lt;chr&gt; | Flag &lt;lgl&gt; |\n",
       "|---|---|---|\n",
       "| 1 | vermelho |  TRUE |\n",
       "| 2 | branco   |  TRUE |\n",
       "| 3 | vermelho |  TRUE |\n",
       "| 4 | NA       | FALSE |\n",
       "\n"
      ],
      "text/plain": [
       "  ID Cor      Flag \n",
       "1 1  vermelho  TRUE\n",
       "2 2  branco    TRUE\n",
       "3 3  vermelho  TRUE\n",
       "4 4  NA       FALSE"
      ]
     },
     "metadata": {},
     "output_type": "display_data"
    }
   ],
   "source": [
    "colnames(meusdados) <- c(\"ID\",\"Cor\",\"Flag\") #nomes de variáveis\n",
    "meusdados\n"
   ]
  },
  {
   "cell_type": "code",
   "execution_count": 19,
   "metadata": {},
   "outputs": [
    {
     "data": {
      "text/html": [
       "<style>\n",
       ".dl-inline {width: auto; margin:0; padding: 0}\n",
       ".dl-inline>dt, .dl-inline>dd {float: none; width: auto; display: inline-block}\n",
       ".dl-inline>dt::after {content: \":\\0020\"; padding-right: .5ex}\n",
       ".dl-inline>dt:not(:first-of-type) {padding-left: .5ex}\n",
       "</style><dl class=dl-inline><dt>ID</dt><dd>0</dd><dt>Cor</dt><dd>0.25</dd><dt>Flag</dt><dd>0</dd></dl>\n"
      ],
      "text/latex": [
       "\\begin{description*}\n",
       "\\item[ID] 0\n",
       "\\item[Cor] 0.25\n",
       "\\item[Flag] 0\n",
       "\\end{description*}\n"
      ],
      "text/markdown": [
       "ID\n",
       ":   0Cor\n",
       ":   0.25Flag\n",
       ":   0\n",
       "\n"
      ],
      "text/plain": [
       "  ID  Cor Flag \n",
       "0.00 0.25 0.00 "
      ]
     },
     "metadata": {},
     "output_type": "display_data"
    },
    {
     "data": {
      "text/html": [
       "<table class=\"dataframe\">\n",
       "<caption>A data.frame: 4 × 3</caption>\n",
       "<thead>\n",
       "\t<tr><th scope=col>ID</th><th scope=col>Cor</th><th scope=col>Flag</th></tr>\n",
       "\t<tr><th scope=col>&lt;dbl&gt;</th><th scope=col>&lt;chr&gt;</th><th scope=col>&lt;lgl&gt;</th></tr>\n",
       "</thead>\n",
       "<tbody>\n",
       "\t<tr><td>1</td><td>vermelho</td><td> TRUE</td></tr>\n",
       "\t<tr><td>2</td><td>branco  </td><td> TRUE</td></tr>\n",
       "\t<tr><td>3</td><td>vermelho</td><td> TRUE</td></tr>\n",
       "\t<tr><td>4</td><td>NA      </td><td>FALSE</td></tr>\n",
       "</tbody>\n",
       "</table>\n"
      ],
      "text/latex": [
       "A data.frame: 4 × 3\n",
       "\\begin{tabular}{lll}\n",
       " ID & Cor & Flag\\\\\n",
       " <dbl> & <chr> & <lgl>\\\\\n",
       "\\hline\n",
       "\t 1 & vermelho &  TRUE\\\\\n",
       "\t 2 & branco   &  TRUE\\\\\n",
       "\t 3 & vermelho &  TRUE\\\\\n",
       "\t 4 & NA       & FALSE\\\\\n",
       "\\end{tabular}\n"
      ],
      "text/markdown": [
       "\n",
       "A data.frame: 4 × 3\n",
       "\n",
       "| ID &lt;dbl&gt; | Cor &lt;chr&gt; | Flag &lt;lgl&gt; |\n",
       "|---|---|---|\n",
       "| 1 | vermelho |  TRUE |\n",
       "| 2 | branco   |  TRUE |\n",
       "| 3 | vermelho |  TRUE |\n",
       "| 4 | NA       | FALSE |\n",
       "\n"
      ],
      "text/plain": [
       "  ID Cor      Flag \n",
       "1 1  vermelho  TRUE\n",
       "2 2  branco    TRUE\n",
       "3 3  vermelho  TRUE\n",
       "4 4  NA       FALSE"
      ]
     },
     "metadata": {},
     "output_type": "display_data"
    }
   ],
   "source": [
    "colMeans(is.na(meusdados)) #% de NA na coluna\n",
    "#Criando um dataframe que tenha sempre X% de dados existentes\n",
    "\n",
    "meusdados2 <- meusdados[, colMeans(is.na(meusdados)) <= .25]\n",
    "meusdados2"
   ]
  },
  {
   "cell_type": "markdown",
   "metadata": {},
   "source": [
    "# Funções"
   ]
  },
  {
   "cell_type": "code",
   "execution_count": 20,
   "metadata": {},
   "outputs": [
    {
     "data": {
      "text/html": [
       "10"
      ],
      "text/latex": [
       "10"
      ],
      "text/markdown": [
       "10"
      ],
      "text/plain": [
       "[1] 10"
      ]
     },
     "metadata": {},
     "output_type": "display_data"
    }
   ],
   "source": [
    "x <- function(a,b){\n",
    "  a * b\n",
    "}\n",
    "\n",
    "x(5,2)"
   ]
  },
  {
   "cell_type": "code",
   "execution_count": 21,
   "metadata": {},
   "outputs": [],
   "source": [
    "# Informa que são duas casas decimais, que o separador de dezena com virgula e separador de milhar com ponto.\n",
    "formatarMoeda <- function(valor)\n",
    "{\n",
    "  paste(\"R$ \",format(valor, nsmall=2,\n",
    "                     decimal.mark=\",\",\n",
    "                     big.mark=\".\",\n",
    "                     digits=2) ,sep=\"\")\n",
    "}\n"
   ]
  },
  {
   "cell_type": "code",
   "execution_count": 22,
   "metadata": {},
   "outputs": [
    {
     "data": {
      "text/html": [
       "'R$ 10.052,20'"
      ],
      "text/latex": [
       "'R\\$ 10.052,20'"
      ],
      "text/markdown": [
       "'R$ 10.052,20'"
      ],
      "text/plain": [
       "[1] \"R$ 10.052,20\""
      ]
     },
     "metadata": {},
     "output_type": "display_data"
    }
   ],
   "source": [
    "formatarMoeda(10052.2000)"
   ]
  },
  {
   "cell_type": "markdown",
   "metadata": {},
   "source": [
    "# Controles e Laços (Loops)"
   ]
  },
  {
   "cell_type": "code",
   "execution_count": 23,
   "metadata": {},
   "outputs": [
    {
     "name": "stdout",
     "output_type": "stream",
     "text": [
      " [1]  1  2  3  4  5  6  7  8  9 15 16 17 18 19 20\n"
     ]
    }
   ],
   "source": [
    "x = 1:9\n",
    "\n",
    "if (length(x) <= 10) {\n",
    "  x <- c(x,15:20);\n",
    "  print(x) \n",
    "} else {\n",
    "  print(x[1])\n",
    "}"
   ]
  },
  {
   "cell_type": "code",
   "execution_count": 24,
   "metadata": {},
   "outputs": [
    {
     "data": {
      "text/html": [
       "<style>\n",
       ".list-inline {list-style: none; margin:0; padding: 0}\n",
       ".list-inline>li {display: inline-block}\n",
       ".list-inline>li:not(:last-child)::after {content: \"\\00b7\"; padding: 0 .5ex}\n",
       "</style>\n",
       "<ol class=list-inline><li>5.49812610002387</li><li>7.00495012208696</li><li>4.57665620567633</li><li>3.1111238085761</li><li>6.19389939780446</li><li>2.28290847008312</li><li>3.07268273543271</li><li>5.29210668242849</li><li>6.64279987526299</li><li>5.18464350556994</li><li>16</li><li>17</li><li>18</li><li>19</li><li>20</li></ol>\n"
      ],
      "text/latex": [
       "\\begin{enumerate*}\n",
       "\\item 5.49812610002387\n",
       "\\item 7.00495012208696\n",
       "\\item 4.57665620567633\n",
       "\\item 3.1111238085761\n",
       "\\item 6.19389939780446\n",
       "\\item 2.28290847008312\n",
       "\\item 3.07268273543271\n",
       "\\item 5.29210668242849\n",
       "\\item 6.64279987526299\n",
       "\\item 5.18464350556994\n",
       "\\item 16\n",
       "\\item 17\n",
       "\\item 18\n",
       "\\item 19\n",
       "\\item 20\n",
       "\\end{enumerate*}\n"
      ],
      "text/markdown": [
       "1. 5.49812610002387\n",
       "2. 7.00495012208696\n",
       "3. 4.57665620567633\n",
       "4. 3.1111238085761\n",
       "5. 6.19389939780446\n",
       "6. 2.28290847008312\n",
       "7. 3.07268273543271\n",
       "8. 5.29210668242849\n",
       "9. 6.64279987526299\n",
       "10. 5.18464350556994\n",
       "11. 16\n",
       "12. 17\n",
       "13. 18\n",
       "14. 19\n",
       "15. 20\n",
       "\n",
       "\n"
      ],
      "text/plain": [
       " [1]  5.498126  7.004950  4.576656  3.111124  6.193899  2.282908  3.072683\n",
       " [8]  5.292107  6.642800  5.184644 16.000000 17.000000 18.000000 19.000000\n",
       "[15] 20.000000"
      ]
     },
     "metadata": {},
     "output_type": "display_data"
    }
   ],
   "source": [
    "#########################\n",
    "# Estrutura de Laço FOR\n",
    "for(i in 1:10) {\n",
    "  x[i] <- rnorm(1,5,2)\n",
    "}\n",
    "x"
   ]
  },
  {
   "cell_type": "code",
   "execution_count": 25,
   "metadata": {},
   "outputs": [
    {
     "name": "stdout",
     "output_type": "stream",
     "text": [
      "[1] 1\n",
      "[1] 3\n",
      "[1] 5\n",
      "[1] 7\n",
      "[1] 9\n"
     ]
    }
   ],
   "source": [
    "# Estrutura de Laço WHILE\n",
    "j = 1\n",
    "while( j  < 10) {\n",
    "  print(j)\n",
    "  j <- j + 2 \n",
    "}"
   ]
  },
  {
   "cell_type": "markdown",
   "metadata": {},
   "source": [
    "# Estatística"
   ]
  },
  {
   "cell_type": "code",
   "execution_count": 26,
   "metadata": {},
   "outputs": [
    {
     "data": {
      "text/html": [
       "<table class=\"dataframe\">\n",
       "<caption>A data.frame: 6 × 2</caption>\n",
       "<thead>\n",
       "\t<tr><th></th><th scope=col>anos</th><th scope=col>salario</th></tr>\n",
       "\t<tr><th></th><th scope=col>&lt;int&gt;</th><th scope=col>&lt;int&gt;</th></tr>\n",
       "</thead>\n",
       "<tbody>\n",
       "\t<tr><th scope=row>1</th><td> 3</td><td>30</td></tr>\n",
       "\t<tr><th scope=row>2</th><td> 8</td><td>57</td></tr>\n",
       "\t<tr><th scope=row>3</th><td> 9</td><td>64</td></tr>\n",
       "\t<tr><th scope=row>4</th><td>13</td><td>72</td></tr>\n",
       "\t<tr><th scope=row>5</th><td> 3</td><td>36</td></tr>\n",
       "\t<tr><th scope=row>6</th><td> 6</td><td>43</td></tr>\n",
       "</tbody>\n",
       "</table>\n"
      ],
      "text/latex": [
       "A data.frame: 6 × 2\n",
       "\\begin{tabular}{r|ll}\n",
       "  & anos & salario\\\\\n",
       "  & <int> & <int>\\\\\n",
       "\\hline\n",
       "\t1 &  3 & 30\\\\\n",
       "\t2 &  8 & 57\\\\\n",
       "\t3 &  9 & 64\\\\\n",
       "\t4 & 13 & 72\\\\\n",
       "\t5 &  3 & 36\\\\\n",
       "\t6 &  6 & 43\\\\\n",
       "\\end{tabular}\n"
      ],
      "text/markdown": [
       "\n",
       "A data.frame: 6 × 2\n",
       "\n",
       "| <!--/--> | anos &lt;int&gt; | salario &lt;int&gt; |\n",
       "|---|---|---|\n",
       "| 1 |  3 | 30 |\n",
       "| 2 |  8 | 57 |\n",
       "| 3 |  9 | 64 |\n",
       "| 4 | 13 | 72 |\n",
       "| 5 |  3 | 36 |\n",
       "| 6 |  6 | 43 |\n",
       "\n"
      ],
      "text/plain": [
       "  anos salario\n",
       "1  3   30     \n",
       "2  8   57     \n",
       "3  9   64     \n",
       "4 13   72     \n",
       "5  3   36     \n",
       "6  6   43     "
      ]
     },
     "metadata": {},
     "output_type": "display_data"
    }
   ],
   "source": [
    "#Gerando a massa de dados\n",
    "arquivo <- \"dados.csv\"\n",
    "dados <- read.csv(arquivo, header=TRUE, sep=\",\")\n",
    "\n",
    "colnames(dados) <- c(\"anos\",\"salario\")\n",
    "\n",
    "head(dados)"
   ]
  },
  {
   "cell_type": "code",
   "execution_count": 27,
   "metadata": {},
   "outputs": [
    {
     "data": {
      "text/html": [
       "1"
      ],
      "text/latex": [
       "1"
      ],
      "text/markdown": [
       "1"
      ],
      "text/plain": [
       "[1] 1"
      ]
     },
     "metadata": {},
     "output_type": "display_data"
    },
    {
     "data": {
      "text/html": [
       "20"
      ],
      "text/latex": [
       "20"
      ],
      "text/markdown": [
       "20"
      ],
      "text/plain": [
       "[1] 20"
      ]
     },
     "metadata": {},
     "output_type": "display_data"
    }
   ],
   "source": [
    "# Valores Mínimos\n",
    "min(dados$anos)\n",
    "min(dados$salario)\n"
   ]
  },
  {
   "cell_type": "code",
   "execution_count": 28,
   "metadata": {},
   "outputs": [
    {
     "data": {
      "text/html": [
       "<style>\n",
       ".dl-inline {width: auto; margin:0; padding: 0}\n",
       ".dl-inline>dt, .dl-inline>dd {float: none; width: auto; display: inline-block}\n",
       ".dl-inline>dt::after {content: \":\\0020\"; padding-right: .5ex}\n",
       ".dl-inline>dt:not(:first-of-type) {padding-left: .5ex}\n",
       "</style><dl class=dl-inline><dt>0%</dt><dd>1</dd><dt>25%</dt><dd>3.75</dd><dt>50%</dt><dd>8.5</dd><dt>75%</dt><dd>12.5</dd><dt>100%</dt><dd>21</dd></dl>\n"
      ],
      "text/latex": [
       "\\begin{description*}\n",
       "\\item[0\\textbackslash{}\\%] 1\n",
       "\\item[25\\textbackslash{}\\%] 3.75\n",
       "\\item[50\\textbackslash{}\\%] 8.5\n",
       "\\item[75\\textbackslash{}\\%] 12.5\n",
       "\\item[100\\textbackslash{}\\%] 21\n",
       "\\end{description*}\n"
      ],
      "text/markdown": [
       "0%\n",
       ":   125%\n",
       ":   3.7550%\n",
       ":   8.575%\n",
       ":   12.5100%\n",
       ":   21\n",
       "\n"
      ],
      "text/plain": [
       "   0%   25%   50%   75%  100% \n",
       " 1.00  3.75  8.50 12.50 21.00 "
      ]
     },
     "metadata": {},
     "output_type": "display_data"
    },
    {
     "data": {
      "text/html": [
       "<style>\n",
       ".dl-inline {width: auto; margin:0; padding: 0}\n",
       ".dl-inline>dt, .dl-inline>dd {float: none; width: auto; display: inline-block}\n",
       ".dl-inline>dt::after {content: \":\\0020\"; padding-right: .5ex}\n",
       ".dl-inline>dt:not(:first-of-type) {padding-left: .5ex}\n",
       "</style><dl class=dl-inline><dt>0%</dt><dd>20</dd><dt>25%</dt><dd>37.75</dd><dt>50%</dt><dd>58</dd><dt>75%</dt><dd>70</dd><dt>100%</dt><dd>90</dd></dl>\n"
      ],
      "text/latex": [
       "\\begin{description*}\n",
       "\\item[0\\textbackslash{}\\%] 20\n",
       "\\item[25\\textbackslash{}\\%] 37.75\n",
       "\\item[50\\textbackslash{}\\%] 58\n",
       "\\item[75\\textbackslash{}\\%] 70\n",
       "\\item[100\\textbackslash{}\\%] 90\n",
       "\\end{description*}\n"
      ],
      "text/markdown": [
       "0%\n",
       ":   2025%\n",
       ":   37.7550%\n",
       ":   5875%\n",
       ":   70100%\n",
       ":   90\n",
       "\n"
      ],
      "text/plain": [
       "   0%   25%   50%   75%  100% \n",
       "20.00 37.75 58.00 70.00 90.00 "
      ]
     },
     "metadata": {},
     "output_type": "display_data"
    }
   ],
   "source": [
    "# Valores dos Quartis / Mediana\n",
    "quantile(dados$anos)\n",
    "quantile(dados$salario)\n",
    "\n"
   ]
  },
  {
   "cell_type": "code",
   "execution_count": 29,
   "metadata": {},
   "outputs": [
    {
     "data": {
      "text/html": [
       "9.1"
      ],
      "text/latex": [
       "9.1"
      ],
      "text/markdown": [
       "9.1"
      ],
      "text/plain": [
       "[1] 9.1"
      ]
     },
     "metadata": {},
     "output_type": "display_data"
    },
    {
     "data": {
      "text/html": [
       "55.4"
      ],
      "text/latex": [
       "55.4"
      ],
      "text/markdown": [
       "55.4"
      ],
      "text/plain": [
       "[1] 55.4"
      ]
     },
     "metadata": {},
     "output_type": "display_data"
    }
   ],
   "source": [
    "# Média\n",
    "mean(dados$anos)\n",
    "mean(dados$salario)\n",
    "\n",
    "\n"
   ]
  },
  {
   "cell_type": "code",
   "execution_count": 30,
   "metadata": {},
   "outputs": [
    {
     "data": {
      "text/html": [
       "21"
      ],
      "text/latex": [
       "21"
      ],
      "text/markdown": [
       "21"
      ],
      "text/plain": [
       "[1] 21"
      ]
     },
     "metadata": {},
     "output_type": "display_data"
    },
    {
     "data": {
      "text/html": [
       "90"
      ],
      "text/latex": [
       "90"
      ],
      "text/markdown": [
       "90"
      ],
      "text/plain": [
       "[1] 90"
      ]
     },
     "metadata": {},
     "output_type": "display_data"
    }
   ],
   "source": [
    "# Valores Máximos\n",
    "max(dados$anos)\n",
    "max(dados$salario)\n",
    "\n"
   ]
  },
  {
   "cell_type": "code",
   "execution_count": 31,
   "metadata": {},
   "outputs": [
    {
     "data": {
      "text/plain": [
       "      anos          salario     \n",
       " Min.   : 1.00   Min.   :20.00  \n",
       " 1st Qu.: 3.75   1st Qu.:37.75  \n",
       " Median : 8.50   Median :58.00  \n",
       " Mean   : 9.10   Mean   :55.40  \n",
       " 3rd Qu.:12.50   3rd Qu.:70.00  \n",
       " Max.   :21.00   Max.   :90.00  "
      ]
     },
     "metadata": {},
     "output_type": "display_data"
    }
   ],
   "source": [
    "# Tudo junto\n",
    "summary(dados)\n",
    "\n"
   ]
  },
  {
   "cell_type": "code",
   "execution_count": 32,
   "metadata": {},
   "outputs": [
    {
     "data": {
      "text/html": [
       "6.31488541287788"
      ],
      "text/latex": [
       "6.31488541287788"
      ],
      "text/markdown": [
       "6.31488541287788"
      ],
      "text/plain": [
       "[1] 6.314885"
      ]
     },
     "metadata": {},
     "output_type": "display_data"
    },
    {
     "data": {
      "text/html": [
       "22.9792176638902"
      ],
      "text/latex": [
       "22.9792176638902"
      ],
      "text/markdown": [
       "22.9792176638902"
      ],
      "text/plain": [
       "[1] 22.97922"
      ]
     },
     "metadata": {},
     "output_type": "display_data"
    }
   ],
   "source": [
    "# Devio Padrão\n",
    "sd(dados$anos)\n",
    "sd(dados$salario)\n",
    "\n"
   ]
  },
  {
   "cell_type": "code",
   "execution_count": 33,
   "metadata": {},
   "outputs": [
    {
     "data": {
      "text/html": [
       "<style>\n",
       ".list-inline {list-style: none; margin:0; padding: 0}\n",
       ".list-inline>li {display: inline-block}\n",
       ".list-inline>li:not(:last-child)::after {content: \"\\00b7\"; padding: 0 .5ex}\n",
       "</style>\n",
       "<ol class=list-inline><li>118.99</li><li>58.04</li><li>53.95</li><li>43.76</li><li>56.88</li><li>65.27</li><li>-2.7</li><li>83.45</li><li>43.88</li><li>71.69</li><li>93.72</li><li>45.27</li><li>32.23</li><li>20.87</li><li>42.14</li><li>91.48</li><li>59.52</li><li>47.97</li><li>25.85</li><li>29.27</li><li>40.44</li><li>5.67</li><li>63.55</li><li>16.65</li><li>102.8</li><li>96.56</li><li>23.11</li><li>51.94</li><li>55.21</li><li>52.44</li><li>84</li><li>57.67</li><li>49.84</li><li>78.5</li><li>46.73</li><li>45.82</li><li>57.96</li><li>43.7</li><li>22.52</li><li>57.44</li><li>67.81</li><li>82.77</li><li>41.64</li><li>71.06</li><li>52.81</li><li>46.07</li><li>73.65</li><li>79.53</li><li>0.28</li><li>54.18</li><li>35.6</li><li>106.79</li><li>71.35</li><li>60.41</li><li>38.5</li><li>59.75</li><li>76.46</li><li>79.64</li><li>48.48</li><li>62.8</li><li>94.96</li><li>42.79</li><li>49.89</li><li>45.63</li><li>59.32</li><li>29.93</li><li>81.55</li><li>50.42</li><li>77.76</li><li>72.88</li><li>61.59</li><li>58.22</li><li>58.74</li><li>80.03</li><li>55.57</li><li>67.42</li><li>53.78</li><li>33.66</li><li>16.91</li><li>74.37</li><li>56.07</li><li>61.43</li><li>80.59</li><li>60.99</li><li>-0.9</li><li>33.74</li><li>90.3</li><li>19.71</li><li>35.02</li><li>35.13</li><li>76.05</li><li>55.98</li><li>-14.12</li><li>38.17</li><li>57.08</li><li>84.6</li><li>19.99</li><li>79.74</li><li>99.98</li><li>74.61</li><li>66.13</li><li>53.83</li><li>52.63</li><li>91.42</li><li>38.23</li><li>82.92</li><li>50.63</li><li>9.98</li><li>76.67</li><li>43.11</li><li>96.86</li><li>85.98</li><li>23.64</li><li>79.88</li><li>63.15</li><li>48.13</li><li>80.94</li><li>65.02</li><li>72.95</li><li>82.6</li><li>66.31</li><li>29.74</li><li>74.36</li><li>75.67</li><li>33.1</li><li>28.71</li><li>77.38</li><li>43.86</li><li>36.23</li><li>37.24</li><li>70.6</li><li>28.9</li><li>53.15</li><li>45.79</li><li>27.23</li><li>66.77</li><li>51.02</li><li>48.44</li><li>85.08</li><li>76.2</li><li>25.7</li><li>73.43</li><li>64.96</li><li>51.49</li><li>50.9</li><li>68.45</li><li>45.57</li><li>75.72</li><li>46.34</li><li>98.57</li></ol>\n"
      ],
      "text/latex": [
       "\\begin{enumerate*}\n",
       "\\item 118.99\n",
       "\\item 58.04\n",
       "\\item 53.95\n",
       "\\item 43.76\n",
       "\\item 56.88\n",
       "\\item 65.27\n",
       "\\item -2.7\n",
       "\\item 83.45\n",
       "\\item 43.88\n",
       "\\item 71.69\n",
       "\\item 93.72\n",
       "\\item 45.27\n",
       "\\item 32.23\n",
       "\\item 20.87\n",
       "\\item 42.14\n",
       "\\item 91.48\n",
       "\\item 59.52\n",
       "\\item 47.97\n",
       "\\item 25.85\n",
       "\\item 29.27\n",
       "\\item 40.44\n",
       "\\item 5.67\n",
       "\\item 63.55\n",
       "\\item 16.65\n",
       "\\item 102.8\n",
       "\\item 96.56\n",
       "\\item 23.11\n",
       "\\item 51.94\n",
       "\\item 55.21\n",
       "\\item 52.44\n",
       "\\item 84\n",
       "\\item 57.67\n",
       "\\item 49.84\n",
       "\\item 78.5\n",
       "\\item 46.73\n",
       "\\item 45.82\n",
       "\\item 57.96\n",
       "\\item 43.7\n",
       "\\item 22.52\n",
       "\\item 57.44\n",
       "\\item 67.81\n",
       "\\item 82.77\n",
       "\\item 41.64\n",
       "\\item 71.06\n",
       "\\item 52.81\n",
       "\\item 46.07\n",
       "\\item 73.65\n",
       "\\item 79.53\n",
       "\\item 0.28\n",
       "\\item 54.18\n",
       "\\item 35.6\n",
       "\\item 106.79\n",
       "\\item 71.35\n",
       "\\item 60.41\n",
       "\\item 38.5\n",
       "\\item 59.75\n",
       "\\item 76.46\n",
       "\\item 79.64\n",
       "\\item 48.48\n",
       "\\item 62.8\n",
       "\\item 94.96\n",
       "\\item 42.79\n",
       "\\item 49.89\n",
       "\\item 45.63\n",
       "\\item 59.32\n",
       "\\item 29.93\n",
       "\\item 81.55\n",
       "\\item 50.42\n",
       "\\item 77.76\n",
       "\\item 72.88\n",
       "\\item 61.59\n",
       "\\item 58.22\n",
       "\\item 58.74\n",
       "\\item 80.03\n",
       "\\item 55.57\n",
       "\\item 67.42\n",
       "\\item 53.78\n",
       "\\item 33.66\n",
       "\\item 16.91\n",
       "\\item 74.37\n",
       "\\item 56.07\n",
       "\\item 61.43\n",
       "\\item 80.59\n",
       "\\item 60.99\n",
       "\\item -0.9\n",
       "\\item 33.74\n",
       "\\item 90.3\n",
       "\\item 19.71\n",
       "\\item 35.02\n",
       "\\item 35.13\n",
       "\\item 76.05\n",
       "\\item 55.98\n",
       "\\item -14.12\n",
       "\\item 38.17\n",
       "\\item 57.08\n",
       "\\item 84.6\n",
       "\\item 19.99\n",
       "\\item 79.74\n",
       "\\item 99.98\n",
       "\\item 74.61\n",
       "\\item 66.13\n",
       "\\item 53.83\n",
       "\\item 52.63\n",
       "\\item 91.42\n",
       "\\item 38.23\n",
       "\\item 82.92\n",
       "\\item 50.63\n",
       "\\item 9.98\n",
       "\\item 76.67\n",
       "\\item 43.11\n",
       "\\item 96.86\n",
       "\\item 85.98\n",
       "\\item 23.64\n",
       "\\item 79.88\n",
       "\\item 63.15\n",
       "\\item 48.13\n",
       "\\item 80.94\n",
       "\\item 65.02\n",
       "\\item 72.95\n",
       "\\item 82.6\n",
       "\\item 66.31\n",
       "\\item 29.74\n",
       "\\item 74.36\n",
       "\\item 75.67\n",
       "\\item 33.1\n",
       "\\item 28.71\n",
       "\\item 77.38\n",
       "\\item 43.86\n",
       "\\item 36.23\n",
       "\\item 37.24\n",
       "\\item 70.6\n",
       "\\item 28.9\n",
       "\\item 53.15\n",
       "\\item 45.79\n",
       "\\item 27.23\n",
       "\\item 66.77\n",
       "\\item 51.02\n",
       "\\item 48.44\n",
       "\\item 85.08\n",
       "\\item 76.2\n",
       "\\item 25.7\n",
       "\\item 73.43\n",
       "\\item 64.96\n",
       "\\item 51.49\n",
       "\\item 50.9\n",
       "\\item 68.45\n",
       "\\item 45.57\n",
       "\\item 75.72\n",
       "\\item 46.34\n",
       "\\item 98.57\n",
       "\\end{enumerate*}\n"
      ],
      "text/markdown": [
       "1. 118.99\n",
       "2. 58.04\n",
       "3. 53.95\n",
       "4. 43.76\n",
       "5. 56.88\n",
       "6. 65.27\n",
       "7. -2.7\n",
       "8. 83.45\n",
       "9. 43.88\n",
       "10. 71.69\n",
       "11. 93.72\n",
       "12. 45.27\n",
       "13. 32.23\n",
       "14. 20.87\n",
       "15. 42.14\n",
       "16. 91.48\n",
       "17. 59.52\n",
       "18. 47.97\n",
       "19. 25.85\n",
       "20. 29.27\n",
       "21. 40.44\n",
       "22. 5.67\n",
       "23. 63.55\n",
       "24. 16.65\n",
       "25. 102.8\n",
       "26. 96.56\n",
       "27. 23.11\n",
       "28. 51.94\n",
       "29. 55.21\n",
       "30. 52.44\n",
       "31. 84\n",
       "32. 57.67\n",
       "33. 49.84\n",
       "34. 78.5\n",
       "35. 46.73\n",
       "36. 45.82\n",
       "37. 57.96\n",
       "38. 43.7\n",
       "39. 22.52\n",
       "40. 57.44\n",
       "41. 67.81\n",
       "42. 82.77\n",
       "43. 41.64\n",
       "44. 71.06\n",
       "45. 52.81\n",
       "46. 46.07\n",
       "47. 73.65\n",
       "48. 79.53\n",
       "49. 0.28\n",
       "50. 54.18\n",
       "51. 35.6\n",
       "52. 106.79\n",
       "53. 71.35\n",
       "54. 60.41\n",
       "55. 38.5\n",
       "56. 59.75\n",
       "57. 76.46\n",
       "58. 79.64\n",
       "59. 48.48\n",
       "60. 62.8\n",
       "61. 94.96\n",
       "62. 42.79\n",
       "63. 49.89\n",
       "64. 45.63\n",
       "65. 59.32\n",
       "66. 29.93\n",
       "67. 81.55\n",
       "68. 50.42\n",
       "69. 77.76\n",
       "70. 72.88\n",
       "71. 61.59\n",
       "72. 58.22\n",
       "73. 58.74\n",
       "74. 80.03\n",
       "75. 55.57\n",
       "76. 67.42\n",
       "77. 53.78\n",
       "78. 33.66\n",
       "79. 16.91\n",
       "80. 74.37\n",
       "81. 56.07\n",
       "82. 61.43\n",
       "83. 80.59\n",
       "84. 60.99\n",
       "85. -0.9\n",
       "86. 33.74\n",
       "87. 90.3\n",
       "88. 19.71\n",
       "89. 35.02\n",
       "90. 35.13\n",
       "91. 76.05\n",
       "92. 55.98\n",
       "93. -14.12\n",
       "94. 38.17\n",
       "95. 57.08\n",
       "96. 84.6\n",
       "97. 19.99\n",
       "98. 79.74\n",
       "99. 99.98\n",
       "100. 74.61\n",
       "101. 66.13\n",
       "102. 53.83\n",
       "103. 52.63\n",
       "104. 91.42\n",
       "105. 38.23\n",
       "106. 82.92\n",
       "107. 50.63\n",
       "108. 9.98\n",
       "109. 76.67\n",
       "110. 43.11\n",
       "111. 96.86\n",
       "112. 85.98\n",
       "113. 23.64\n",
       "114. 79.88\n",
       "115. 63.15\n",
       "116. 48.13\n",
       "117. 80.94\n",
       "118. 65.02\n",
       "119. 72.95\n",
       "120. 82.6\n",
       "121. 66.31\n",
       "122. 29.74\n",
       "123. 74.36\n",
       "124. 75.67\n",
       "125. 33.1\n",
       "126. 28.71\n",
       "127. 77.38\n",
       "128. 43.86\n",
       "129. 36.23\n",
       "130. 37.24\n",
       "131. 70.6\n",
       "132. 28.9\n",
       "133. 53.15\n",
       "134. 45.79\n",
       "135. 27.23\n",
       "136. 66.77\n",
       "137. 51.02\n",
       "138. 48.44\n",
       "139. 85.08\n",
       "140. 76.2\n",
       "141. 25.7\n",
       "142. 73.43\n",
       "143. 64.96\n",
       "144. 51.49\n",
       "145. 50.9\n",
       "146. 68.45\n",
       "147. 45.57\n",
       "148. 75.72\n",
       "149. 46.34\n",
       "150. 98.57\n",
       "\n",
       "\n"
      ],
      "text/plain": [
       "  [1] 118.99  58.04  53.95  43.76  56.88  65.27  -2.70  83.45  43.88  71.69\n",
       " [11]  93.72  45.27  32.23  20.87  42.14  91.48  59.52  47.97  25.85  29.27\n",
       " [21]  40.44   5.67  63.55  16.65 102.80  96.56  23.11  51.94  55.21  52.44\n",
       " [31]  84.00  57.67  49.84  78.50  46.73  45.82  57.96  43.70  22.52  57.44\n",
       " [41]  67.81  82.77  41.64  71.06  52.81  46.07  73.65  79.53   0.28  54.18\n",
       " [51]  35.60 106.79  71.35  60.41  38.50  59.75  76.46  79.64  48.48  62.80\n",
       " [61]  94.96  42.79  49.89  45.63  59.32  29.93  81.55  50.42  77.76  72.88\n",
       " [71]  61.59  58.22  58.74  80.03  55.57  67.42  53.78  33.66  16.91  74.37\n",
       " [81]  56.07  61.43  80.59  60.99  -0.90  33.74  90.30  19.71  35.02  35.13\n",
       " [91]  76.05  55.98 -14.12  38.17  57.08  84.60  19.99  79.74  99.98  74.61\n",
       "[101]  66.13  53.83  52.63  91.42  38.23  82.92  50.63   9.98  76.67  43.11\n",
       "[111]  96.86  85.98  23.64  79.88  63.15  48.13  80.94  65.02  72.95  82.60\n",
       "[121]  66.31  29.74  74.36  75.67  33.10  28.71  77.38  43.86  36.23  37.24\n",
       "[131]  70.60  28.90  53.15  45.79  27.23  66.77  51.02  48.44  85.08  76.20\n",
       "[141]  25.70  73.43  64.96  51.49  50.90  68.45  45.57  75.72  46.34  98.57"
      ]
     },
     "metadata": {},
     "output_type": "display_data"
    }
   ],
   "source": [
    "# Distribuição Normal\n",
    "round(\n",
    "rnorm(150, mean = mean(dados$salario), sd = sd(dados$salario))\n",
    ",2)"
   ]
  },
  {
   "cell_type": "markdown",
   "metadata": {},
   "source": [
    "# Acesso à Dados"
   ]
  },
  {
   "cell_type": "code",
   "execution_count": 34,
   "metadata": {},
   "outputs": [
    {
     "data": {
      "text/html": [
       "<table class=\"dataframe\">\n",
       "<caption>A data.frame: 6 × 18</caption>\n",
       "<thead>\n",
       "\t<tr><th></th><th scope=col>Ano</th><th scope=col>UF_ID</th><th scope=col>UF</th><th scope=col>Municipio_ID</th><th scope=col>Municipio</th><th scope=col>Regiao_Metropolitana</th><th scope=col>Mesorregiao_ID</th><th scope=col>Mesorregiao</th><th scope=col>Microrregioo_ID</th><th scope=col>Microrregiao</th><th scope=col>Valor_Agropecuaria</th><th scope=col>Valor_Industria</th><th scope=col>Valor_Servicos</th><th scope=col>Valor_Administracao</th><th scope=col>Valor_Impostos</th><th scope=col>PIB_Corrente</th><th scope=col>Populacao</th><th scope=col>PIB_PerCapita</th></tr>\n",
       "\t<tr><th></th><th scope=col>&lt;int&gt;</th><th scope=col>&lt;int&gt;</th><th scope=col>&lt;chr&gt;</th><th scope=col>&lt;int&gt;</th><th scope=col>&lt;chr&gt;</th><th scope=col>&lt;chr&gt;</th><th scope=col>&lt;int&gt;</th><th scope=col>&lt;chr&gt;</th><th scope=col>&lt;int&gt;</th><th scope=col>&lt;chr&gt;</th><th scope=col>&lt;dbl&gt;</th><th scope=col>&lt;dbl&gt;</th><th scope=col>&lt;dbl&gt;</th><th scope=col>&lt;dbl&gt;</th><th scope=col>&lt;dbl&gt;</th><th scope=col>&lt;dbl&gt;</th><th scope=col>&lt;int&gt;</th><th scope=col>&lt;dbl&gt;</th></tr>\n",
       "</thead>\n",
       "<tbody>\n",
       "\t<tr><th scope=row>1</th><td>1999</td><td>11</td><td>Rondonia</td><td>1100015</td><td>Alta Floresta DOeste</td><td></td><td>1102</td><td>Leste Rondoniense</td><td>11006</td><td>Cacoal           </td><td>29218.70</td><td> 4642.441</td><td> 53596.00</td><td>32720.74</td><td> 4159.380</td><td> 91616.52</td><td>NA</td><td>NA</td></tr>\n",
       "\t<tr><th scope=row>2</th><td>1999</td><td>11</td><td>Rondonia</td><td>1100023</td><td>Ariquemes           </td><td></td><td>1102</td><td>Leste Rondoniense</td><td>11003</td><td>Ariquemes        </td><td>30897.54</td><td>55892.252</td><td>204831.61</td><td>93715.30</td><td>32160.685</td><td>323782.09</td><td>NA</td><td>NA</td></tr>\n",
       "\t<tr><th scope=row>3</th><td>1999</td><td>11</td><td>Rondonia</td><td>1100031</td><td>Cabixi              </td><td></td><td>1102</td><td>Leste Rondoniense</td><td>11008</td><td>Colorado do Oeste</td><td>14964.06</td><td> 1322.313</td><td> 15248.17</td><td>10355.21</td><td>  864.456</td><td> 32399.00</td><td>NA</td><td>NA</td></tr>\n",
       "\t<tr><th scope=row>4</th><td>1999</td><td>11</td><td>Rondonia</td><td>1100049</td><td>Cacoal              </td><td></td><td>1102</td><td>Leste Rondoniense</td><td>11006</td><td>Cacoal           </td><td>57660.95</td><td>46232.032</td><td>207751.96</td><td>98184.46</td><td>33752.394</td><td>345397.34</td><td>NA</td><td>NA</td></tr>\n",
       "\t<tr><th scope=row>5</th><td>1999</td><td>11</td><td>Rondonia</td><td>1100056</td><td>Cerejeiras          </td><td></td><td>1102</td><td>Leste Rondoniense</td><td>11008</td><td>Colorado do Oeste</td><td>30456.10</td><td> 4561.603</td><td> 44733.07</td><td>25459.94</td><td> 4173.509</td><td> 83924.28</td><td>NA</td><td>NA</td></tr>\n",
       "\t<tr><th scope=row>6</th><td>1999</td><td>11</td><td>Rondonia</td><td>1100064</td><td>Colorado do Oeste   </td><td></td><td>1102</td><td>Leste Rondoniense</td><td>11008</td><td>Colorado do Oeste</td><td>21681.40</td><td> 5358.933</td><td> 48758.50</td><td>30672.05</td><td> 4034.352</td><td> 79833.18</td><td>NA</td><td>NA</td></tr>\n",
       "</tbody>\n",
       "</table>\n"
      ],
      "text/latex": [
       "A data.frame: 6 × 18\n",
       "\\begin{tabular}{r|llllllllllllllllll}\n",
       "  & Ano & UF\\_ID & UF & Municipio\\_ID & Municipio & Regiao\\_Metropolitana & Mesorregiao\\_ID & Mesorregiao & Microrregioo\\_ID & Microrregiao & Valor\\_Agropecuaria & Valor\\_Industria & Valor\\_Servicos & Valor\\_Administracao & Valor\\_Impostos & PIB\\_Corrente & Populacao & PIB\\_PerCapita\\\\\n",
       "  & <int> & <int> & <chr> & <int> & <chr> & <chr> & <int> & <chr> & <int> & <chr> & <dbl> & <dbl> & <dbl> & <dbl> & <dbl> & <dbl> & <int> & <dbl>\\\\\n",
       "\\hline\n",
       "\t1 & 1999 & 11 & Rondonia & 1100015 & Alta Floresta DOeste &  & 1102 & Leste Rondoniense & 11006 & Cacoal            & 29218.70 &  4642.441 &  53596.00 & 32720.74 &  4159.380 &  91616.52 & NA & NA\\\\\n",
       "\t2 & 1999 & 11 & Rondonia & 1100023 & Ariquemes            &  & 1102 & Leste Rondoniense & 11003 & Ariquemes         & 30897.54 & 55892.252 & 204831.61 & 93715.30 & 32160.685 & 323782.09 & NA & NA\\\\\n",
       "\t3 & 1999 & 11 & Rondonia & 1100031 & Cabixi               &  & 1102 & Leste Rondoniense & 11008 & Colorado do Oeste & 14964.06 &  1322.313 &  15248.17 & 10355.21 &   864.456 &  32399.00 & NA & NA\\\\\n",
       "\t4 & 1999 & 11 & Rondonia & 1100049 & Cacoal               &  & 1102 & Leste Rondoniense & 11006 & Cacoal            & 57660.95 & 46232.032 & 207751.96 & 98184.46 & 33752.394 & 345397.34 & NA & NA\\\\\n",
       "\t5 & 1999 & 11 & Rondonia & 1100056 & Cerejeiras           &  & 1102 & Leste Rondoniense & 11008 & Colorado do Oeste & 30456.10 &  4561.603 &  44733.07 & 25459.94 &  4173.509 &  83924.28 & NA & NA\\\\\n",
       "\t6 & 1999 & 11 & Rondonia & 1100064 & Colorado do Oeste    &  & 1102 & Leste Rondoniense & 11008 & Colorado do Oeste & 21681.40 &  5358.933 &  48758.50 & 30672.05 &  4034.352 &  79833.18 & NA & NA\\\\\n",
       "\\end{tabular}\n"
      ],
      "text/markdown": [
       "\n",
       "A data.frame: 6 × 18\n",
       "\n",
       "| <!--/--> | Ano &lt;int&gt; | UF_ID &lt;int&gt; | UF &lt;chr&gt; | Municipio_ID &lt;int&gt; | Municipio &lt;chr&gt; | Regiao_Metropolitana &lt;chr&gt; | Mesorregiao_ID &lt;int&gt; | Mesorregiao &lt;chr&gt; | Microrregioo_ID &lt;int&gt; | Microrregiao &lt;chr&gt; | Valor_Agropecuaria &lt;dbl&gt; | Valor_Industria &lt;dbl&gt; | Valor_Servicos &lt;dbl&gt; | Valor_Administracao &lt;dbl&gt; | Valor_Impostos &lt;dbl&gt; | PIB_Corrente &lt;dbl&gt; | Populacao &lt;int&gt; | PIB_PerCapita &lt;dbl&gt; |\n",
       "|---|---|---|---|---|---|---|---|---|---|---|---|---|---|---|---|---|---|---|\n",
       "| 1 | 1999 | 11 | Rondonia | 1100015 | Alta Floresta DOeste | <!----> | 1102 | Leste Rondoniense | 11006 | Cacoal            | 29218.70 |  4642.441 |  53596.00 | 32720.74 |  4159.380 |  91616.52 | NA | NA |\n",
       "| 2 | 1999 | 11 | Rondonia | 1100023 | Ariquemes            | <!----> | 1102 | Leste Rondoniense | 11003 | Ariquemes         | 30897.54 | 55892.252 | 204831.61 | 93715.30 | 32160.685 | 323782.09 | NA | NA |\n",
       "| 3 | 1999 | 11 | Rondonia | 1100031 | Cabixi               | <!----> | 1102 | Leste Rondoniense | 11008 | Colorado do Oeste | 14964.06 |  1322.313 |  15248.17 | 10355.21 |   864.456 |  32399.00 | NA | NA |\n",
       "| 4 | 1999 | 11 | Rondonia | 1100049 | Cacoal               | <!----> | 1102 | Leste Rondoniense | 11006 | Cacoal            | 57660.95 | 46232.032 | 207751.96 | 98184.46 | 33752.394 | 345397.34 | NA | NA |\n",
       "| 5 | 1999 | 11 | Rondonia | 1100056 | Cerejeiras           | <!----> | 1102 | Leste Rondoniense | 11008 | Colorado do Oeste | 30456.10 |  4561.603 |  44733.07 | 25459.94 |  4173.509 |  83924.28 | NA | NA |\n",
       "| 6 | 1999 | 11 | Rondonia | 1100064 | Colorado do Oeste    | <!----> | 1102 | Leste Rondoniense | 11008 | Colorado do Oeste | 21681.40 |  5358.933 |  48758.50 | 30672.05 |  4034.352 |  79833.18 | NA | NA |\n",
       "\n"
      ],
      "text/plain": [
       "  Ano  UF_ID UF       Municipio_ID Municipio            Regiao_Metropolitana\n",
       "1 1999 11    Rondonia 1100015      Alta Floresta DOeste                     \n",
       "2 1999 11    Rondonia 1100023      Ariquemes                                \n",
       "3 1999 11    Rondonia 1100031      Cabixi                                   \n",
       "4 1999 11    Rondonia 1100049      Cacoal                                   \n",
       "5 1999 11    Rondonia 1100056      Cerejeiras                               \n",
       "6 1999 11    Rondonia 1100064      Colorado do Oeste                        \n",
       "  Mesorregiao_ID Mesorregiao       Microrregioo_ID Microrregiao     \n",
       "1 1102           Leste Rondoniense 11006           Cacoal           \n",
       "2 1102           Leste Rondoniense 11003           Ariquemes        \n",
       "3 1102           Leste Rondoniense 11008           Colorado do Oeste\n",
       "4 1102           Leste Rondoniense 11006           Cacoal           \n",
       "5 1102           Leste Rondoniense 11008           Colorado do Oeste\n",
       "6 1102           Leste Rondoniense 11008           Colorado do Oeste\n",
       "  Valor_Agropecuaria Valor_Industria Valor_Servicos Valor_Administracao\n",
       "1 29218.70            4642.441        53596.00      32720.74           \n",
       "2 30897.54           55892.252       204831.61      93715.30           \n",
       "3 14964.06            1322.313        15248.17      10355.21           \n",
       "4 57660.95           46232.032       207751.96      98184.46           \n",
       "5 30456.10            4561.603        44733.07      25459.94           \n",
       "6 21681.40            5358.933        48758.50      30672.05           \n",
       "  Valor_Impostos PIB_Corrente Populacao PIB_PerCapita\n",
       "1  4159.380       91616.52    NA        NA           \n",
       "2 32160.685      323782.09    NA        NA           \n",
       "3   864.456       32399.00    NA        NA           \n",
       "4 33752.394      345397.34    NA        NA           \n",
       "5  4173.509       83924.28    NA        NA           \n",
       "6  4034.352       79833.18    NA        NA           "
      ]
     },
     "metadata": {},
     "output_type": "display_data"
    }
   ],
   "source": [
    "nomeArquivo <- 'dadosBrutos.csv'\n",
    "dados <- read.csv(nomeArquivo,header=TRUE,sep=';')\n",
    "\n",
    "head(dados)\n"
   ]
  },
  {
   "cell_type": "code",
   "execution_count": 35,
   "metadata": {},
   "outputs": [
    {
     "data": {
      "text/html": [
       "<table class=\"dataframe\">\n",
       "<caption>A data.frame: 10 × 18</caption>\n",
       "<thead>\n",
       "\t<tr><th></th><th scope=col>Ano</th><th scope=col>UF_ID</th><th scope=col>UF</th><th scope=col>Municipio_ID</th><th scope=col>Municipio</th><th scope=col>Regiao_Metropolitana</th><th scope=col>Mesorregiao_ID</th><th scope=col>Mesorregiao</th><th scope=col>Microrregioo_ID</th><th scope=col>Microrregiao</th><th scope=col>Valor_Agropecuaria</th><th scope=col>Valor_Industria</th><th scope=col>Valor_Servicos</th><th scope=col>Valor_Administracao</th><th scope=col>Valor_Impostos</th><th scope=col>PIB_Corrente</th><th scope=col>Populacao</th><th scope=col>PIB_PerCapita</th></tr>\n",
       "\t<tr><th></th><th scope=col>&lt;int&gt;</th><th scope=col>&lt;int&gt;</th><th scope=col>&lt;chr&gt;</th><th scope=col>&lt;int&gt;</th><th scope=col>&lt;chr&gt;</th><th scope=col>&lt;chr&gt;</th><th scope=col>&lt;int&gt;</th><th scope=col>&lt;chr&gt;</th><th scope=col>&lt;int&gt;</th><th scope=col>&lt;chr&gt;</th><th scope=col>&lt;dbl&gt;</th><th scope=col>&lt;dbl&gt;</th><th scope=col>&lt;dbl&gt;</th><th scope=col>&lt;dbl&gt;</th><th scope=col>&lt;dbl&gt;</th><th scope=col>&lt;dbl&gt;</th><th scope=col>&lt;int&gt;</th><th scope=col>&lt;dbl&gt;</th></tr>\n",
       "</thead>\n",
       "<tbody>\n",
       "\t<tr><th scope=row>1</th><td>1999</td><td>11</td><td>Rondonia</td><td>1100015</td><td>Alta Floresta DOeste</td><td></td><td>1102</td><td>Leste Rondoniense</td><td>11006</td><td>Cacoal           </td><td>29218.701</td><td> 4642.441</td><td> 53596.00</td><td>32720.74</td><td> 4159.380</td><td> 91616.52</td><td>NA</td><td>NA</td></tr>\n",
       "\t<tr><th scope=row>2</th><td>1999</td><td>11</td><td>Rondonia</td><td>1100023</td><td>Ariquemes           </td><td></td><td>1102</td><td>Leste Rondoniense</td><td>11003</td><td>Ariquemes        </td><td>30897.541</td><td>55892.252</td><td>204831.61</td><td>93715.30</td><td>32160.685</td><td>323782.09</td><td>NA</td><td>NA</td></tr>\n",
       "\t<tr><th scope=row>3</th><td>1999</td><td>11</td><td>Rondonia</td><td>1100031</td><td>Cabixi              </td><td></td><td>1102</td><td>Leste Rondoniense</td><td>11008</td><td>Colorado do Oeste</td><td>14964.062</td><td> 1322.313</td><td> 15248.17</td><td>10355.21</td><td>  864.456</td><td> 32399.00</td><td>NA</td><td>NA</td></tr>\n",
       "\t<tr><th scope=row>4</th><td>1999</td><td>11</td><td>Rondonia</td><td>1100049</td><td>Cacoal              </td><td></td><td>1102</td><td>Leste Rondoniense</td><td>11006</td><td>Cacoal           </td><td>57660.953</td><td>46232.032</td><td>207751.96</td><td>98184.46</td><td>33752.394</td><td>345397.34</td><td>NA</td><td>NA</td></tr>\n",
       "\t<tr><th scope=row>5</th><td>1999</td><td>11</td><td>Rondonia</td><td>1100056</td><td>Cerejeiras          </td><td></td><td>1102</td><td>Leste Rondoniense</td><td>11008</td><td>Colorado do Oeste</td><td>30456.100</td><td> 4561.603</td><td> 44733.07</td><td>25459.94</td><td> 4173.509</td><td> 83924.28</td><td>NA</td><td>NA</td></tr>\n",
       "\t<tr><th scope=row>6</th><td>1999</td><td>11</td><td>Rondonia</td><td>1100064</td><td>Colorado do Oeste   </td><td></td><td>1102</td><td>Leste Rondoniense</td><td>11008</td><td>Colorado do Oeste</td><td>21681.398</td><td> 5358.933</td><td> 48758.50</td><td>30672.05</td><td> 4034.352</td><td> 79833.18</td><td>NA</td><td>NA</td></tr>\n",
       "\t<tr><th scope=row>7</th><td>1999</td><td>11</td><td>Rondonia</td><td>1100072</td><td>Corumbiara          </td><td></td><td>1102</td><td>Leste Rondoniense</td><td>11008</td><td>Colorado do Oeste</td><td>18846.443</td><td> 1696.923</td><td> 17063.53</td><td>12602.81</td><td>  806.596</td><td> 38413.49</td><td>NA</td><td>NA</td></tr>\n",
       "\t<tr><th scope=row>8</th><td>1999</td><td>11</td><td>Rondonia</td><td>1100080</td><td>Costa Marques       </td><td></td><td>1101</td><td>Madeira-Guapore  </td><td>11002</td><td>Guajara-Mirim    </td><td> 1579.275</td><td> 1840.001</td><td> 20607.60</td><td>14836.64</td><td> 1320.001</td><td> 25346.88</td><td>NA</td><td>NA</td></tr>\n",
       "\t<tr><th scope=row>9</th><td>1999</td><td>11</td><td>Rondonia</td><td>1100098</td><td>Espigao DOeste      </td><td></td><td>1102</td><td>Leste Rondoniense</td><td>11006</td><td>Cacoal           </td><td>26900.998</td><td>11036.322</td><td> 52982.13</td><td>30843.49</td><td> 7045.774</td><td> 97965.22</td><td>NA</td><td>NA</td></tr>\n",
       "\t<tr><th scope=row>10</th><td>1999</td><td>11</td><td>Rondonia</td><td>1100106</td><td>Guajara-Mirim       </td><td></td><td>1101</td><td>Madeira-Guapore  </td><td>11002</td><td>Guajara-Mirim    </td><td> 6673.193</td><td> 5113.969</td><td>104020.14</td><td>51914.74</td><td>10463.893</td><td>126271.19</td><td>NA</td><td>NA</td></tr>\n",
       "</tbody>\n",
       "</table>\n"
      ],
      "text/latex": [
       "A data.frame: 10 × 18\n",
       "\\begin{tabular}{r|llllllllllllllllll}\n",
       "  & Ano & UF\\_ID & UF & Municipio\\_ID & Municipio & Regiao\\_Metropolitana & Mesorregiao\\_ID & Mesorregiao & Microrregioo\\_ID & Microrregiao & Valor\\_Agropecuaria & Valor\\_Industria & Valor\\_Servicos & Valor\\_Administracao & Valor\\_Impostos & PIB\\_Corrente & Populacao & PIB\\_PerCapita\\\\\n",
       "  & <int> & <int> & <chr> & <int> & <chr> & <chr> & <int> & <chr> & <int> & <chr> & <dbl> & <dbl> & <dbl> & <dbl> & <dbl> & <dbl> & <int> & <dbl>\\\\\n",
       "\\hline\n",
       "\t1 & 1999 & 11 & Rondonia & 1100015 & Alta Floresta DOeste &  & 1102 & Leste Rondoniense & 11006 & Cacoal            & 29218.701 &  4642.441 &  53596.00 & 32720.74 &  4159.380 &  91616.52 & NA & NA\\\\\n",
       "\t2 & 1999 & 11 & Rondonia & 1100023 & Ariquemes            &  & 1102 & Leste Rondoniense & 11003 & Ariquemes         & 30897.541 & 55892.252 & 204831.61 & 93715.30 & 32160.685 & 323782.09 & NA & NA\\\\\n",
       "\t3 & 1999 & 11 & Rondonia & 1100031 & Cabixi               &  & 1102 & Leste Rondoniense & 11008 & Colorado do Oeste & 14964.062 &  1322.313 &  15248.17 & 10355.21 &   864.456 &  32399.00 & NA & NA\\\\\n",
       "\t4 & 1999 & 11 & Rondonia & 1100049 & Cacoal               &  & 1102 & Leste Rondoniense & 11006 & Cacoal            & 57660.953 & 46232.032 & 207751.96 & 98184.46 & 33752.394 & 345397.34 & NA & NA\\\\\n",
       "\t5 & 1999 & 11 & Rondonia & 1100056 & Cerejeiras           &  & 1102 & Leste Rondoniense & 11008 & Colorado do Oeste & 30456.100 &  4561.603 &  44733.07 & 25459.94 &  4173.509 &  83924.28 & NA & NA\\\\\n",
       "\t6 & 1999 & 11 & Rondonia & 1100064 & Colorado do Oeste    &  & 1102 & Leste Rondoniense & 11008 & Colorado do Oeste & 21681.398 &  5358.933 &  48758.50 & 30672.05 &  4034.352 &  79833.18 & NA & NA\\\\\n",
       "\t7 & 1999 & 11 & Rondonia & 1100072 & Corumbiara           &  & 1102 & Leste Rondoniense & 11008 & Colorado do Oeste & 18846.443 &  1696.923 &  17063.53 & 12602.81 &   806.596 &  38413.49 & NA & NA\\\\\n",
       "\t8 & 1999 & 11 & Rondonia & 1100080 & Costa Marques        &  & 1101 & Madeira-Guapore   & 11002 & Guajara-Mirim     &  1579.275 &  1840.001 &  20607.60 & 14836.64 &  1320.001 &  25346.88 & NA & NA\\\\\n",
       "\t9 & 1999 & 11 & Rondonia & 1100098 & Espigao DOeste       &  & 1102 & Leste Rondoniense & 11006 & Cacoal            & 26900.998 & 11036.322 &  52982.13 & 30843.49 &  7045.774 &  97965.22 & NA & NA\\\\\n",
       "\t10 & 1999 & 11 & Rondonia & 1100106 & Guajara-Mirim        &  & 1101 & Madeira-Guapore   & 11002 & Guajara-Mirim     &  6673.193 &  5113.969 & 104020.14 & 51914.74 & 10463.893 & 126271.19 & NA & NA\\\\\n",
       "\\end{tabular}\n"
      ],
      "text/markdown": [
       "\n",
       "A data.frame: 10 × 18\n",
       "\n",
       "| <!--/--> | Ano &lt;int&gt; | UF_ID &lt;int&gt; | UF &lt;chr&gt; | Municipio_ID &lt;int&gt; | Municipio &lt;chr&gt; | Regiao_Metropolitana &lt;chr&gt; | Mesorregiao_ID &lt;int&gt; | Mesorregiao &lt;chr&gt; | Microrregioo_ID &lt;int&gt; | Microrregiao &lt;chr&gt; | Valor_Agropecuaria &lt;dbl&gt; | Valor_Industria &lt;dbl&gt; | Valor_Servicos &lt;dbl&gt; | Valor_Administracao &lt;dbl&gt; | Valor_Impostos &lt;dbl&gt; | PIB_Corrente &lt;dbl&gt; | Populacao &lt;int&gt; | PIB_PerCapita &lt;dbl&gt; |\n",
       "|---|---|---|---|---|---|---|---|---|---|---|---|---|---|---|---|---|---|---|\n",
       "| 1 | 1999 | 11 | Rondonia | 1100015 | Alta Floresta DOeste | <!----> | 1102 | Leste Rondoniense | 11006 | Cacoal            | 29218.701 |  4642.441 |  53596.00 | 32720.74 |  4159.380 |  91616.52 | NA | NA |\n",
       "| 2 | 1999 | 11 | Rondonia | 1100023 | Ariquemes            | <!----> | 1102 | Leste Rondoniense | 11003 | Ariquemes         | 30897.541 | 55892.252 | 204831.61 | 93715.30 | 32160.685 | 323782.09 | NA | NA |\n",
       "| 3 | 1999 | 11 | Rondonia | 1100031 | Cabixi               | <!----> | 1102 | Leste Rondoniense | 11008 | Colorado do Oeste | 14964.062 |  1322.313 |  15248.17 | 10355.21 |   864.456 |  32399.00 | NA | NA |\n",
       "| 4 | 1999 | 11 | Rondonia | 1100049 | Cacoal               | <!----> | 1102 | Leste Rondoniense | 11006 | Cacoal            | 57660.953 | 46232.032 | 207751.96 | 98184.46 | 33752.394 | 345397.34 | NA | NA |\n",
       "| 5 | 1999 | 11 | Rondonia | 1100056 | Cerejeiras           | <!----> | 1102 | Leste Rondoniense | 11008 | Colorado do Oeste | 30456.100 |  4561.603 |  44733.07 | 25459.94 |  4173.509 |  83924.28 | NA | NA |\n",
       "| 6 | 1999 | 11 | Rondonia | 1100064 | Colorado do Oeste    | <!----> | 1102 | Leste Rondoniense | 11008 | Colorado do Oeste | 21681.398 |  5358.933 |  48758.50 | 30672.05 |  4034.352 |  79833.18 | NA | NA |\n",
       "| 7 | 1999 | 11 | Rondonia | 1100072 | Corumbiara           | <!----> | 1102 | Leste Rondoniense | 11008 | Colorado do Oeste | 18846.443 |  1696.923 |  17063.53 | 12602.81 |   806.596 |  38413.49 | NA | NA |\n",
       "| 8 | 1999 | 11 | Rondonia | 1100080 | Costa Marques        | <!----> | 1101 | Madeira-Guapore   | 11002 | Guajara-Mirim     |  1579.275 |  1840.001 |  20607.60 | 14836.64 |  1320.001 |  25346.88 | NA | NA |\n",
       "| 9 | 1999 | 11 | Rondonia | 1100098 | Espigao DOeste       | <!----> | 1102 | Leste Rondoniense | 11006 | Cacoal            | 26900.998 | 11036.322 |  52982.13 | 30843.49 |  7045.774 |  97965.22 | NA | NA |\n",
       "| 10 | 1999 | 11 | Rondonia | 1100106 | Guajara-Mirim        | <!----> | 1101 | Madeira-Guapore   | 11002 | Guajara-Mirim     |  6673.193 |  5113.969 | 104020.14 | 51914.74 | 10463.893 | 126271.19 | NA | NA |\n",
       "\n"
      ],
      "text/plain": [
       "   Ano  UF_ID UF       Municipio_ID Municipio            Regiao_Metropolitana\n",
       "1  1999 11    Rondonia 1100015      Alta Floresta DOeste                     \n",
       "2  1999 11    Rondonia 1100023      Ariquemes                                \n",
       "3  1999 11    Rondonia 1100031      Cabixi                                   \n",
       "4  1999 11    Rondonia 1100049      Cacoal                                   \n",
       "5  1999 11    Rondonia 1100056      Cerejeiras                               \n",
       "6  1999 11    Rondonia 1100064      Colorado do Oeste                        \n",
       "7  1999 11    Rondonia 1100072      Corumbiara                               \n",
       "8  1999 11    Rondonia 1100080      Costa Marques                            \n",
       "9  1999 11    Rondonia 1100098      Espigao DOeste                           \n",
       "10 1999 11    Rondonia 1100106      Guajara-Mirim                            \n",
       "   Mesorregiao_ID Mesorregiao       Microrregioo_ID Microrregiao     \n",
       "1  1102           Leste Rondoniense 11006           Cacoal           \n",
       "2  1102           Leste Rondoniense 11003           Ariquemes        \n",
       "3  1102           Leste Rondoniense 11008           Colorado do Oeste\n",
       "4  1102           Leste Rondoniense 11006           Cacoal           \n",
       "5  1102           Leste Rondoniense 11008           Colorado do Oeste\n",
       "6  1102           Leste Rondoniense 11008           Colorado do Oeste\n",
       "7  1102           Leste Rondoniense 11008           Colorado do Oeste\n",
       "8  1101           Madeira-Guapore   11002           Guajara-Mirim    \n",
       "9  1102           Leste Rondoniense 11006           Cacoal           \n",
       "10 1101           Madeira-Guapore   11002           Guajara-Mirim    \n",
       "   Valor_Agropecuaria Valor_Industria Valor_Servicos Valor_Administracao\n",
       "1  29218.701           4642.441        53596.00      32720.74           \n",
       "2  30897.541          55892.252       204831.61      93715.30           \n",
       "3  14964.062           1322.313        15248.17      10355.21           \n",
       "4  57660.953          46232.032       207751.96      98184.46           \n",
       "5  30456.100           4561.603        44733.07      25459.94           \n",
       "6  21681.398           5358.933        48758.50      30672.05           \n",
       "7  18846.443           1696.923        17063.53      12602.81           \n",
       "8   1579.275           1840.001        20607.60      14836.64           \n",
       "9  26900.998          11036.322        52982.13      30843.49           \n",
       "10  6673.193           5113.969       104020.14      51914.74           \n",
       "   Valor_Impostos PIB_Corrente Populacao PIB_PerCapita\n",
       "1   4159.380       91616.52    NA        NA           \n",
       "2  32160.685      323782.09    NA        NA           \n",
       "3    864.456       32399.00    NA        NA           \n",
       "4  33752.394      345397.34    NA        NA           \n",
       "5   4173.509       83924.28    NA        NA           \n",
       "6   4034.352       79833.18    NA        NA           \n",
       "7    806.596       38413.49    NA        NA           \n",
       "8   1320.001       25346.88    NA        NA           \n",
       "9   7045.774       97965.22    NA        NA           \n",
       "10 10463.893      126271.19    NA        NA           "
      ]
     },
     "metadata": {},
     "output_type": "display_data"
    },
    {
     "data": {
      "text/html": [
       "<table class=\"dataframe\">\n",
       "<caption>A data.frame: 2 × 18</caption>\n",
       "<thead>\n",
       "\t<tr><th></th><th scope=col>Ano</th><th scope=col>UF_ID</th><th scope=col>UF</th><th scope=col>Municipio_ID</th><th scope=col>Municipio</th><th scope=col>Regiao_Metropolitana</th><th scope=col>Mesorregiao_ID</th><th scope=col>Mesorregiao</th><th scope=col>Microrregioo_ID</th><th scope=col>Microrregiao</th><th scope=col>Valor_Agropecuaria</th><th scope=col>Valor_Industria</th><th scope=col>Valor_Servicos</th><th scope=col>Valor_Administracao</th><th scope=col>Valor_Impostos</th><th scope=col>PIB_Corrente</th><th scope=col>Populacao</th><th scope=col>PIB_PerCapita</th></tr>\n",
       "\t<tr><th></th><th scope=col>&lt;int&gt;</th><th scope=col>&lt;int&gt;</th><th scope=col>&lt;chr&gt;</th><th scope=col>&lt;int&gt;</th><th scope=col>&lt;chr&gt;</th><th scope=col>&lt;chr&gt;</th><th scope=col>&lt;int&gt;</th><th scope=col>&lt;chr&gt;</th><th scope=col>&lt;int&gt;</th><th scope=col>&lt;chr&gt;</th><th scope=col>&lt;dbl&gt;</th><th scope=col>&lt;dbl&gt;</th><th scope=col>&lt;dbl&gt;</th><th scope=col>&lt;dbl&gt;</th><th scope=col>&lt;dbl&gt;</th><th scope=col>&lt;dbl&gt;</th><th scope=col>&lt;int&gt;</th><th scope=col>&lt;dbl&gt;</th></tr>\n",
       "</thead>\n",
       "<tbody>\n",
       "\t<tr><th scope=row>1</th><td>1999</td><td>11</td><td>Rondonia</td><td>1100015</td><td>Alta Floresta DOeste</td><td></td><td>1102</td><td>Leste Rondoniense</td><td>11006</td><td>Cacoal   </td><td>29218.70</td><td> 4642.441</td><td> 53596.0</td><td>32720.74</td><td> 4159.38</td><td> 91616.52</td><td>NA</td><td>NA</td></tr>\n",
       "\t<tr><th scope=row>2</th><td>1999</td><td>11</td><td>Rondonia</td><td>1100023</td><td>Ariquemes           </td><td></td><td>1102</td><td>Leste Rondoniense</td><td>11003</td><td>Ariquemes</td><td>30897.54</td><td>55892.252</td><td>204831.6</td><td>93715.30</td><td>32160.69</td><td>323782.09</td><td>NA</td><td>NA</td></tr>\n",
       "</tbody>\n",
       "</table>\n"
      ],
      "text/latex": [
       "A data.frame: 2 × 18\n",
       "\\begin{tabular}{r|llllllllllllllllll}\n",
       "  & Ano & UF\\_ID & UF & Municipio\\_ID & Municipio & Regiao\\_Metropolitana & Mesorregiao\\_ID & Mesorregiao & Microrregioo\\_ID & Microrregiao & Valor\\_Agropecuaria & Valor\\_Industria & Valor\\_Servicos & Valor\\_Administracao & Valor\\_Impostos & PIB\\_Corrente & Populacao & PIB\\_PerCapita\\\\\n",
       "  & <int> & <int> & <chr> & <int> & <chr> & <chr> & <int> & <chr> & <int> & <chr> & <dbl> & <dbl> & <dbl> & <dbl> & <dbl> & <dbl> & <int> & <dbl>\\\\\n",
       "\\hline\n",
       "\t1 & 1999 & 11 & Rondonia & 1100015 & Alta Floresta DOeste &  & 1102 & Leste Rondoniense & 11006 & Cacoal    & 29218.70 &  4642.441 &  53596.0 & 32720.74 &  4159.38 &  91616.52 & NA & NA\\\\\n",
       "\t2 & 1999 & 11 & Rondonia & 1100023 & Ariquemes            &  & 1102 & Leste Rondoniense & 11003 & Ariquemes & 30897.54 & 55892.252 & 204831.6 & 93715.30 & 32160.69 & 323782.09 & NA & NA\\\\\n",
       "\\end{tabular}\n"
      ],
      "text/markdown": [
       "\n",
       "A data.frame: 2 × 18\n",
       "\n",
       "| <!--/--> | Ano &lt;int&gt; | UF_ID &lt;int&gt; | UF &lt;chr&gt; | Municipio_ID &lt;int&gt; | Municipio &lt;chr&gt; | Regiao_Metropolitana &lt;chr&gt; | Mesorregiao_ID &lt;int&gt; | Mesorregiao &lt;chr&gt; | Microrregioo_ID &lt;int&gt; | Microrregiao &lt;chr&gt; | Valor_Agropecuaria &lt;dbl&gt; | Valor_Industria &lt;dbl&gt; | Valor_Servicos &lt;dbl&gt; | Valor_Administracao &lt;dbl&gt; | Valor_Impostos &lt;dbl&gt; | PIB_Corrente &lt;dbl&gt; | Populacao &lt;int&gt; | PIB_PerCapita &lt;dbl&gt; |\n",
       "|---|---|---|---|---|---|---|---|---|---|---|---|---|---|---|---|---|---|---|\n",
       "| 1 | 1999 | 11 | Rondonia | 1100015 | Alta Floresta DOeste | <!----> | 1102 | Leste Rondoniense | 11006 | Cacoal    | 29218.70 |  4642.441 |  53596.0 | 32720.74 |  4159.38 |  91616.52 | NA | NA |\n",
       "| 2 | 1999 | 11 | Rondonia | 1100023 | Ariquemes            | <!----> | 1102 | Leste Rondoniense | 11003 | Ariquemes | 30897.54 | 55892.252 | 204831.6 | 93715.30 | 32160.69 | 323782.09 | NA | NA |\n",
       "\n"
      ],
      "text/plain": [
       "  Ano  UF_ID UF       Municipio_ID Municipio            Regiao_Metropolitana\n",
       "1 1999 11    Rondonia 1100015      Alta Floresta DOeste                     \n",
       "2 1999 11    Rondonia 1100023      Ariquemes                                \n",
       "  Mesorregiao_ID Mesorregiao       Microrregioo_ID Microrregiao\n",
       "1 1102           Leste Rondoniense 11006           Cacoal      \n",
       "2 1102           Leste Rondoniense 11003           Ariquemes   \n",
       "  Valor_Agropecuaria Valor_Industria Valor_Servicos Valor_Administracao\n",
       "1 29218.70            4642.441        53596.0       32720.74           \n",
       "2 30897.54           55892.252       204831.6       93715.30           \n",
       "  Valor_Impostos PIB_Corrente Populacao PIB_PerCapita\n",
       "1  4159.38        91616.52    NA        NA           \n",
       "2 32160.69       323782.09    NA        NA           "
      ]
     },
     "metadata": {},
     "output_type": "display_data"
    }
   ],
   "source": [
    "head(dados,10)\n",
    "head(dados,2)\n",
    "\n"
   ]
  },
  {
   "cell_type": "code",
   "execution_count": 36,
   "metadata": {},
   "outputs": [
    {
     "data": {
      "text/html": [
       "<table class=\"dataframe\">\n",
       "<caption>A data.frame: 6 × 18</caption>\n",
       "<thead>\n",
       "\t<tr><th></th><th scope=col>Ano</th><th scope=col>UF_ID</th><th scope=col>UF</th><th scope=col>Municipio_ID</th><th scope=col>Municipio</th><th scope=col>Regiao_Metropolitana</th><th scope=col>Mesorregiao_ID</th><th scope=col>Mesorregiao</th><th scope=col>Microrregioo_ID</th><th scope=col>Microrregiao</th><th scope=col>Valor_Agropecuaria</th><th scope=col>Valor_Industria</th><th scope=col>Valor_Servicos</th><th scope=col>Valor_Administracao</th><th scope=col>Valor_Impostos</th><th scope=col>PIB_Corrente</th><th scope=col>Populacao</th><th scope=col>PIB_PerCapita</th></tr>\n",
       "\t<tr><th></th><th scope=col>&lt;int&gt;</th><th scope=col>&lt;int&gt;</th><th scope=col>&lt;chr&gt;</th><th scope=col>&lt;int&gt;</th><th scope=col>&lt;chr&gt;</th><th scope=col>&lt;chr&gt;</th><th scope=col>&lt;int&gt;</th><th scope=col>&lt;chr&gt;</th><th scope=col>&lt;int&gt;</th><th scope=col>&lt;chr&gt;</th><th scope=col>&lt;dbl&gt;</th><th scope=col>&lt;dbl&gt;</th><th scope=col>&lt;dbl&gt;</th><th scope=col>&lt;dbl&gt;</th><th scope=col>&lt;dbl&gt;</th><th scope=col>&lt;dbl&gt;</th><th scope=col>&lt;int&gt;</th><th scope=col>&lt;dbl&gt;</th></tr>\n",
       "</thead>\n",
       "<tbody>\n",
       "\t<tr><th scope=row>66635</th><td>2010</td><td>52</td><td>Goias           </td><td>5221908</td><td>Varjao        </td><td>                                                                        </td><td>5205</td><td>Sul Goiano      </td><td>52014</td><td>Vale do Rio dos Bois</td><td> 11792.43</td><td>   2945.800</td><td>    17149.13</td><td>    8022.706</td><td>    1583.789</td><td>    33471.15</td><td>   3661</td><td> 9142.62</td></tr>\n",
       "\t<tr><th scope=row>66636</th><td>2010</td><td>52</td><td>Goias           </td><td>5222005</td><td>Vianopolis    </td><td>                                                                        </td><td>5205</td><td>Sul Goiano      </td><td>52016</td><td>Pires do Rio        </td><td> 57902.33</td><td>  21737.879</td><td>    81168.99</td><td>   24544.062</td><td>   10203.946</td><td>   171013.15</td><td>  12549</td><td>13627.63</td></tr>\n",
       "\t<tr><th scope=row>66637</th><td>2010</td><td>52</td><td>Goias           </td><td>5222054</td><td>Vicentinopolis</td><td>                                                                        </td><td>5205</td><td>Sul Goiano      </td><td>52015</td><td>Meia Ponte          </td><td> 41906.25</td><td>  17927.073</td><td>    48572.94</td><td>   14838.702</td><td>    5858.979</td><td>   114265.24</td><td>   7371</td><td>15502.00</td></tr>\n",
       "\t<tr><th scope=row>66638</th><td>2010</td><td>52</td><td>Goias           </td><td>5222203</td><td>Vila Boa      </td><td>RIDE - Regiao Integrada de Desenvolvimento do Distrito Federal e Entorno</td><td>5204</td><td>Leste Goiano    </td><td>52012</td><td>Entorno de Brasilia </td><td> 34680.99</td><td>   7080.613</td><td>    27917.72</td><td>   12236.672</td><td>    3363.469</td><td>    73042.79</td><td>   4742</td><td>15403.37</td></tr>\n",
       "\t<tr><th scope=row>66639</th><td>2010</td><td>52</td><td>Goias           </td><td>5222302</td><td>Vila Propicio </td><td>                                                                        </td><td>5204</td><td>Leste Goiano    </td><td>52012</td><td>Entorno de Brasilia </td><td> 71504.34</td><td>   6022.426</td><td>    27272.10</td><td>   11038.197</td><td>    3317.144</td><td>   108116.01</td><td>   5145</td><td>21013.80</td></tr>\n",
       "\t<tr><th scope=row>66640</th><td>2010</td><td>53</td><td>Distrito Federal</td><td>5300108</td><td>Brasilia      </td><td>RIDE - Regiao Integrada de Desenvolvimento do Distrito Federal e Entorno</td><td>5301</td><td>Distrito Federal</td><td>53001</td><td>Brasilia            </td><td>334930.28</td><td>8720979.863</td><td>124179104.50</td><td>72493372.060</td><td>16671304.210</td><td>149906318.90</td><td>2562963</td><td>58489.46</td></tr>\n",
       "</tbody>\n",
       "</table>\n"
      ],
      "text/latex": [
       "A data.frame: 6 × 18\n",
       "\\begin{tabular}{r|llllllllllllllllll}\n",
       "  & Ano & UF\\_ID & UF & Municipio\\_ID & Municipio & Regiao\\_Metropolitana & Mesorregiao\\_ID & Mesorregiao & Microrregioo\\_ID & Microrregiao & Valor\\_Agropecuaria & Valor\\_Industria & Valor\\_Servicos & Valor\\_Administracao & Valor\\_Impostos & PIB\\_Corrente & Populacao & PIB\\_PerCapita\\\\\n",
       "  & <int> & <int> & <chr> & <int> & <chr> & <chr> & <int> & <chr> & <int> & <chr> & <dbl> & <dbl> & <dbl> & <dbl> & <dbl> & <dbl> & <int> & <dbl>\\\\\n",
       "\\hline\n",
       "\t66635 & 2010 & 52 & Goias            & 5221908 & Varjao         &                                                                          & 5205 & Sul Goiano       & 52014 & Vale do Rio dos Bois &  11792.43 &    2945.800 &     17149.13 &     8022.706 &     1583.789 &     33471.15 &    3661 &  9142.62\\\\\n",
       "\t66636 & 2010 & 52 & Goias            & 5222005 & Vianopolis     &                                                                          & 5205 & Sul Goiano       & 52016 & Pires do Rio         &  57902.33 &   21737.879 &     81168.99 &    24544.062 &    10203.946 &    171013.15 &   12549 & 13627.63\\\\\n",
       "\t66637 & 2010 & 52 & Goias            & 5222054 & Vicentinopolis &                                                                          & 5205 & Sul Goiano       & 52015 & Meia Ponte           &  41906.25 &   17927.073 &     48572.94 &    14838.702 &     5858.979 &    114265.24 &    7371 & 15502.00\\\\\n",
       "\t66638 & 2010 & 52 & Goias            & 5222203 & Vila Boa       & RIDE - Regiao Integrada de Desenvolvimento do Distrito Federal e Entorno & 5204 & Leste Goiano     & 52012 & Entorno de Brasilia  &  34680.99 &    7080.613 &     27917.72 &    12236.672 &     3363.469 &     73042.79 &    4742 & 15403.37\\\\\n",
       "\t66639 & 2010 & 52 & Goias            & 5222302 & Vila Propicio  &                                                                          & 5204 & Leste Goiano     & 52012 & Entorno de Brasilia  &  71504.34 &    6022.426 &     27272.10 &    11038.197 &     3317.144 &    108116.01 &    5145 & 21013.80\\\\\n",
       "\t66640 & 2010 & 53 & Distrito Federal & 5300108 & Brasilia       & RIDE - Regiao Integrada de Desenvolvimento do Distrito Federal e Entorno & 5301 & Distrito Federal & 53001 & Brasilia             & 334930.28 & 8720979.863 & 124179104.50 & 72493372.060 & 16671304.210 & 149906318.90 & 2562963 & 58489.46\\\\\n",
       "\\end{tabular}\n"
      ],
      "text/markdown": [
       "\n",
       "A data.frame: 6 × 18\n",
       "\n",
       "| <!--/--> | Ano &lt;int&gt; | UF_ID &lt;int&gt; | UF &lt;chr&gt; | Municipio_ID &lt;int&gt; | Municipio &lt;chr&gt; | Regiao_Metropolitana &lt;chr&gt; | Mesorregiao_ID &lt;int&gt; | Mesorregiao &lt;chr&gt; | Microrregioo_ID &lt;int&gt; | Microrregiao &lt;chr&gt; | Valor_Agropecuaria &lt;dbl&gt; | Valor_Industria &lt;dbl&gt; | Valor_Servicos &lt;dbl&gt; | Valor_Administracao &lt;dbl&gt; | Valor_Impostos &lt;dbl&gt; | PIB_Corrente &lt;dbl&gt; | Populacao &lt;int&gt; | PIB_PerCapita &lt;dbl&gt; |\n",
       "|---|---|---|---|---|---|---|---|---|---|---|---|---|---|---|---|---|---|---|\n",
       "| 66635 | 2010 | 52 | Goias            | 5221908 | Varjao         | <!----> | 5205 | Sul Goiano       | 52014 | Vale do Rio dos Bois |  11792.43 |    2945.800 |     17149.13 |     8022.706 |     1583.789 |     33471.15 |    3661 |  9142.62 |\n",
       "| 66636 | 2010 | 52 | Goias            | 5222005 | Vianopolis     | <!----> | 5205 | Sul Goiano       | 52016 | Pires do Rio         |  57902.33 |   21737.879 |     81168.99 |    24544.062 |    10203.946 |    171013.15 |   12549 | 13627.63 |\n",
       "| 66637 | 2010 | 52 | Goias            | 5222054 | Vicentinopolis | <!----> | 5205 | Sul Goiano       | 52015 | Meia Ponte           |  41906.25 |   17927.073 |     48572.94 |    14838.702 |     5858.979 |    114265.24 |    7371 | 15502.00 |\n",
       "| 66638 | 2010 | 52 | Goias            | 5222203 | Vila Boa       | RIDE - Regiao Integrada de Desenvolvimento do Distrito Federal e Entorno | 5204 | Leste Goiano     | 52012 | Entorno de Brasilia  |  34680.99 |    7080.613 |     27917.72 |    12236.672 |     3363.469 |     73042.79 |    4742 | 15403.37 |\n",
       "| 66639 | 2010 | 52 | Goias            | 5222302 | Vila Propicio  | <!----> | 5204 | Leste Goiano     | 52012 | Entorno de Brasilia  |  71504.34 |    6022.426 |     27272.10 |    11038.197 |     3317.144 |    108116.01 |    5145 | 21013.80 |\n",
       "| 66640 | 2010 | 53 | Distrito Federal | 5300108 | Brasilia       | RIDE - Regiao Integrada de Desenvolvimento do Distrito Federal e Entorno | 5301 | Distrito Federal | 53001 | Brasilia             | 334930.28 | 8720979.863 | 124179104.50 | 72493372.060 | 16671304.210 | 149906318.90 | 2562963 | 58489.46 |\n",
       "\n"
      ],
      "text/plain": [
       "      Ano  UF_ID UF               Municipio_ID Municipio     \n",
       "66635 2010 52    Goias            5221908      Varjao        \n",
       "66636 2010 52    Goias            5222005      Vianopolis    \n",
       "66637 2010 52    Goias            5222054      Vicentinopolis\n",
       "66638 2010 52    Goias            5222203      Vila Boa      \n",
       "66639 2010 52    Goias            5222302      Vila Propicio \n",
       "66640 2010 53    Distrito Federal 5300108      Brasilia      \n",
       "      Regiao_Metropolitana                                                    \n",
       "66635                                                                         \n",
       "66636                                                                         \n",
       "66637                                                                         \n",
       "66638 RIDE - Regiao Integrada de Desenvolvimento do Distrito Federal e Entorno\n",
       "66639                                                                         \n",
       "66640 RIDE - Regiao Integrada de Desenvolvimento do Distrito Federal e Entorno\n",
       "      Mesorregiao_ID Mesorregiao      Microrregioo_ID Microrregiao        \n",
       "66635 5205           Sul Goiano       52014           Vale do Rio dos Bois\n",
       "66636 5205           Sul Goiano       52016           Pires do Rio        \n",
       "66637 5205           Sul Goiano       52015           Meia Ponte          \n",
       "66638 5204           Leste Goiano     52012           Entorno de Brasilia \n",
       "66639 5204           Leste Goiano     52012           Entorno de Brasilia \n",
       "66640 5301           Distrito Federal 53001           Brasilia            \n",
       "      Valor_Agropecuaria Valor_Industria Valor_Servicos Valor_Administracao\n",
       "66635  11792.43             2945.800         17149.13       8022.706       \n",
       "66636  57902.33            21737.879         81168.99      24544.062       \n",
       "66637  41906.25            17927.073         48572.94      14838.702       \n",
       "66638  34680.99             7080.613         27917.72      12236.672       \n",
       "66639  71504.34             6022.426         27272.10      11038.197       \n",
       "66640 334930.28          8720979.863     124179104.50   72493372.060       \n",
       "      Valor_Impostos PIB_Corrente Populacao PIB_PerCapita\n",
       "66635     1583.789       33471.15    3661    9142.62     \n",
       "66636    10203.946      171013.15   12549   13627.63     \n",
       "66637     5858.979      114265.24    7371   15502.00     \n",
       "66638     3363.469       73042.79    4742   15403.37     \n",
       "66639     3317.144      108116.01    5145   21013.80     \n",
       "66640 16671304.210   149906318.90 2562963   58489.46     "
      ]
     },
     "metadata": {},
     "output_type": "display_data"
    },
    {
     "data": {
      "text/html": [
       "<table class=\"dataframe\">\n",
       "<caption>A data.frame: 10 × 18</caption>\n",
       "<thead>\n",
       "\t<tr><th></th><th scope=col>Ano</th><th scope=col>UF_ID</th><th scope=col>UF</th><th scope=col>Municipio_ID</th><th scope=col>Municipio</th><th scope=col>Regiao_Metropolitana</th><th scope=col>Mesorregiao_ID</th><th scope=col>Mesorregiao</th><th scope=col>Microrregioo_ID</th><th scope=col>Microrregiao</th><th scope=col>Valor_Agropecuaria</th><th scope=col>Valor_Industria</th><th scope=col>Valor_Servicos</th><th scope=col>Valor_Administracao</th><th scope=col>Valor_Impostos</th><th scope=col>PIB_Corrente</th><th scope=col>Populacao</th><th scope=col>PIB_PerCapita</th></tr>\n",
       "\t<tr><th></th><th scope=col>&lt;int&gt;</th><th scope=col>&lt;int&gt;</th><th scope=col>&lt;chr&gt;</th><th scope=col>&lt;int&gt;</th><th scope=col>&lt;chr&gt;</th><th scope=col>&lt;chr&gt;</th><th scope=col>&lt;int&gt;</th><th scope=col>&lt;chr&gt;</th><th scope=col>&lt;int&gt;</th><th scope=col>&lt;chr&gt;</th><th scope=col>&lt;dbl&gt;</th><th scope=col>&lt;dbl&gt;</th><th scope=col>&lt;dbl&gt;</th><th scope=col>&lt;dbl&gt;</th><th scope=col>&lt;dbl&gt;</th><th scope=col>&lt;dbl&gt;</th><th scope=col>&lt;int&gt;</th><th scope=col>&lt;dbl&gt;</th></tr>\n",
       "</thead>\n",
       "<tbody>\n",
       "\t<tr><th scope=row>66631</th><td>2010</td><td>52</td><td>Goias           </td><td>5221601</td><td>Uruacu             </td><td>                                                                        </td><td>5202</td><td>Norte Goiano    </td><td>52004</td><td>Porangatu           </td><td> 50186.278</td><td>  80408.171</td><td>   248412.61</td><td>   68739.039</td><td>   44789.466</td><td>   423796.53</td><td>  36949</td><td>11469.77</td></tr>\n",
       "\t<tr><th scope=row>66632</th><td>2010</td><td>52</td><td>Goias           </td><td>5221700</td><td>Uruana             </td><td>                                                                        </td><td>5203</td><td>Centro Goiano   </td><td>52006</td><td>Ceres               </td><td> 94439.383</td><td>   9633.560</td><td>    66874.51</td><td>   23777.424</td><td>    5425.137</td><td>   176372.59</td><td>  13821</td><td>12761.20</td></tr>\n",
       "\t<tr><th scope=row>66633</th><td>2010</td><td>52</td><td>Goias           </td><td>5221809</td><td>Urutai             </td><td>                                                                        </td><td>5205</td><td>Sul Goiano      </td><td>52016</td><td>Pires do Rio        </td><td> 23402.719</td><td>   2588.524</td><td>    16097.23</td><td>    7283.277</td><td>    1208.431</td><td>    43296.90</td><td>   3058</td><td>14158.57</td></tr>\n",
       "\t<tr><th scope=row>66634</th><td>2010</td><td>52</td><td>Goias           </td><td>5221858</td><td>Valparaiso de Goias</td><td>RIDE - Regiao Integrada de Desenvolvimento do Distrito Federal e Entorno</td><td>5204</td><td>Leste Goiano    </td><td>52012</td><td>Entorno de Brasilia </td><td>   150.352</td><td> 109633.181</td><td>   656961.73</td><td>  225990.212</td><td>   77866.674</td><td>   844611.94</td><td> 132947</td><td> 6353.00</td></tr>\n",
       "\t<tr><th scope=row>66635</th><td>2010</td><td>52</td><td>Goias           </td><td>5221908</td><td>Varjao             </td><td>                                                                        </td><td>5205</td><td>Sul Goiano      </td><td>52014</td><td>Vale do Rio dos Bois</td><td> 11792.429</td><td>   2945.800</td><td>    17149.13</td><td>    8022.706</td><td>    1583.789</td><td>    33471.15</td><td>   3661</td><td> 9142.62</td></tr>\n",
       "\t<tr><th scope=row>66636</th><td>2010</td><td>52</td><td>Goias           </td><td>5222005</td><td>Vianopolis         </td><td>                                                                        </td><td>5205</td><td>Sul Goiano      </td><td>52016</td><td>Pires do Rio        </td><td> 57902.332</td><td>  21737.879</td><td>    81168.99</td><td>   24544.062</td><td>   10203.946</td><td>   171013.15</td><td>  12549</td><td>13627.63</td></tr>\n",
       "\t<tr><th scope=row>66637</th><td>2010</td><td>52</td><td>Goias           </td><td>5222054</td><td>Vicentinopolis     </td><td>                                                                        </td><td>5205</td><td>Sul Goiano      </td><td>52015</td><td>Meia Ponte          </td><td> 41906.248</td><td>  17927.073</td><td>    48572.94</td><td>   14838.702</td><td>    5858.979</td><td>   114265.24</td><td>   7371</td><td>15502.00</td></tr>\n",
       "\t<tr><th scope=row>66638</th><td>2010</td><td>52</td><td>Goias           </td><td>5222203</td><td>Vila Boa           </td><td>RIDE - Regiao Integrada de Desenvolvimento do Distrito Federal e Entorno</td><td>5204</td><td>Leste Goiano    </td><td>52012</td><td>Entorno de Brasilia </td><td> 34680.992</td><td>   7080.613</td><td>    27917.72</td><td>   12236.672</td><td>    3363.469</td><td>    73042.79</td><td>   4742</td><td>15403.37</td></tr>\n",
       "\t<tr><th scope=row>66639</th><td>2010</td><td>52</td><td>Goias           </td><td>5222302</td><td>Vila Propicio      </td><td>                                                                        </td><td>5204</td><td>Leste Goiano    </td><td>52012</td><td>Entorno de Brasilia </td><td> 71504.339</td><td>   6022.426</td><td>    27272.10</td><td>   11038.197</td><td>    3317.144</td><td>   108116.01</td><td>   5145</td><td>21013.80</td></tr>\n",
       "\t<tr><th scope=row>66640</th><td>2010</td><td>53</td><td>Distrito Federal</td><td>5300108</td><td>Brasilia           </td><td>RIDE - Regiao Integrada de Desenvolvimento do Distrito Federal e Entorno</td><td>5301</td><td>Distrito Federal</td><td>53001</td><td>Brasilia            </td><td>334930.280</td><td>8720979.863</td><td>124179104.50</td><td>72493372.060</td><td>16671304.210</td><td>149906318.90</td><td>2562963</td><td>58489.46</td></tr>\n",
       "</tbody>\n",
       "</table>\n"
      ],
      "text/latex": [
       "A data.frame: 10 × 18\n",
       "\\begin{tabular}{r|llllllllllllllllll}\n",
       "  & Ano & UF\\_ID & UF & Municipio\\_ID & Municipio & Regiao\\_Metropolitana & Mesorregiao\\_ID & Mesorregiao & Microrregioo\\_ID & Microrregiao & Valor\\_Agropecuaria & Valor\\_Industria & Valor\\_Servicos & Valor\\_Administracao & Valor\\_Impostos & PIB\\_Corrente & Populacao & PIB\\_PerCapita\\\\\n",
       "  & <int> & <int> & <chr> & <int> & <chr> & <chr> & <int> & <chr> & <int> & <chr> & <dbl> & <dbl> & <dbl> & <dbl> & <dbl> & <dbl> & <int> & <dbl>\\\\\n",
       "\\hline\n",
       "\t66631 & 2010 & 52 & Goias            & 5221601 & Uruacu              &                                                                          & 5202 & Norte Goiano     & 52004 & Porangatu            &  50186.278 &   80408.171 &    248412.61 &    68739.039 &    44789.466 &    423796.53 &   36949 & 11469.77\\\\\n",
       "\t66632 & 2010 & 52 & Goias            & 5221700 & Uruana              &                                                                          & 5203 & Centro Goiano    & 52006 & Ceres                &  94439.383 &    9633.560 &     66874.51 &    23777.424 &     5425.137 &    176372.59 &   13821 & 12761.20\\\\\n",
       "\t66633 & 2010 & 52 & Goias            & 5221809 & Urutai              &                                                                          & 5205 & Sul Goiano       & 52016 & Pires do Rio         &  23402.719 &    2588.524 &     16097.23 &     7283.277 &     1208.431 &     43296.90 &    3058 & 14158.57\\\\\n",
       "\t66634 & 2010 & 52 & Goias            & 5221858 & Valparaiso de Goias & RIDE - Regiao Integrada de Desenvolvimento do Distrito Federal e Entorno & 5204 & Leste Goiano     & 52012 & Entorno de Brasilia  &    150.352 &  109633.181 &    656961.73 &   225990.212 &    77866.674 &    844611.94 &  132947 &  6353.00\\\\\n",
       "\t66635 & 2010 & 52 & Goias            & 5221908 & Varjao              &                                                                          & 5205 & Sul Goiano       & 52014 & Vale do Rio dos Bois &  11792.429 &    2945.800 &     17149.13 &     8022.706 &     1583.789 &     33471.15 &    3661 &  9142.62\\\\\n",
       "\t66636 & 2010 & 52 & Goias            & 5222005 & Vianopolis          &                                                                          & 5205 & Sul Goiano       & 52016 & Pires do Rio         &  57902.332 &   21737.879 &     81168.99 &    24544.062 &    10203.946 &    171013.15 &   12549 & 13627.63\\\\\n",
       "\t66637 & 2010 & 52 & Goias            & 5222054 & Vicentinopolis      &                                                                          & 5205 & Sul Goiano       & 52015 & Meia Ponte           &  41906.248 &   17927.073 &     48572.94 &    14838.702 &     5858.979 &    114265.24 &    7371 & 15502.00\\\\\n",
       "\t66638 & 2010 & 52 & Goias            & 5222203 & Vila Boa            & RIDE - Regiao Integrada de Desenvolvimento do Distrito Federal e Entorno & 5204 & Leste Goiano     & 52012 & Entorno de Brasilia  &  34680.992 &    7080.613 &     27917.72 &    12236.672 &     3363.469 &     73042.79 &    4742 & 15403.37\\\\\n",
       "\t66639 & 2010 & 52 & Goias            & 5222302 & Vila Propicio       &                                                                          & 5204 & Leste Goiano     & 52012 & Entorno de Brasilia  &  71504.339 &    6022.426 &     27272.10 &    11038.197 &     3317.144 &    108116.01 &    5145 & 21013.80\\\\\n",
       "\t66640 & 2010 & 53 & Distrito Federal & 5300108 & Brasilia            & RIDE - Regiao Integrada de Desenvolvimento do Distrito Federal e Entorno & 5301 & Distrito Federal & 53001 & Brasilia             & 334930.280 & 8720979.863 & 124179104.50 & 72493372.060 & 16671304.210 & 149906318.90 & 2562963 & 58489.46\\\\\n",
       "\\end{tabular}\n"
      ],
      "text/markdown": [
       "\n",
       "A data.frame: 10 × 18\n",
       "\n",
       "| <!--/--> | Ano &lt;int&gt; | UF_ID &lt;int&gt; | UF &lt;chr&gt; | Municipio_ID &lt;int&gt; | Municipio &lt;chr&gt; | Regiao_Metropolitana &lt;chr&gt; | Mesorregiao_ID &lt;int&gt; | Mesorregiao &lt;chr&gt; | Microrregioo_ID &lt;int&gt; | Microrregiao &lt;chr&gt; | Valor_Agropecuaria &lt;dbl&gt; | Valor_Industria &lt;dbl&gt; | Valor_Servicos &lt;dbl&gt; | Valor_Administracao &lt;dbl&gt; | Valor_Impostos &lt;dbl&gt; | PIB_Corrente &lt;dbl&gt; | Populacao &lt;int&gt; | PIB_PerCapita &lt;dbl&gt; |\n",
       "|---|---|---|---|---|---|---|---|---|---|---|---|---|---|---|---|---|---|---|\n",
       "| 66631 | 2010 | 52 | Goias            | 5221601 | Uruacu              | <!----> | 5202 | Norte Goiano     | 52004 | Porangatu            |  50186.278 |   80408.171 |    248412.61 |    68739.039 |    44789.466 |    423796.53 |   36949 | 11469.77 |\n",
       "| 66632 | 2010 | 52 | Goias            | 5221700 | Uruana              | <!----> | 5203 | Centro Goiano    | 52006 | Ceres                |  94439.383 |    9633.560 |     66874.51 |    23777.424 |     5425.137 |    176372.59 |   13821 | 12761.20 |\n",
       "| 66633 | 2010 | 52 | Goias            | 5221809 | Urutai              | <!----> | 5205 | Sul Goiano       | 52016 | Pires do Rio         |  23402.719 |    2588.524 |     16097.23 |     7283.277 |     1208.431 |     43296.90 |    3058 | 14158.57 |\n",
       "| 66634 | 2010 | 52 | Goias            | 5221858 | Valparaiso de Goias | RIDE - Regiao Integrada de Desenvolvimento do Distrito Federal e Entorno | 5204 | Leste Goiano     | 52012 | Entorno de Brasilia  |    150.352 |  109633.181 |    656961.73 |   225990.212 |    77866.674 |    844611.94 |  132947 |  6353.00 |\n",
       "| 66635 | 2010 | 52 | Goias            | 5221908 | Varjao              | <!----> | 5205 | Sul Goiano       | 52014 | Vale do Rio dos Bois |  11792.429 |    2945.800 |     17149.13 |     8022.706 |     1583.789 |     33471.15 |    3661 |  9142.62 |\n",
       "| 66636 | 2010 | 52 | Goias            | 5222005 | Vianopolis          | <!----> | 5205 | Sul Goiano       | 52016 | Pires do Rio         |  57902.332 |   21737.879 |     81168.99 |    24544.062 |    10203.946 |    171013.15 |   12549 | 13627.63 |\n",
       "| 66637 | 2010 | 52 | Goias            | 5222054 | Vicentinopolis      | <!----> | 5205 | Sul Goiano       | 52015 | Meia Ponte           |  41906.248 |   17927.073 |     48572.94 |    14838.702 |     5858.979 |    114265.24 |    7371 | 15502.00 |\n",
       "| 66638 | 2010 | 52 | Goias            | 5222203 | Vila Boa            | RIDE - Regiao Integrada de Desenvolvimento do Distrito Federal e Entorno | 5204 | Leste Goiano     | 52012 | Entorno de Brasilia  |  34680.992 |    7080.613 |     27917.72 |    12236.672 |     3363.469 |     73042.79 |    4742 | 15403.37 |\n",
       "| 66639 | 2010 | 52 | Goias            | 5222302 | Vila Propicio       | <!----> | 5204 | Leste Goiano     | 52012 | Entorno de Brasilia  |  71504.339 |    6022.426 |     27272.10 |    11038.197 |     3317.144 |    108116.01 |    5145 | 21013.80 |\n",
       "| 66640 | 2010 | 53 | Distrito Federal | 5300108 | Brasilia            | RIDE - Regiao Integrada de Desenvolvimento do Distrito Federal e Entorno | 5301 | Distrito Federal | 53001 | Brasilia             | 334930.280 | 8720979.863 | 124179104.50 | 72493372.060 | 16671304.210 | 149906318.90 | 2562963 | 58489.46 |\n",
       "\n"
      ],
      "text/plain": [
       "      Ano  UF_ID UF               Municipio_ID Municipio          \n",
       "66631 2010 52    Goias            5221601      Uruacu             \n",
       "66632 2010 52    Goias            5221700      Uruana             \n",
       "66633 2010 52    Goias            5221809      Urutai             \n",
       "66634 2010 52    Goias            5221858      Valparaiso de Goias\n",
       "66635 2010 52    Goias            5221908      Varjao             \n",
       "66636 2010 52    Goias            5222005      Vianopolis         \n",
       "66637 2010 52    Goias            5222054      Vicentinopolis     \n",
       "66638 2010 52    Goias            5222203      Vila Boa           \n",
       "66639 2010 52    Goias            5222302      Vila Propicio      \n",
       "66640 2010 53    Distrito Federal 5300108      Brasilia           \n",
       "      Regiao_Metropolitana                                                    \n",
       "66631                                                                         \n",
       "66632                                                                         \n",
       "66633                                                                         \n",
       "66634 RIDE - Regiao Integrada de Desenvolvimento do Distrito Federal e Entorno\n",
       "66635                                                                         \n",
       "66636                                                                         \n",
       "66637                                                                         \n",
       "66638 RIDE - Regiao Integrada de Desenvolvimento do Distrito Federal e Entorno\n",
       "66639                                                                         \n",
       "66640 RIDE - Regiao Integrada de Desenvolvimento do Distrito Federal e Entorno\n",
       "      Mesorregiao_ID Mesorregiao      Microrregioo_ID Microrregiao        \n",
       "66631 5202           Norte Goiano     52004           Porangatu           \n",
       "66632 5203           Centro Goiano    52006           Ceres               \n",
       "66633 5205           Sul Goiano       52016           Pires do Rio        \n",
       "66634 5204           Leste Goiano     52012           Entorno de Brasilia \n",
       "66635 5205           Sul Goiano       52014           Vale do Rio dos Bois\n",
       "66636 5205           Sul Goiano       52016           Pires do Rio        \n",
       "66637 5205           Sul Goiano       52015           Meia Ponte          \n",
       "66638 5204           Leste Goiano     52012           Entorno de Brasilia \n",
       "66639 5204           Leste Goiano     52012           Entorno de Brasilia \n",
       "66640 5301           Distrito Federal 53001           Brasilia            \n",
       "      Valor_Agropecuaria Valor_Industria Valor_Servicos Valor_Administracao\n",
       "66631  50186.278           80408.171        248412.61      68739.039       \n",
       "66632  94439.383            9633.560         66874.51      23777.424       \n",
       "66633  23402.719            2588.524         16097.23       7283.277       \n",
       "66634    150.352          109633.181        656961.73     225990.212       \n",
       "66635  11792.429            2945.800         17149.13       8022.706       \n",
       "66636  57902.332           21737.879         81168.99      24544.062       \n",
       "66637  41906.248           17927.073         48572.94      14838.702       \n",
       "66638  34680.992            7080.613         27917.72      12236.672       \n",
       "66639  71504.339            6022.426         27272.10      11038.197       \n",
       "66640 334930.280         8720979.863     124179104.50   72493372.060       \n",
       "      Valor_Impostos PIB_Corrente Populacao PIB_PerCapita\n",
       "66631    44789.466      423796.53   36949   11469.77     \n",
       "66632     5425.137      176372.59   13821   12761.20     \n",
       "66633     1208.431       43296.90    3058   14158.57     \n",
       "66634    77866.674      844611.94  132947    6353.00     \n",
       "66635     1583.789       33471.15    3661    9142.62     \n",
       "66636    10203.946      171013.15   12549   13627.63     \n",
       "66637     5858.979      114265.24    7371   15502.00     \n",
       "66638     3363.469       73042.79    4742   15403.37     \n",
       "66639     3317.144      108116.01    5145   21013.80     \n",
       "66640 16671304.210   149906318.90 2562963   58489.46     "
      ]
     },
     "metadata": {},
     "output_type": "display_data"
    },
    {
     "data": {
      "text/html": [
       "<table class=\"dataframe\">\n",
       "<caption>A data.frame: 2 × 18</caption>\n",
       "<thead>\n",
       "\t<tr><th></th><th scope=col>Ano</th><th scope=col>UF_ID</th><th scope=col>UF</th><th scope=col>Municipio_ID</th><th scope=col>Municipio</th><th scope=col>Regiao_Metropolitana</th><th scope=col>Mesorregiao_ID</th><th scope=col>Mesorregiao</th><th scope=col>Microrregioo_ID</th><th scope=col>Microrregiao</th><th scope=col>Valor_Agropecuaria</th><th scope=col>Valor_Industria</th><th scope=col>Valor_Servicos</th><th scope=col>Valor_Administracao</th><th scope=col>Valor_Impostos</th><th scope=col>PIB_Corrente</th><th scope=col>Populacao</th><th scope=col>PIB_PerCapita</th></tr>\n",
       "\t<tr><th></th><th scope=col>&lt;int&gt;</th><th scope=col>&lt;int&gt;</th><th scope=col>&lt;chr&gt;</th><th scope=col>&lt;int&gt;</th><th scope=col>&lt;chr&gt;</th><th scope=col>&lt;chr&gt;</th><th scope=col>&lt;int&gt;</th><th scope=col>&lt;chr&gt;</th><th scope=col>&lt;int&gt;</th><th scope=col>&lt;chr&gt;</th><th scope=col>&lt;dbl&gt;</th><th scope=col>&lt;dbl&gt;</th><th scope=col>&lt;dbl&gt;</th><th scope=col>&lt;dbl&gt;</th><th scope=col>&lt;dbl&gt;</th><th scope=col>&lt;dbl&gt;</th><th scope=col>&lt;int&gt;</th><th scope=col>&lt;dbl&gt;</th></tr>\n",
       "</thead>\n",
       "<tbody>\n",
       "\t<tr><th scope=row>66639</th><td>2010</td><td>52</td><td>Goias           </td><td>5222302</td><td>Vila Propicio</td><td>                                                                        </td><td>5204</td><td>Leste Goiano    </td><td>52012</td><td>Entorno de Brasilia</td><td> 71504.34</td><td>   6022.426</td><td>    27272.1</td><td>   11038.2</td><td>    3317.144</td><td>   108116</td><td>   5145</td><td>21013.80</td></tr>\n",
       "\t<tr><th scope=row>66640</th><td>2010</td><td>53</td><td>Distrito Federal</td><td>5300108</td><td>Brasilia     </td><td>RIDE - Regiao Integrada de Desenvolvimento do Distrito Federal e Entorno</td><td>5301</td><td>Distrito Federal</td><td>53001</td><td>Brasilia           </td><td>334930.28</td><td>8720979.863</td><td>124179104.5</td><td>72493372.1</td><td>16671304.210</td><td>149906319</td><td>2562963</td><td>58489.46</td></tr>\n",
       "</tbody>\n",
       "</table>\n"
      ],
      "text/latex": [
       "A data.frame: 2 × 18\n",
       "\\begin{tabular}{r|llllllllllllllllll}\n",
       "  & Ano & UF\\_ID & UF & Municipio\\_ID & Municipio & Regiao\\_Metropolitana & Mesorregiao\\_ID & Mesorregiao & Microrregioo\\_ID & Microrregiao & Valor\\_Agropecuaria & Valor\\_Industria & Valor\\_Servicos & Valor\\_Administracao & Valor\\_Impostos & PIB\\_Corrente & Populacao & PIB\\_PerCapita\\\\\n",
       "  & <int> & <int> & <chr> & <int> & <chr> & <chr> & <int> & <chr> & <int> & <chr> & <dbl> & <dbl> & <dbl> & <dbl> & <dbl> & <dbl> & <int> & <dbl>\\\\\n",
       "\\hline\n",
       "\t66639 & 2010 & 52 & Goias            & 5222302 & Vila Propicio &                                                                          & 5204 & Leste Goiano     & 52012 & Entorno de Brasilia &  71504.34 &    6022.426 &     27272.1 &    11038.2 &     3317.144 &    108116 &    5145 & 21013.80\\\\\n",
       "\t66640 & 2010 & 53 & Distrito Federal & 5300108 & Brasilia      & RIDE - Regiao Integrada de Desenvolvimento do Distrito Federal e Entorno & 5301 & Distrito Federal & 53001 & Brasilia            & 334930.28 & 8720979.863 & 124179104.5 & 72493372.1 & 16671304.210 & 149906319 & 2562963 & 58489.46\\\\\n",
       "\\end{tabular}\n"
      ],
      "text/markdown": [
       "\n",
       "A data.frame: 2 × 18\n",
       "\n",
       "| <!--/--> | Ano &lt;int&gt; | UF_ID &lt;int&gt; | UF &lt;chr&gt; | Municipio_ID &lt;int&gt; | Municipio &lt;chr&gt; | Regiao_Metropolitana &lt;chr&gt; | Mesorregiao_ID &lt;int&gt; | Mesorregiao &lt;chr&gt; | Microrregioo_ID &lt;int&gt; | Microrregiao &lt;chr&gt; | Valor_Agropecuaria &lt;dbl&gt; | Valor_Industria &lt;dbl&gt; | Valor_Servicos &lt;dbl&gt; | Valor_Administracao &lt;dbl&gt; | Valor_Impostos &lt;dbl&gt; | PIB_Corrente &lt;dbl&gt; | Populacao &lt;int&gt; | PIB_PerCapita &lt;dbl&gt; |\n",
       "|---|---|---|---|---|---|---|---|---|---|---|---|---|---|---|---|---|---|---|\n",
       "| 66639 | 2010 | 52 | Goias            | 5222302 | Vila Propicio | <!----> | 5204 | Leste Goiano     | 52012 | Entorno de Brasilia |  71504.34 |    6022.426 |     27272.1 |    11038.2 |     3317.144 |    108116 |    5145 | 21013.80 |\n",
       "| 66640 | 2010 | 53 | Distrito Federal | 5300108 | Brasilia      | RIDE - Regiao Integrada de Desenvolvimento do Distrito Federal e Entorno | 5301 | Distrito Federal | 53001 | Brasilia            | 334930.28 | 8720979.863 | 124179104.5 | 72493372.1 | 16671304.210 | 149906319 | 2562963 | 58489.46 |\n",
       "\n"
      ],
      "text/plain": [
       "      Ano  UF_ID UF               Municipio_ID Municipio    \n",
       "66639 2010 52    Goias            5222302      Vila Propicio\n",
       "66640 2010 53    Distrito Federal 5300108      Brasilia     \n",
       "      Regiao_Metropolitana                                                    \n",
       "66639                                                                         \n",
       "66640 RIDE - Regiao Integrada de Desenvolvimento do Distrito Federal e Entorno\n",
       "      Mesorregiao_ID Mesorregiao      Microrregioo_ID Microrregiao       \n",
       "66639 5204           Leste Goiano     52012           Entorno de Brasilia\n",
       "66640 5301           Distrito Federal 53001           Brasilia           \n",
       "      Valor_Agropecuaria Valor_Industria Valor_Servicos Valor_Administracao\n",
       "66639  71504.34             6022.426         27272.1       11038.2         \n",
       "66640 334930.28          8720979.863     124179104.5    72493372.1         \n",
       "      Valor_Impostos PIB_Corrente Populacao PIB_PerCapita\n",
       "66639     3317.144      108116       5145   21013.80     \n",
       "66640 16671304.210   149906319    2562963   58489.46     "
      ]
     },
     "metadata": {},
     "output_type": "display_data"
    }
   ],
   "source": [
    "tail(dados)\n",
    "tail(dados,10)\n",
    "tail(dados,2)\n",
    "\n"
   ]
  },
  {
   "cell_type": "code",
   "execution_count": 37,
   "metadata": {},
   "outputs": [
    {
     "data": {
      "text/plain": [
       "      Ano           UF_ID            UF             Municipio_ID    \n",
       " Min.   :1999   Min.   :11.00   Length:66640       Min.   :1100015  \n",
       " 1st Qu.:2002   1st Qu.:25.00   Class :character   1st Qu.:2512067  \n",
       " Median :2005   Median :31.00   Mode  :character   Median :3145877  \n",
       " Mean   :2005   Mean   :32.35                      Mean   :3251030  \n",
       " 3rd Qu.:2008   3rd Qu.:41.00                      3rd Qu.:4118501  \n",
       " Max.   :2010   Max.   :53.00                      Max.   :5300108  \n",
       "                                                                    \n",
       "  Municipio         Regiao_Metropolitana Mesorregiao_ID Mesorregiao       \n",
       " Length:66640       Length:66640         Min.   :1101   Length:66640      \n",
       " Class :character   Class :character     1st Qu.:2503   Class :character  \n",
       " Mode  :character   Mode  :character     Median :3110   Mode  :character  \n",
       "                                         Mean   :3239                     \n",
       "                                         3rd Qu.:4106                     \n",
       "                                         Max.   :5301                     \n",
       "                                                                          \n",
       " Microrregioo_ID Microrregiao       Valor_Agropecuaria Valor_Industria   \n",
       " Min.   :11001   Length:66640       Min.   :     0     Min.   :       3  \n",
       " 1st Qu.:25015   Class :character   1st Qu.:  4415     1st Qu.:    1887  \n",
       " Median :31047   Mode  :character   Median : 10080     Median :    4835  \n",
       " Mean   :32370                      Mean   : 19627     Mean   :   93292  \n",
       " 3rd Qu.:41023                      3rd Qu.: 21778     3rd Qu.:   19951  \n",
       " Max.   :53001                      Max.   :829565     Max.   :74122189  \n",
       "                                                                         \n",
       " Valor_Servicos      Valor_Administracao Valor_Impostos      PIB_Corrente      \n",
       " Min.   :     1194   Min.   :     715    Min.   :      11   Min.   :     1422  \n",
       " 1st Qu.:    12326   1st Qu.:    6221    1st Qu.:     732   1st Qu.:    22687  \n",
       " Median :    26140   Median :   12072    Median :    2109   Median :    49300  \n",
       " Mean   :   220885   Mean   :   51927    Mean   :   54637   Mean   :   388440  \n",
       " 3rd Qu.:    67324   3rd Qu.:   26954    3rd Qu.:    8226   3rd Qu.:   130539  \n",
       " Max.   :289957523   Max.   :72493372    Max.   :79501265   Max.   :443600102  \n",
       "                                                                               \n",
       "   Populacao        PIB_PerCapita   \n",
       " Min.   :     805   Min.   :  2270  \n",
       " 1st Qu.:    5230   1st Qu.:  5193  \n",
       " Median :   10933   Median :  9818  \n",
       " Mean   :   34274   Mean   : 12785  \n",
       " 3rd Qu.:   23506   3rd Qu.: 15459  \n",
       " Max.   :11244369   Max.   :296885  \n",
       " NA's   :61075      NA's   :61075   "
      ]
     },
     "metadata": {},
     "output_type": "display_data"
    }
   ],
   "source": [
    "summary(dados)\n",
    "\n"
   ]
  },
  {
   "cell_type": "code",
   "execution_count": 38,
   "metadata": {},
   "outputs": [
    {
     "data": {
      "text/html": [
       "<table class=\"dataframe\">\n",
       "<caption>A data.frame: 66640 × 4</caption>\n",
       "<thead>\n",
       "\t<tr><th scope=col>Municipio</th><th scope=col>Microrregiao</th><th scope=col>Populacao</th><th scope=col>Ano</th></tr>\n",
       "\t<tr><th scope=col>&lt;chr&gt;</th><th scope=col>&lt;chr&gt;</th><th scope=col>&lt;int&gt;</th><th scope=col>&lt;int&gt;</th></tr>\n",
       "</thead>\n",
       "<tbody>\n",
       "\t<tr><td>Alta Floresta DOeste   </td><td>Cacoal           </td><td>NA</td><td>1999</td></tr>\n",
       "\t<tr><td>Ariquemes              </td><td>Ariquemes        </td><td>NA</td><td>1999</td></tr>\n",
       "\t<tr><td>Cabixi                 </td><td>Colorado do Oeste</td><td>NA</td><td>1999</td></tr>\n",
       "\t<tr><td>Cacoal                 </td><td>Cacoal           </td><td>NA</td><td>1999</td></tr>\n",
       "\t<tr><td>Cerejeiras             </td><td>Colorado do Oeste</td><td>NA</td><td>1999</td></tr>\n",
       "\t<tr><td>Colorado do Oeste      </td><td>Colorado do Oeste</td><td>NA</td><td>1999</td></tr>\n",
       "\t<tr><td>Corumbiara             </td><td>Colorado do Oeste</td><td>NA</td><td>1999</td></tr>\n",
       "\t<tr><td>Costa Marques          </td><td>Guajara-Mirim    </td><td>NA</td><td>1999</td></tr>\n",
       "\t<tr><td>Espigao DOeste         </td><td>Cacoal           </td><td>NA</td><td>1999</td></tr>\n",
       "\t<tr><td>Guajara-Mirim          </td><td>Guajara-Mirim    </td><td>NA</td><td>1999</td></tr>\n",
       "\t<tr><td>Jaru                   </td><td>Ji-Parana        </td><td>NA</td><td>1999</td></tr>\n",
       "\t<tr><td>Ji-Parana              </td><td>Ji-Parana        </td><td>NA</td><td>1999</td></tr>\n",
       "\t<tr><td>Machadinho DOeste      </td><td>Ariquemes        </td><td>NA</td><td>1999</td></tr>\n",
       "\t<tr><td>Nova Brasilandia DOeste</td><td>Alvorada DOeste  </td><td>NA</td><td>1999</td></tr>\n",
       "\t<tr><td>Ouro Preto do Oeste    </td><td>Ji-Parana        </td><td>NA</td><td>1999</td></tr>\n",
       "\t<tr><td>Pimenta Bueno          </td><td>Vilhena          </td><td>NA</td><td>1999</td></tr>\n",
       "\t<tr><td>Porto Velho            </td><td>Porto Velho      </td><td>NA</td><td>1999</td></tr>\n",
       "\t<tr><td>Presidente Medici      </td><td>Ji-Parana        </td><td>NA</td><td>1999</td></tr>\n",
       "\t<tr><td>Rio Crespo             </td><td>Ariquemes        </td><td>NA</td><td>1999</td></tr>\n",
       "\t<tr><td>Rolim de Moura         </td><td>Cacoal           </td><td>NA</td><td>1999</td></tr>\n",
       "\t<tr><td>Santa Luzia DOeste     </td><td>Cacoal           </td><td>NA</td><td>1999</td></tr>\n",
       "\t<tr><td>Vilhena                </td><td>Vilhena          </td><td>NA</td><td>1999</td></tr>\n",
       "\t<tr><td>Sao Miguel do Guapore  </td><td>Alvorada DOeste  </td><td>NA</td><td>1999</td></tr>\n",
       "\t<tr><td>Nova Mamore            </td><td>Porto Velho      </td><td>NA</td><td>1999</td></tr>\n",
       "\t<tr><td>Alvorada DOeste        </td><td>Alvorada DOeste  </td><td>NA</td><td>1999</td></tr>\n",
       "\t<tr><td>Alto Alegre dos Parecis</td><td>Cacoal           </td><td>NA</td><td>1999</td></tr>\n",
       "\t<tr><td>Alto Paraiso           </td><td>Ariquemes        </td><td>NA</td><td>1999</td></tr>\n",
       "\t<tr><td>Buritis                </td><td>Porto Velho      </td><td>NA</td><td>1999</td></tr>\n",
       "\t<tr><td>Novo Horizonte do Oeste</td><td>Cacoal           </td><td>NA</td><td>1999</td></tr>\n",
       "\t<tr><td>Cacaulandia            </td><td>Ariquemes        </td><td>NA</td><td>1999</td></tr>\n",
       "\t<tr><td>...</td><td>...</td><td>...</td><td>...</td></tr>\n",
       "\t<tr><td>Sao Luis de Montes Belos  </td><td>Anicuns               </td><td>  30050</td><td>2010</td></tr>\n",
       "\t<tr><td>Sao Luiz do Norte         </td><td>Ceres                 </td><td>   4617</td><td>2010</td></tr>\n",
       "\t<tr><td>Sao Miguel do Araguaia    </td><td>Sao Miguel do Araguaia</td><td>  22294</td><td>2010</td></tr>\n",
       "\t<tr><td>Sao Miguel do Passa Quatro</td><td>Pires do Rio          </td><td>   3761</td><td>2010</td></tr>\n",
       "\t<tr><td>Sao Patricio              </td><td>Ceres                 </td><td>   1991</td><td>2010</td></tr>\n",
       "\t<tr><td>Sao Simao                 </td><td>Quirinopolis          </td><td>  17086</td><td>2010</td></tr>\n",
       "\t<tr><td>Senador Canedo            </td><td>Goiania               </td><td>  84399</td><td>2010</td></tr>\n",
       "\t<tr><td>Serranopolis              </td><td>Sudoeste de Goias     </td><td>   7477</td><td>2010</td></tr>\n",
       "\t<tr><td>Silvania                  </td><td>Pires do Rio          </td><td>  19096</td><td>2010</td></tr>\n",
       "\t<tr><td>Simolandia                </td><td>Vao do Parana         </td><td>   6512</td><td>2010</td></tr>\n",
       "\t<tr><td>Sitio dAbadia             </td><td>Vao do Parana         </td><td>   2821</td><td>2010</td></tr>\n",
       "\t<tr><td>Taquaral de Goias         </td><td>Anapolis              </td><td>   3540</td><td>2010</td></tr>\n",
       "\t<tr><td>Teresina de Goias         </td><td>Chapada dos Veadeiros </td><td>   3016</td><td>2010</td></tr>\n",
       "\t<tr><td>Terezopolis de Goias      </td><td>Goiania               </td><td>   6562</td><td>2010</td></tr>\n",
       "\t<tr><td>Tres Ranchos              </td><td>Catalao               </td><td>   2817</td><td>2010</td></tr>\n",
       "\t<tr><td>Trindade                  </td><td>Goiania               </td><td> 104506</td><td>2010</td></tr>\n",
       "\t<tr><td>Trombas                   </td><td>Porangatu             </td><td>   3435</td><td>2010</td></tr>\n",
       "\t<tr><td>Turvania                  </td><td>Anicuns               </td><td>   4839</td><td>2010</td></tr>\n",
       "\t<tr><td>Turvelandia               </td><td>Vale do Rio dos Bois  </td><td>   4399</td><td>2010</td></tr>\n",
       "\t<tr><td>Uirapuru                  </td><td>Sao Miguel do Araguaia</td><td>   2935</td><td>2010</td></tr>\n",
       "\t<tr><td>Uruacu                    </td><td>Porangatu             </td><td>  36949</td><td>2010</td></tr>\n",
       "\t<tr><td>Uruana                    </td><td>Ceres                 </td><td>  13821</td><td>2010</td></tr>\n",
       "\t<tr><td>Urutai                    </td><td>Pires do Rio          </td><td>   3058</td><td>2010</td></tr>\n",
       "\t<tr><td>Valparaiso de Goias       </td><td>Entorno de Brasilia   </td><td> 132947</td><td>2010</td></tr>\n",
       "\t<tr><td>Varjao                    </td><td>Vale do Rio dos Bois  </td><td>   3661</td><td>2010</td></tr>\n",
       "\t<tr><td>Vianopolis                </td><td>Pires do Rio          </td><td>  12549</td><td>2010</td></tr>\n",
       "\t<tr><td>Vicentinopolis            </td><td>Meia Ponte            </td><td>   7371</td><td>2010</td></tr>\n",
       "\t<tr><td>Vila Boa                  </td><td>Entorno de Brasilia   </td><td>   4742</td><td>2010</td></tr>\n",
       "\t<tr><td>Vila Propicio             </td><td>Entorno de Brasilia   </td><td>   5145</td><td>2010</td></tr>\n",
       "\t<tr><td>Brasilia                  </td><td>Brasilia              </td><td>2562963</td><td>2010</td></tr>\n",
       "</tbody>\n",
       "</table>\n"
      ],
      "text/latex": [
       "A data.frame: 66640 × 4\n",
       "\\begin{tabular}{llll}\n",
       " Municipio & Microrregiao & Populacao & Ano\\\\\n",
       " <chr> & <chr> & <int> & <int>\\\\\n",
       "\\hline\n",
       "\t Alta Floresta DOeste    & Cacoal            & NA & 1999\\\\\n",
       "\t Ariquemes               & Ariquemes         & NA & 1999\\\\\n",
       "\t Cabixi                  & Colorado do Oeste & NA & 1999\\\\\n",
       "\t Cacoal                  & Cacoal            & NA & 1999\\\\\n",
       "\t Cerejeiras              & Colorado do Oeste & NA & 1999\\\\\n",
       "\t Colorado do Oeste       & Colorado do Oeste & NA & 1999\\\\\n",
       "\t Corumbiara              & Colorado do Oeste & NA & 1999\\\\\n",
       "\t Costa Marques           & Guajara-Mirim     & NA & 1999\\\\\n",
       "\t Espigao DOeste          & Cacoal            & NA & 1999\\\\\n",
       "\t Guajara-Mirim           & Guajara-Mirim     & NA & 1999\\\\\n",
       "\t Jaru                    & Ji-Parana         & NA & 1999\\\\\n",
       "\t Ji-Parana               & Ji-Parana         & NA & 1999\\\\\n",
       "\t Machadinho DOeste       & Ariquemes         & NA & 1999\\\\\n",
       "\t Nova Brasilandia DOeste & Alvorada DOeste   & NA & 1999\\\\\n",
       "\t Ouro Preto do Oeste     & Ji-Parana         & NA & 1999\\\\\n",
       "\t Pimenta Bueno           & Vilhena           & NA & 1999\\\\\n",
       "\t Porto Velho             & Porto Velho       & NA & 1999\\\\\n",
       "\t Presidente Medici       & Ji-Parana         & NA & 1999\\\\\n",
       "\t Rio Crespo              & Ariquemes         & NA & 1999\\\\\n",
       "\t Rolim de Moura          & Cacoal            & NA & 1999\\\\\n",
       "\t Santa Luzia DOeste      & Cacoal            & NA & 1999\\\\\n",
       "\t Vilhena                 & Vilhena           & NA & 1999\\\\\n",
       "\t Sao Miguel do Guapore   & Alvorada DOeste   & NA & 1999\\\\\n",
       "\t Nova Mamore             & Porto Velho       & NA & 1999\\\\\n",
       "\t Alvorada DOeste         & Alvorada DOeste   & NA & 1999\\\\\n",
       "\t Alto Alegre dos Parecis & Cacoal            & NA & 1999\\\\\n",
       "\t Alto Paraiso            & Ariquemes         & NA & 1999\\\\\n",
       "\t Buritis                 & Porto Velho       & NA & 1999\\\\\n",
       "\t Novo Horizonte do Oeste & Cacoal            & NA & 1999\\\\\n",
       "\t Cacaulandia             & Ariquemes         & NA & 1999\\\\\n",
       "\t ... & ... & ... & ...\\\\\n",
       "\t Sao Luis de Montes Belos   & Anicuns                &   30050 & 2010\\\\\n",
       "\t Sao Luiz do Norte          & Ceres                  &    4617 & 2010\\\\\n",
       "\t Sao Miguel do Araguaia     & Sao Miguel do Araguaia &   22294 & 2010\\\\\n",
       "\t Sao Miguel do Passa Quatro & Pires do Rio           &    3761 & 2010\\\\\n",
       "\t Sao Patricio               & Ceres                  &    1991 & 2010\\\\\n",
       "\t Sao Simao                  & Quirinopolis           &   17086 & 2010\\\\\n",
       "\t Senador Canedo             & Goiania                &   84399 & 2010\\\\\n",
       "\t Serranopolis               & Sudoeste de Goias      &    7477 & 2010\\\\\n",
       "\t Silvania                   & Pires do Rio           &   19096 & 2010\\\\\n",
       "\t Simolandia                 & Vao do Parana          &    6512 & 2010\\\\\n",
       "\t Sitio dAbadia              & Vao do Parana          &    2821 & 2010\\\\\n",
       "\t Taquaral de Goias          & Anapolis               &    3540 & 2010\\\\\n",
       "\t Teresina de Goias          & Chapada dos Veadeiros  &    3016 & 2010\\\\\n",
       "\t Terezopolis de Goias       & Goiania                &    6562 & 2010\\\\\n",
       "\t Tres Ranchos               & Catalao                &    2817 & 2010\\\\\n",
       "\t Trindade                   & Goiania                &  104506 & 2010\\\\\n",
       "\t Trombas                    & Porangatu              &    3435 & 2010\\\\\n",
       "\t Turvania                   & Anicuns                &    4839 & 2010\\\\\n",
       "\t Turvelandia                & Vale do Rio dos Bois   &    4399 & 2010\\\\\n",
       "\t Uirapuru                   & Sao Miguel do Araguaia &    2935 & 2010\\\\\n",
       "\t Uruacu                     & Porangatu              &   36949 & 2010\\\\\n",
       "\t Uruana                     & Ceres                  &   13821 & 2010\\\\\n",
       "\t Urutai                     & Pires do Rio           &    3058 & 2010\\\\\n",
       "\t Valparaiso de Goias        & Entorno de Brasilia    &  132947 & 2010\\\\\n",
       "\t Varjao                     & Vale do Rio dos Bois   &    3661 & 2010\\\\\n",
       "\t Vianopolis                 & Pires do Rio           &   12549 & 2010\\\\\n",
       "\t Vicentinopolis             & Meia Ponte             &    7371 & 2010\\\\\n",
       "\t Vila Boa                   & Entorno de Brasilia    &    4742 & 2010\\\\\n",
       "\t Vila Propicio              & Entorno de Brasilia    &    5145 & 2010\\\\\n",
       "\t Brasilia                   & Brasilia               & 2562963 & 2010\\\\\n",
       "\\end{tabular}\n"
      ],
      "text/markdown": [
       "\n",
       "A data.frame: 66640 × 4\n",
       "\n",
       "| Municipio &lt;chr&gt; | Microrregiao &lt;chr&gt; | Populacao &lt;int&gt; | Ano &lt;int&gt; |\n",
       "|---|---|---|---|\n",
       "| Alta Floresta DOeste    | Cacoal            | NA | 1999 |\n",
       "| Ariquemes               | Ariquemes         | NA | 1999 |\n",
       "| Cabixi                  | Colorado do Oeste | NA | 1999 |\n",
       "| Cacoal                  | Cacoal            | NA | 1999 |\n",
       "| Cerejeiras              | Colorado do Oeste | NA | 1999 |\n",
       "| Colorado do Oeste       | Colorado do Oeste | NA | 1999 |\n",
       "| Corumbiara              | Colorado do Oeste | NA | 1999 |\n",
       "| Costa Marques           | Guajara-Mirim     | NA | 1999 |\n",
       "| Espigao DOeste          | Cacoal            | NA | 1999 |\n",
       "| Guajara-Mirim           | Guajara-Mirim     | NA | 1999 |\n",
       "| Jaru                    | Ji-Parana         | NA | 1999 |\n",
       "| Ji-Parana               | Ji-Parana         | NA | 1999 |\n",
       "| Machadinho DOeste       | Ariquemes         | NA | 1999 |\n",
       "| Nova Brasilandia DOeste | Alvorada DOeste   | NA | 1999 |\n",
       "| Ouro Preto do Oeste     | Ji-Parana         | NA | 1999 |\n",
       "| Pimenta Bueno           | Vilhena           | NA | 1999 |\n",
       "| Porto Velho             | Porto Velho       | NA | 1999 |\n",
       "| Presidente Medici       | Ji-Parana         | NA | 1999 |\n",
       "| Rio Crespo              | Ariquemes         | NA | 1999 |\n",
       "| Rolim de Moura          | Cacoal            | NA | 1999 |\n",
       "| Santa Luzia DOeste      | Cacoal            | NA | 1999 |\n",
       "| Vilhena                 | Vilhena           | NA | 1999 |\n",
       "| Sao Miguel do Guapore   | Alvorada DOeste   | NA | 1999 |\n",
       "| Nova Mamore             | Porto Velho       | NA | 1999 |\n",
       "| Alvorada DOeste         | Alvorada DOeste   | NA | 1999 |\n",
       "| Alto Alegre dos Parecis | Cacoal            | NA | 1999 |\n",
       "| Alto Paraiso            | Ariquemes         | NA | 1999 |\n",
       "| Buritis                 | Porto Velho       | NA | 1999 |\n",
       "| Novo Horizonte do Oeste | Cacoal            | NA | 1999 |\n",
       "| Cacaulandia             | Ariquemes         | NA | 1999 |\n",
       "| ... | ... | ... | ... |\n",
       "| Sao Luis de Montes Belos   | Anicuns                |   30050 | 2010 |\n",
       "| Sao Luiz do Norte          | Ceres                  |    4617 | 2010 |\n",
       "| Sao Miguel do Araguaia     | Sao Miguel do Araguaia |   22294 | 2010 |\n",
       "| Sao Miguel do Passa Quatro | Pires do Rio           |    3761 | 2010 |\n",
       "| Sao Patricio               | Ceres                  |    1991 | 2010 |\n",
       "| Sao Simao                  | Quirinopolis           |   17086 | 2010 |\n",
       "| Senador Canedo             | Goiania                |   84399 | 2010 |\n",
       "| Serranopolis               | Sudoeste de Goias      |    7477 | 2010 |\n",
       "| Silvania                   | Pires do Rio           |   19096 | 2010 |\n",
       "| Simolandia                 | Vao do Parana          |    6512 | 2010 |\n",
       "| Sitio dAbadia              | Vao do Parana          |    2821 | 2010 |\n",
       "| Taquaral de Goias          | Anapolis               |    3540 | 2010 |\n",
       "| Teresina de Goias          | Chapada dos Veadeiros  |    3016 | 2010 |\n",
       "| Terezopolis de Goias       | Goiania                |    6562 | 2010 |\n",
       "| Tres Ranchos               | Catalao                |    2817 | 2010 |\n",
       "| Trindade                   | Goiania                |  104506 | 2010 |\n",
       "| Trombas                    | Porangatu              |    3435 | 2010 |\n",
       "| Turvania                   | Anicuns                |    4839 | 2010 |\n",
       "| Turvelandia                | Vale do Rio dos Bois   |    4399 | 2010 |\n",
       "| Uirapuru                   | Sao Miguel do Araguaia |    2935 | 2010 |\n",
       "| Uruacu                     | Porangatu              |   36949 | 2010 |\n",
       "| Uruana                     | Ceres                  |   13821 | 2010 |\n",
       "| Urutai                     | Pires do Rio           |    3058 | 2010 |\n",
       "| Valparaiso de Goias        | Entorno de Brasilia    |  132947 | 2010 |\n",
       "| Varjao                     | Vale do Rio dos Bois   |    3661 | 2010 |\n",
       "| Vianopolis                 | Pires do Rio           |   12549 | 2010 |\n",
       "| Vicentinopolis             | Meia Ponte             |    7371 | 2010 |\n",
       "| Vila Boa                   | Entorno de Brasilia    |    4742 | 2010 |\n",
       "| Vila Propicio              | Entorno de Brasilia    |    5145 | 2010 |\n",
       "| Brasilia                   | Brasilia               | 2562963 | 2010 |\n",
       "\n"
      ],
      "text/plain": [
       "      Municipio                  Microrregiao           Populacao Ano \n",
       "1     Alta Floresta DOeste       Cacoal                 NA        1999\n",
       "2     Ariquemes                  Ariquemes              NA        1999\n",
       "3     Cabixi                     Colorado do Oeste      NA        1999\n",
       "4     Cacoal                     Cacoal                 NA        1999\n",
       "5     Cerejeiras                 Colorado do Oeste      NA        1999\n",
       "6     Colorado do Oeste          Colorado do Oeste      NA        1999\n",
       "7     Corumbiara                 Colorado do Oeste      NA        1999\n",
       "8     Costa Marques              Guajara-Mirim          NA        1999\n",
       "9     Espigao DOeste             Cacoal                 NA        1999\n",
       "10    Guajara-Mirim              Guajara-Mirim          NA        1999\n",
       "11    Jaru                       Ji-Parana              NA        1999\n",
       "12    Ji-Parana                  Ji-Parana              NA        1999\n",
       "13    Machadinho DOeste          Ariquemes              NA        1999\n",
       "14    Nova Brasilandia DOeste    Alvorada DOeste        NA        1999\n",
       "15    Ouro Preto do Oeste        Ji-Parana              NA        1999\n",
       "16    Pimenta Bueno              Vilhena                NA        1999\n",
       "17    Porto Velho                Porto Velho            NA        1999\n",
       "18    Presidente Medici          Ji-Parana              NA        1999\n",
       "19    Rio Crespo                 Ariquemes              NA        1999\n",
       "20    Rolim de Moura             Cacoal                 NA        1999\n",
       "21    Santa Luzia DOeste         Cacoal                 NA        1999\n",
       "22    Vilhena                    Vilhena                NA        1999\n",
       "23    Sao Miguel do Guapore      Alvorada DOeste        NA        1999\n",
       "24    Nova Mamore                Porto Velho            NA        1999\n",
       "25    Alvorada DOeste            Alvorada DOeste        NA        1999\n",
       "26    Alto Alegre dos Parecis    Cacoal                 NA        1999\n",
       "27    Alto Paraiso               Ariquemes              NA        1999\n",
       "28    Buritis                    Porto Velho            NA        1999\n",
       "29    Novo Horizonte do Oeste    Cacoal                 NA        1999\n",
       "30    Cacaulandia                Ariquemes              NA        1999\n",
       "...   ...                        ...                    ...       ... \n",
       "66611 Sao Luis de Montes Belos   Anicuns                  30050   2010\n",
       "66612 Sao Luiz do Norte          Ceres                     4617   2010\n",
       "66613 Sao Miguel do Araguaia     Sao Miguel do Araguaia   22294   2010\n",
       "66614 Sao Miguel do Passa Quatro Pires do Rio              3761   2010\n",
       "66615 Sao Patricio               Ceres                     1991   2010\n",
       "66616 Sao Simao                  Quirinopolis             17086   2010\n",
       "66617 Senador Canedo             Goiania                  84399   2010\n",
       "66618 Serranopolis               Sudoeste de Goias         7477   2010\n",
       "66619 Silvania                   Pires do Rio             19096   2010\n",
       "66620 Simolandia                 Vao do Parana             6512   2010\n",
       "66621 Sitio dAbadia              Vao do Parana             2821   2010\n",
       "66622 Taquaral de Goias          Anapolis                  3540   2010\n",
       "66623 Teresina de Goias          Chapada dos Veadeiros     3016   2010\n",
       "66624 Terezopolis de Goias       Goiania                   6562   2010\n",
       "66625 Tres Ranchos               Catalao                   2817   2010\n",
       "66626 Trindade                   Goiania                 104506   2010\n",
       "66627 Trombas                    Porangatu                 3435   2010\n",
       "66628 Turvania                   Anicuns                   4839   2010\n",
       "66629 Turvelandia                Vale do Rio dos Bois      4399   2010\n",
       "66630 Uirapuru                   Sao Miguel do Araguaia    2935   2010\n",
       "66631 Uruacu                     Porangatu                36949   2010\n",
       "66632 Uruana                     Ceres                    13821   2010\n",
       "66633 Urutai                     Pires do Rio              3058   2010\n",
       "66634 Valparaiso de Goias        Entorno de Brasilia     132947   2010\n",
       "66635 Varjao                     Vale do Rio dos Bois      3661   2010\n",
       "66636 Vianopolis                 Pires do Rio             12549   2010\n",
       "66637 Vicentinopolis             Meia Ponte                7371   2010\n",
       "66638 Vila Boa                   Entorno de Brasilia       4742   2010\n",
       "66639 Vila Propicio              Entorno de Brasilia       5145   2010\n",
       "66640 Brasilia                   Brasilia               2562963   2010"
      ]
     },
     "metadata": {},
     "output_type": "display_data"
    }
   ],
   "source": [
    "menosColunas <- dados[,c('Municipio','Microrregiao','Populacao','Ano')]\n",
    "\n",
    "menosColunas"
   ]
  },
  {
   "cell_type": "code",
   "execution_count": 39,
   "metadata": {},
   "outputs": [
    {
     "data": {
      "text/html": [
       "<table class=\"dataframe\">\n",
       "<caption>A data.frame: 8 × 4</caption>\n",
       "<thead>\n",
       "\t<tr><th></th><th scope=col>Municipio</th><th scope=col>Microrregiao</th><th scope=col>Populacao</th><th scope=col>Ano</th></tr>\n",
       "\t<tr><th></th><th scope=col>&lt;chr&gt;</th><th scope=col>&lt;chr&gt;</th><th scope=col>&lt;int&gt;</th><th scope=col>&lt;int&gt;</th></tr>\n",
       "</thead>\n",
       "<tbody>\n",
       "\t<tr><th scope=row>64416</th><td>Biritiba-Mirim       </td><td>Mogi das Cruzes</td><td> 28573</td><td>2010</td></tr>\n",
       "\t<tr><th scope=row>64522</th><td>Ferraz de Vasconcelos</td><td>Mogi das Cruzes</td><td>168290</td><td>2010</td></tr>\n",
       "\t<tr><th scope=row>64549</th><td>Guararema            </td><td>Mogi das Cruzes</td><td> 25861</td><td>2010</td></tr>\n",
       "\t<tr><th scope=row>64606</th><td>Itaquaquecetuba      </td><td>Mogi das Cruzes</td><td>321854</td><td>2010</td></tr>\n",
       "\t<tr><th scope=row>64685</th><td>Mogi das Cruzes      </td><td>Mogi das Cruzes</td><td>387241</td><td>2010</td></tr>\n",
       "\t<tr><th scope=row>64786</th><td>Poa                  </td><td>Mogi das Cruzes</td><td>106033</td><td>2010</td></tr>\n",
       "\t<tr><th scope=row>64846</th><td>Salesopolis          </td><td>Mogi das Cruzes</td><td> 15639</td><td>2010</td></tr>\n",
       "\t<tr><th scope=row>64926</th><td>Suzano               </td><td>Mogi das Cruzes</td><td>262568</td><td>2010</td></tr>\n",
       "</tbody>\n",
       "</table>\n"
      ],
      "text/latex": [
       "A data.frame: 8 × 4\n",
       "\\begin{tabular}{r|llll}\n",
       "  & Municipio & Microrregiao & Populacao & Ano\\\\\n",
       "  & <chr> & <chr> & <int> & <int>\\\\\n",
       "\\hline\n",
       "\t64416 & Biritiba-Mirim        & Mogi das Cruzes &  28573 & 2010\\\\\n",
       "\t64522 & Ferraz de Vasconcelos & Mogi das Cruzes & 168290 & 2010\\\\\n",
       "\t64549 & Guararema             & Mogi das Cruzes &  25861 & 2010\\\\\n",
       "\t64606 & Itaquaquecetuba       & Mogi das Cruzes & 321854 & 2010\\\\\n",
       "\t64685 & Mogi das Cruzes       & Mogi das Cruzes & 387241 & 2010\\\\\n",
       "\t64786 & Poa                   & Mogi das Cruzes & 106033 & 2010\\\\\n",
       "\t64846 & Salesopolis           & Mogi das Cruzes &  15639 & 2010\\\\\n",
       "\t64926 & Suzano                & Mogi das Cruzes & 262568 & 2010\\\\\n",
       "\\end{tabular}\n"
      ],
      "text/markdown": [
       "\n",
       "A data.frame: 8 × 4\n",
       "\n",
       "| <!--/--> | Municipio &lt;chr&gt; | Microrregiao &lt;chr&gt; | Populacao &lt;int&gt; | Ano &lt;int&gt; |\n",
       "|---|---|---|---|---|\n",
       "| 64416 | Biritiba-Mirim        | Mogi das Cruzes |  28573 | 2010 |\n",
       "| 64522 | Ferraz de Vasconcelos | Mogi das Cruzes | 168290 | 2010 |\n",
       "| 64549 | Guararema             | Mogi das Cruzes |  25861 | 2010 |\n",
       "| 64606 | Itaquaquecetuba       | Mogi das Cruzes | 321854 | 2010 |\n",
       "| 64685 | Mogi das Cruzes       | Mogi das Cruzes | 387241 | 2010 |\n",
       "| 64786 | Poa                   | Mogi das Cruzes | 106033 | 2010 |\n",
       "| 64846 | Salesopolis           | Mogi das Cruzes |  15639 | 2010 |\n",
       "| 64926 | Suzano                | Mogi das Cruzes | 262568 | 2010 |\n",
       "\n"
      ],
      "text/plain": [
       "      Municipio             Microrregiao    Populacao Ano \n",
       "64416 Biritiba-Mirim        Mogi das Cruzes  28573    2010\n",
       "64522 Ferraz de Vasconcelos Mogi das Cruzes 168290    2010\n",
       "64549 Guararema             Mogi das Cruzes  25861    2010\n",
       "64606 Itaquaquecetuba       Mogi das Cruzes 321854    2010\n",
       "64685 Mogi das Cruzes       Mogi das Cruzes 387241    2010\n",
       "64786 Poa                   Mogi das Cruzes 106033    2010\n",
       "64846 Salesopolis           Mogi das Cruzes  15639    2010\n",
       "64926 Suzano                Mogi das Cruzes 262568    2010"
      ]
     },
     "metadata": {},
     "output_type": "display_data"
    },
    {
     "data": {
      "text/html": [
       "<table class=\"dataframe\">\n",
       "<caption>A data.frame: 8 × 4</caption>\n",
       "<thead>\n",
       "\t<tr><th></th><th scope=col>Municipio</th><th scope=col>Microrregiao</th><th scope=col>Populacao</th><th scope=col>Ano</th></tr>\n",
       "\t<tr><th></th><th scope=col>&lt;chr&gt;</th><th scope=col>&lt;chr&gt;</th><th scope=col>&lt;int&gt;</th><th scope=col>&lt;int&gt;</th></tr>\n",
       "</thead>\n",
       "<tbody>\n",
       "\t<tr><th scope=row>64416</th><td>Biritiba-Mirim       </td><td>Mogi das Cruzes</td><td> 28573</td><td>2010</td></tr>\n",
       "\t<tr><th scope=row>64522</th><td>Ferraz de Vasconcelos</td><td>Mogi das Cruzes</td><td>168290</td><td>2010</td></tr>\n",
       "\t<tr><th scope=row>64549</th><td>Guararema            </td><td>Mogi das Cruzes</td><td> 25861</td><td>2010</td></tr>\n",
       "\t<tr><th scope=row>64606</th><td>Itaquaquecetuba      </td><td>Mogi das Cruzes</td><td>321854</td><td>2010</td></tr>\n",
       "\t<tr><th scope=row>64685</th><td>Mogi das Cruzes      </td><td>Mogi das Cruzes</td><td>387241</td><td>2010</td></tr>\n",
       "\t<tr><th scope=row>64786</th><td>Poa                  </td><td>Mogi das Cruzes</td><td>106033</td><td>2010</td></tr>\n",
       "\t<tr><th scope=row>64846</th><td>Salesopolis          </td><td>Mogi das Cruzes</td><td> 15639</td><td>2010</td></tr>\n",
       "\t<tr><th scope=row>64926</th><td>Suzano               </td><td>Mogi das Cruzes</td><td>262568</td><td>2010</td></tr>\n",
       "</tbody>\n",
       "</table>\n"
      ],
      "text/latex": [
       "A data.frame: 8 × 4\n",
       "\\begin{tabular}{r|llll}\n",
       "  & Municipio & Microrregiao & Populacao & Ano\\\\\n",
       "  & <chr> & <chr> & <int> & <int>\\\\\n",
       "\\hline\n",
       "\t64416 & Biritiba-Mirim        & Mogi das Cruzes &  28573 & 2010\\\\\n",
       "\t64522 & Ferraz de Vasconcelos & Mogi das Cruzes & 168290 & 2010\\\\\n",
       "\t64549 & Guararema             & Mogi das Cruzes &  25861 & 2010\\\\\n",
       "\t64606 & Itaquaquecetuba       & Mogi das Cruzes & 321854 & 2010\\\\\n",
       "\t64685 & Mogi das Cruzes       & Mogi das Cruzes & 387241 & 2010\\\\\n",
       "\t64786 & Poa                   & Mogi das Cruzes & 106033 & 2010\\\\\n",
       "\t64846 & Salesopolis           & Mogi das Cruzes &  15639 & 2010\\\\\n",
       "\t64926 & Suzano                & Mogi das Cruzes & 262568 & 2010\\\\\n",
       "\\end{tabular}\n"
      ],
      "text/markdown": [
       "\n",
       "A data.frame: 8 × 4\n",
       "\n",
       "| <!--/--> | Municipio &lt;chr&gt; | Microrregiao &lt;chr&gt; | Populacao &lt;int&gt; | Ano &lt;int&gt; |\n",
       "|---|---|---|---|---|\n",
       "| 64416 | Biritiba-Mirim        | Mogi das Cruzes |  28573 | 2010 |\n",
       "| 64522 | Ferraz de Vasconcelos | Mogi das Cruzes | 168290 | 2010 |\n",
       "| 64549 | Guararema             | Mogi das Cruzes |  25861 | 2010 |\n",
       "| 64606 | Itaquaquecetuba       | Mogi das Cruzes | 321854 | 2010 |\n",
       "| 64685 | Mogi das Cruzes       | Mogi das Cruzes | 387241 | 2010 |\n",
       "| 64786 | Poa                   | Mogi das Cruzes | 106033 | 2010 |\n",
       "| 64846 | Salesopolis           | Mogi das Cruzes |  15639 | 2010 |\n",
       "| 64926 | Suzano                | Mogi das Cruzes | 262568 | 2010 |\n",
       "\n"
      ],
      "text/plain": [
       "      Municipio             Microrregiao    Populacao Ano \n",
       "64416 Biritiba-Mirim        Mogi das Cruzes  28573    2010\n",
       "64522 Ferraz de Vasconcelos Mogi das Cruzes 168290    2010\n",
       "64549 Guararema             Mogi das Cruzes  25861    2010\n",
       "64606 Itaquaquecetuba       Mogi das Cruzes 321854    2010\n",
       "64685 Mogi das Cruzes       Mogi das Cruzes 387241    2010\n",
       "64786 Poa                   Mogi das Cruzes 106033    2010\n",
       "64846 Salesopolis           Mogi das Cruzes  15639    2010\n",
       "64926 Suzano                Mogi das Cruzes 262568    2010"
      ]
     },
     "metadata": {},
     "output_type": "display_data"
    }
   ],
   "source": [
    "menosColunas[menosColunas$Microrregiao == 'Mogi das Cruzes'\n",
    "             & menosColunas$Ano == 2010,]\n",
    "\n",
    "\n",
    "MogiDasCruzes <- menosColunas[menosColunas$Microrregiao == 'Mogi das Cruzes'\n",
    "                            & menosColunas$Ano == 2010,]\n",
    "\n",
    "\n",
    "MogiDasCruzes"
   ]
  },
  {
   "cell_type": "code",
   "execution_count": 40,
   "metadata": {},
   "outputs": [
    {
     "data": {
      "image/png": "[encoded data removed]",
      "text/plain": [
       "plot without title"
      ]
     },
     "metadata": {
      "image/png": {
       "height": 420,
       "width": 420
      }
     },
     "output_type": "display_data"
    }
   ],
   "source": [
    "#Plotando gráficos\n",
    "pie(MogiDasCruzes$Populacao)\n",
    "\n"
   ]
  },
  {
   "cell_type": "code",
   "execution_count": 41,
   "metadata": {},
   "outputs": [
    {
     "data": {
      "image/png": "[encoded data removed]",
      "text/plain": [
       "plot without title"
      ]
     },
     "metadata": {
      "image/png": {
       "height": 420,
       "width": 420
      }
     },
     "output_type": "display_data"
    }
   ],
   "source": [
    "pie(MogiDasCruzes$Populacao, labels = paste(MogiDasCruzes$Municipio,':',MogiDasCruzes$Populacao))\n",
    "\n"
   ]
  },
  {
   "cell_type": "code",
   "execution_count": 42,
   "metadata": {},
   "outputs": [
    {
     "data": {
      "image/png": "[encoded data removed]",
      "text/plain": [
       "plot without title"
      ]
     },
     "metadata": {
      "image/png": {
       "height": 420,
       "width": 420
      }
     },
     "output_type": "display_data"
    }
   ],
   "source": [
    "minhasCores <- c(\"Red\",\"Green\",\"Blue\",\"Black\",\"Orange\",\"Yellow\",\"Purple\",\"Brown\")\n",
    "\n",
    "pie(MogiDasCruzes$Populacao, labels = paste(MogiDasCruzes$Municipio,':',MogiDasCruzes$Populacao), col=minhasCores)"
   ]
  },
  {
   "cell_type": "code",
   "execution_count": 43,
   "metadata": {},
   "outputs": [
    {
     "data": {
      "image/png": "[encoded data removed]",
      "text/plain": [
       "plot without title"
      ]
     },
     "metadata": {
      "image/png": {
       "height": 420,
       "width": 420
      }
     },
     "output_type": "display_data"
    }
   ],
   "source": [
    "library(RColorBrewer)\n",
    "display.brewer.all()"
   ]
  },
  {
   "cell_type": "code",
   "execution_count": 44,
   "metadata": {},
   "outputs": [
    {
     "data": {
      "image/png": "[encoded data removed]",
      "text/plain": [
       "plot without title"
      ]
     },
     "metadata": {
      "image/png": {
       "height": 420,
       "width": 420
      }
     },
     "output_type": "display_data"
    }
   ],
   "source": [
    "cores <- brewer.pal(8, 'Dark2')\n",
    "\n",
    "pie(MogiDasCruzes$Populacao, labels = paste(MogiDasCruzes$Municipio,':',MogiDasCruzes$Populacao), col=cores)"
   ]
  }
 ],
 "metadata": {
  "kernelspec": {
   "display_name": "R",
   "language": "R",
   "name": "ir"
  },
  "language_info": {
   "codemirror_mode": "r",
   "file_extension": ".r",
   "mimetype": "text/x-r-source",
   "name": "R",
   "pygments_lexer": "r",
   "version": "4.1.0"
  }
 },
 "nbformat": 4,
 "nbformat_minor": 4
}
