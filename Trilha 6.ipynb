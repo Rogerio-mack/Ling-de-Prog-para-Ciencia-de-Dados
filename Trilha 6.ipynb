{
 "cells": [
  {
   "cell_type": "markdown",
   "metadata": {},
   "source": [
    "# Trilha 6"
   ]
  },
  {
   "cell_type": "markdown",
   "metadata": {},
   "source": [
    "Para iniciar a trilha 6 deste componente curricular, iremos explorar alguns pacotes de manipulação de dados.\n",
    "\n",
    "O R tem muitas funções integradas, que são acessadas através do pacote base que já vem por padrão no motor da linguagem. Contudo, também podemos usar funções que são armazenadas em pacotes criados por outras pessoas.\n",
    "\n",
    "Para instalar pacotes você utiliza a função *install.packages()*. O processo de instalação faz com que o seu motor da linguagem vá até o repositório do [*Comprehensive R Archive Network* - **CRAN**](https://cran.r-project.org/) e faz o download para o local que está executando. Somente após fazer o download é possível utilizar as funções internas.\n",
    "\n",
    "Para usar as funções de um pacote, você precisa primeiro carregá-lo usando a função *library()*. Isso precisa ser feito todas as vezes que iniciar o seu projeto, porém uma vez carregado durante a execução, não precisa carregar novamente para usar as funções. Há uma convenção de boa prática que diz para fazer isso na parte superior de seu *jupyter notebook* para que seja fácil ver de quais pacotes seu código R utiliza."
   ]
  },
  {
   "cell_type": "markdown",
   "metadata": {},
   "source": [
    "## Atualizando o motor do R"
   ]
  },
  {
   "cell_type": "markdown",
   "metadata": {},
   "source": [
    "Para garantir que estamos utilizando a ultima versão do R no nosso computador, podemos forçar a atualização da versão do motor de processamento através de pacotes. \n",
    "\n",
    "O primeiro passo para atualizar o ambiente é instalar o pacote **installR** e depois carregá-lo. Para então ser feita a chamada da função *updateR* e seguir com o guia de instalação. "
   ]
  },
  {
   "cell_type": "code",
   "execution_count": 1,
   "metadata": {},
   "outputs": [],
   "source": [
    "#install.packages(\"installr\")\n",
    "#library(installr)\n",
    "\n",
    "#updateR()\n",
    "\n",
    "#version"
   ]
  },
  {
   "cell_type": "markdown",
   "metadata": {},
   "source": [
    "Em seguida é feita a intalação e atualização do pacote **DevTools**. Este pacote ajuda a construir pacotes mais fácil, fornecendo funções R que simplificam as tarefas comuns."
   ]
  },
  {
   "cell_type": "code",
   "execution_count": 2,
   "metadata": {},
   "outputs": [],
   "source": [
    "#install.packages('devtools')\n",
    "#library(devtools)"
   ]
  },
  {
   "cell_type": "markdown",
   "metadata": {},
   "source": [
    "## Instalando o pacote Tidyverse"
   ]
  },
  {
   "cell_type": "markdown",
   "metadata": {},
   "source": [
    "Depois da garantia de atualização do ambiente, vamos explorar algumas outras funções. Neste caso vamos usar um pacote bastante utilizado no mercado de trabalho para fazer manipulação de dados, chamado **tidyverse**. Este pacote permite carregar, modificar e plotar gráficos com os dados. Veja abaixo o código que faz a instalação do pacote e depois faz o carregamento das suas funções para esta execução do ambiente."
   ]
  },
  {
   "cell_type": "code",
   "execution_count": 3,
   "metadata": {},
   "outputs": [
    {
     "name": "stderr",
     "output_type": "stream",
     "text": [
      "-- \u001b[1mAttaching packages\u001b[22m ------------------------------------------------------------------------------- tidyverse 1.3.1 --\n",
      "\n",
      "\u001b[32mv\u001b[39m \u001b[34mggplot2\u001b[39m 3.3.5     \u001b[32mv\u001b[39m \u001b[34mpurrr  \u001b[39m 0.3.4\n",
      "\u001b[32mv\u001b[39m \u001b[34mtibble \u001b[39m 3.1.3     \u001b[32mv\u001b[39m \u001b[34mdplyr  \u001b[39m 1.0.7\n",
      "\u001b[32mv\u001b[39m \u001b[34mtidyr  \u001b[39m 1.1.3     \u001b[32mv\u001b[39m \u001b[34mstringr\u001b[39m 1.4.0\n",
      "\u001b[32mv\u001b[39m \u001b[34mreadr  \u001b[39m 2.0.0     \u001b[32mv\u001b[39m \u001b[34mforcats\u001b[39m 0.5.1\n",
      "\n",
      "-- \u001b[1mConflicts\u001b[22m ---------------------------------------------------------------------------------- tidyverse_conflicts() --\n",
      "\u001b[31mx\u001b[39m \u001b[34mdplyr\u001b[39m::\u001b[32mfilter()\u001b[39m masks \u001b[34mstats\u001b[39m::filter()\n",
      "\u001b[31mx\u001b[39m \u001b[34mdplyr\u001b[39m::\u001b[32mlag()\u001b[39m    masks \u001b[34mstats\u001b[39m::lag()\n",
      "\n"
     ]
    }
   ],
   "source": [
    "#install.packages('tidyverse', dependencies=TRUE)\n",
    "library(tidyverse)"
   ]
  },
  {
   "cell_type": "markdown",
   "metadata": {},
   "source": [
    "Depois de instalado e carregado o pacote **tidyverse**, vamos testá-lo com o carregamento de um conjunto de dados com informações de desempenho das companhias aéreas. Estes *datasets* são coletadas do site [ASA - American Statistical ASsociation](https://community.amstat.org/jointscsg-section/dataexpo/dataexpo2009), em arquivo Zip que possui 1.6Gb (quando descompactado chega a 12 Gb de dados).\n",
    "\n",
    "> Acompanhe a seção **Trilha 6 - Download dataset** para reproduzir como este conjunto de dados foi criado\n",
    "\n",
    "Foi feito um recorte para ficar mais fácil a manipulação e podem ser baixados do repositório aqui no componente curricular. Quando você baixar todos os *jupyter notebook* para reproduzir os experimentos, estes *datasets* já estarão disponíveis.\n",
    "\n",
    "A função *read_csv* do pacote *tidyverse* permite que um arquivo **csv** seja carregado em uma variável, já no formato de *Data Frame*. Siga o código abaixo para carregar os dados."
   ]
  },
  {
   "cell_type": "code",
   "execution_count": 4,
   "metadata": {},
   "outputs": [
    {
     "name": "stderr",
     "output_type": "stream",
     "text": [
      "\u001b[1m\u001b[1mRows: \u001b[1m\u001b[22m\u001b[34m\u001b[34m100000\u001b[34m\u001b[39m \u001b[1m\u001b[1mColumns: \u001b[1m\u001b[22m\u001b[34m\u001b[34m29\u001b[34m\u001b[39m\n",
      "\n",
      "\u001b[36m--\u001b[39m \u001b[1m\u001b[1mColumn specification\u001b[1m\u001b[22m \u001b[36m------------------------------------------------------------------------------------------------\u001b[39m\n",
      "\u001b[1mDelimiter:\u001b[22m \",\"\n",
      "\u001b[31mchr\u001b[39m  (5): UniqueCarrier, TailNum, Origin, Dest, CancellationCode\n",
      "\u001b[32mdbl\u001b[39m (24): Year, Month, DayofMonth, DayOfWeek, DepTime, CRSDepTime, ArrTime, ...\n",
      "\n",
      "\n",
      "\u001b[36mi\u001b[39m Use \u001b[30m\u001b[47m\u001b[30m\u001b[47m`spec()`\u001b[47m\u001b[30m\u001b[49m\u001b[39m to retrieve the full column specification for this data.\n",
      "\u001b[36mi\u001b[39m Specify the column types or set \u001b[30m\u001b[47m\u001b[30m\u001b[47m`show_col_types = FALSE`\u001b[47m\u001b[30m\u001b[49m\u001b[39m to quiet this message.\n",
      "\n"
     ]
    }
   ],
   "source": [
    "voos2008 <- read_csv(\"voos2008.csv\")"
   ]
  },
  {
   "cell_type": "markdown",
   "metadata": {},
   "source": [
    "Para observar as primeiras linhas do conjunto de dados, é executada a função *head* que irá retornar as primeiras 6 linhas do *data frame*. Veja como fica esta chamada."
   ]
  },
  {
   "cell_type": "code",
   "execution_count": 5,
   "metadata": {},
   "outputs": [
    {
     "data": {
      "text/html": [
       "<table class=\"dataframe\">\n",
       "<caption>A tibble: 6 × 29</caption>\n",
       "<thead>\n",
       "\t<tr><th scope=col>Year</th><th scope=col>Month</th><th scope=col>DayofMonth</th><th scope=col>DayOfWeek</th><th scope=col>DepTime</th><th scope=col>CRSDepTime</th><th scope=col>ArrTime</th><th scope=col>CRSArrTime</th><th scope=col>UniqueCarrier</th><th scope=col>FlightNum</th><th scope=col>...</th><th scope=col>TaxiIn</th><th scope=col>TaxiOut</th><th scope=col>Cancelled</th><th scope=col>CancellationCode</th><th scope=col>Diverted</th><th scope=col>CarrierDelay</th><th scope=col>WeatherDelay</th><th scope=col>NASDelay</th><th scope=col>SecurityDelay</th><th scope=col>LateAircraftDelay</th></tr>\n",
       "\t<tr><th scope=col>&lt;dbl&gt;</th><th scope=col>&lt;dbl&gt;</th><th scope=col>&lt;dbl&gt;</th><th scope=col>&lt;dbl&gt;</th><th scope=col>&lt;dbl&gt;</th><th scope=col>&lt;dbl&gt;</th><th scope=col>&lt;dbl&gt;</th><th scope=col>&lt;dbl&gt;</th><th scope=col>&lt;chr&gt;</th><th scope=col>&lt;dbl&gt;</th><th scope=col>...</th><th scope=col>&lt;dbl&gt;</th><th scope=col>&lt;dbl&gt;</th><th scope=col>&lt;dbl&gt;</th><th scope=col>&lt;chr&gt;</th><th scope=col>&lt;dbl&gt;</th><th scope=col>&lt;dbl&gt;</th><th scope=col>&lt;dbl&gt;</th><th scope=col>&lt;dbl&gt;</th><th scope=col>&lt;dbl&gt;</th><th scope=col>&lt;dbl&gt;</th></tr>\n",
       "</thead>\n",
       "<tbody>\n",
       "\t<tr><td>2008</td><td>9</td><td>21</td><td>7</td><td>1909</td><td>1900</td><td>2040</td><td>2036</td><td>DL</td><td> 156</td><td>...</td><td>10</td><td>17</td><td>0</td><td>NA</td><td>0</td><td>NA</td><td>NA</td><td>NA</td><td>NA</td><td>NA</td></tr>\n",
       "\t<tr><td>2008</td><td>9</td><td>18</td><td>4</td><td>1440</td><td>1445</td><td>1630</td><td>1636</td><td>US</td><td>1199</td><td>...</td><td> 5</td><td>24</td><td>0</td><td>NA</td><td>0</td><td>NA</td><td>NA</td><td>NA</td><td>NA</td><td>NA</td></tr>\n",
       "\t<tr><td>2008</td><td>8</td><td>11</td><td>1</td><td>2033</td><td>2035</td><td>2335</td><td>2340</td><td>AA</td><td> 864</td><td>...</td><td> 7</td><td>12</td><td>0</td><td>NA</td><td>0</td><td>NA</td><td>NA</td><td>NA</td><td>NA</td><td>NA</td></tr>\n",
       "\t<tr><td>2008</td><td>5</td><td> 3</td><td>6</td><td>1936</td><td>1930</td><td>2012</td><td>2007</td><td>HA</td><td> 556</td><td>...</td><td> 5</td><td>10</td><td>0</td><td>NA</td><td>0</td><td>NA</td><td>NA</td><td>NA</td><td>NA</td><td>NA</td></tr>\n",
       "\t<tr><td>2008</td><td>5</td><td>13</td><td>2</td><td>2332</td><td>2340</td><td> 654</td><td> 719</td><td>US</td><td>1404</td><td>...</td><td> 4</td><td>14</td><td>0</td><td>NA</td><td>0</td><td>NA</td><td>NA</td><td>NA</td><td>NA</td><td>NA</td></tr>\n",
       "\t<tr><td>2008</td><td>1</td><td>13</td><td>7</td><td> 907</td><td> 915</td><td>1008</td><td>1020</td><td>MQ</td><td>3661</td><td>...</td><td> 2</td><td>13</td><td>0</td><td>NA</td><td>0</td><td>NA</td><td>NA</td><td>NA</td><td>NA</td><td>NA</td></tr>\n",
       "</tbody>\n",
       "</table>\n"
      ],
      "text/latex": [
       "A tibble: 6 × 29\n",
       "\\begin{tabular}{lllllllllllllllllllll}\n",
       " Year & Month & DayofMonth & DayOfWeek & DepTime & CRSDepTime & ArrTime & CRSArrTime & UniqueCarrier & FlightNum & ... & TaxiIn & TaxiOut & Cancelled & CancellationCode & Diverted & CarrierDelay & WeatherDelay & NASDelay & SecurityDelay & LateAircraftDelay\\\\\n",
       " <dbl> & <dbl> & <dbl> & <dbl> & <dbl> & <dbl> & <dbl> & <dbl> & <chr> & <dbl> & ... & <dbl> & <dbl> & <dbl> & <chr> & <dbl> & <dbl> & <dbl> & <dbl> & <dbl> & <dbl>\\\\\n",
       "\\hline\n",
       "\t 2008 & 9 & 21 & 7 & 1909 & 1900 & 2040 & 2036 & DL &  156 & ... & 10 & 17 & 0 & NA & 0 & NA & NA & NA & NA & NA\\\\\n",
       "\t 2008 & 9 & 18 & 4 & 1440 & 1445 & 1630 & 1636 & US & 1199 & ... &  5 & 24 & 0 & NA & 0 & NA & NA & NA & NA & NA\\\\\n",
       "\t 2008 & 8 & 11 & 1 & 2033 & 2035 & 2335 & 2340 & AA &  864 & ... &  7 & 12 & 0 & NA & 0 & NA & NA & NA & NA & NA\\\\\n",
       "\t 2008 & 5 &  3 & 6 & 1936 & 1930 & 2012 & 2007 & HA &  556 & ... &  5 & 10 & 0 & NA & 0 & NA & NA & NA & NA & NA\\\\\n",
       "\t 2008 & 5 & 13 & 2 & 2332 & 2340 &  654 &  719 & US & 1404 & ... &  4 & 14 & 0 & NA & 0 & NA & NA & NA & NA & NA\\\\\n",
       "\t 2008 & 1 & 13 & 7 &  907 &  915 & 1008 & 1020 & MQ & 3661 & ... &  2 & 13 & 0 & NA & 0 & NA & NA & NA & NA & NA\\\\\n",
       "\\end{tabular}\n"
      ],
      "text/markdown": [
       "\n",
       "A tibble: 6 × 29\n",
       "\n",
       "| Year &lt;dbl&gt; | Month &lt;dbl&gt; | DayofMonth &lt;dbl&gt; | DayOfWeek &lt;dbl&gt; | DepTime &lt;dbl&gt; | CRSDepTime &lt;dbl&gt; | ArrTime &lt;dbl&gt; | CRSArrTime &lt;dbl&gt; | UniqueCarrier &lt;chr&gt; | FlightNum &lt;dbl&gt; | ... ... | TaxiIn &lt;dbl&gt; | TaxiOut &lt;dbl&gt; | Cancelled &lt;dbl&gt; | CancellationCode &lt;chr&gt; | Diverted &lt;dbl&gt; | CarrierDelay &lt;dbl&gt; | WeatherDelay &lt;dbl&gt; | NASDelay &lt;dbl&gt; | SecurityDelay &lt;dbl&gt; | LateAircraftDelay &lt;dbl&gt; |\n",
       "|---|---|---|---|---|---|---|---|---|---|---|---|---|---|---|---|---|---|---|---|---|\n",
       "| 2008 | 9 | 21 | 7 | 1909 | 1900 | 2040 | 2036 | DL |  156 | ... | 10 | 17 | 0 | NA | 0 | NA | NA | NA | NA | NA |\n",
       "| 2008 | 9 | 18 | 4 | 1440 | 1445 | 1630 | 1636 | US | 1199 | ... |  5 | 24 | 0 | NA | 0 | NA | NA | NA | NA | NA |\n",
       "| 2008 | 8 | 11 | 1 | 2033 | 2035 | 2335 | 2340 | AA |  864 | ... |  7 | 12 | 0 | NA | 0 | NA | NA | NA | NA | NA |\n",
       "| 2008 | 5 |  3 | 6 | 1936 | 1930 | 2012 | 2007 | HA |  556 | ... |  5 | 10 | 0 | NA | 0 | NA | NA | NA | NA | NA |\n",
       "| 2008 | 5 | 13 | 2 | 2332 | 2340 |  654 |  719 | US | 1404 | ... |  4 | 14 | 0 | NA | 0 | NA | NA | NA | NA | NA |\n",
       "| 2008 | 1 | 13 | 7 |  907 |  915 | 1008 | 1020 | MQ | 3661 | ... |  2 | 13 | 0 | NA | 0 | NA | NA | NA | NA | NA |\n",
       "\n"
      ],
      "text/plain": [
       "  Year Month DayofMonth DayOfWeek DepTime CRSDepTime ArrTime CRSArrTime\n",
       "1 2008 9     21         7         1909    1900       2040    2036      \n",
       "2 2008 9     18         4         1440    1445       1630    1636      \n",
       "3 2008 8     11         1         2033    2035       2335    2340      \n",
       "4 2008 5      3         6         1936    1930       2012    2007      \n",
       "5 2008 5     13         2         2332    2340        654     719      \n",
       "6 2008 1     13         7          907     915       1008    1020      \n",
       "  UniqueCarrier FlightNum ... TaxiIn TaxiOut Cancelled CancellationCode\n",
       "1 DL             156      ... 10     17      0         NA              \n",
       "2 US            1199      ...  5     24      0         NA              \n",
       "3 AA             864      ...  7     12      0         NA              \n",
       "4 HA             556      ...  5     10      0         NA              \n",
       "5 US            1404      ...  4     14      0         NA              \n",
       "6 MQ            3661      ...  2     13      0         NA              \n",
       "  Diverted CarrierDelay WeatherDelay NASDelay SecurityDelay LateAircraftDelay\n",
       "1 0        NA           NA           NA       NA            NA               \n",
       "2 0        NA           NA           NA       NA            NA               \n",
       "3 0        NA           NA           NA       NA            NA               \n",
       "4 0        NA           NA           NA       NA            NA               \n",
       "5 0        NA           NA           NA       NA            NA               \n",
       "6 0        NA           NA           NA       NA            NA               "
      ]
     },
     "metadata": {},
     "output_type": "display_data"
    }
   ],
   "source": [
    "head(voos2008)"
   ]
  },
  {
   "cell_type": "markdown",
   "metadata": {},
   "source": [
    "Agora que já estamos com o conjunto de dados carregado em memória, te convido a me acompanhar para estudarmos as possibilidades do pacote *tidyverse*."
   ]
  },
  {
   "cell_type": "markdown",
   "metadata": {},
   "source": [
    "## Desafios com o Dataset "
   ]
  },
  {
   "cell_type": "markdown",
   "metadata": {},
   "source": [
    "Depois de carregar o conjunto de dados, pode-se explorar alguns problemas que são resolvidos com este *dataset*. Os desafios são direcionados à resolver questões como:\n",
    "  1) Qual é o dia da semana / época do ano para voar que minimiza atrasos?\n",
    "  \n",
    "  2) Quais são os aviões que sofrem mais atrasos?\n",
    "  \n",
    "  3) Qual aeroporto atrasa mais nas decolagens?\n",
    "  \n",
    "  4) Qual é a principal causa dos vôos cancelados?\n",
    "  \n",
    "Vamos explorar e trabalhar em cada um destes desafios com o objetivo de fixar o conhecimento de manipulação de dados com linguagem R.\n",
    "\n",
    "Uma coisa muito importante quando se trabalha com dados, é conhecê-lo. Aqui há um **mini-dicionário de dados** sobre esse *dataset*.\n",
    "\n",
    "Variável **=** Descrição  **|** \n",
    "**Year** **=** 1987-2008  **|**\n",
    "**Month** **=** 1-12  **|**\n",
    "**DayofMonth** **=** 1-31  **|**\n",
    "**DayOfWeek** **=** 1 (segunda-feira) - 7 (domingo)  **|**\n",
    "**DepTime** **=** Hora de partida real (local, hhmm)  **|**\n",
    "**CRSDepTime** **=** Hora de partida programada (local, hhmm)  **|**\n",
    "**ArrTime** **=** Hora de chegada real (local, hhmm)  **|**\n",
    "**CRSArrTime** **=** Hora de chegada programada (local, hhmm)  **|**\n",
    "**UniqueCarrier** **=** Código de operadora único  **|**\n",
    "**FlightNum** **=** Número do vôo  **|**\n",
    "**TailNum** **=** Número da cauda do avião  **|**\n",
    "**ActualElapsedTime** **=** Tempo real de vôo em minutos  **|**\n",
    "**CRSElapsedTime** **=** Tempo programado de vôo em minutos  **|**\n",
    "**AirTime** **=** Tempo de vôo em minutos  **|**\n",
    "**ArrDelay** **=** Atraso de chegada, em minutos  **|**\n",
    "**DepDelay** **=** Atraso de partida, em minutos  **|**\n",
    "**Origin** **=** Código de aeroporto IATA de origem  **|**\n",
    "**Dest** **=** Código de aeroporto IATA de destino  **|**\n",
    "**Distance** **=** Distância em milhas  **|**\n",
    "**TaxiIn** **=** Tempo taxiando no pouso, em minutos **|**\n",
    "**TaxiOut** **=** Tempo taxiando na decolagem, em minutos  **|**\n",
    "**Cancelled** **=** Vôo foi cancelado?  **|**\n",
    "**CancellationCode** **=** Motivo do cancelamento (A = operadora, B = clima, C = NAS, D = segurança)  **|**\n",
    "**Diverted** **=** 1 = sim, 0 = não **|**\n",
    "**CarrierDelay** **=** Atraso da operadora em minutos  **|**\n",
    "**WeatherDelay** **=** Atraso do clima em minutos  **|**\n",
    "**NASDelay** **=** Atraso NAS em minutos  **|**\n",
    "**SecurityDelay** **=** Atraso da segurança em minutos  **|**\n",
    "**LateAircraftDelay** **=** Atraso da aeronave em minutos "
   ]
  },
  {
   "cell_type": "markdown",
   "metadata": {},
   "source": [
    "###  Minimizar atrasos"
   ]
  },
  {
   "cell_type": "markdown",
   "metadata": {},
   "source": [
    "Olhando para o dataset, não são todas as variáveis (ou colunas) que precisamos trazer para resolver este problema. O problema é bastante claro **Qual é o dia da semana / época do ano para voar que minimiza atrasos??**, então podemos olhar o dicionário de dados deste *dataset* para escolher algumas variáveis que fazem sentido para ajudar a resolver o problema. No bloco de código abaixo, são apresentados duas funções do pacote *tidyverse*. A primeira função é o *pipe*, que é representado pelo símbolo *%>%* e a segunda é a *select*.\n",
    "\n",
    "O *pipe* permite que funções sejam executadas de forma ordenada, ou seja, uma função será executada somente após a outra. Repare no símbolo do *pipe* está entre a variável com os dados e a função *select*. Isso faz com que o interpretador do R execute a instrução que está do lado esquerdo, para então, a partir do seu resultado, executar a instrução que está do lado direito do *pipe*. Ou seja, este exemplo de código irá executar o *select* em cima da base de dados.\n",
    "\n",
    "Já o *select* é a função responsável por selecionar determinadas colunas em um *dataset*, fazendo com que somente aquelas colunas definidas sejam mantidas no retorno da função. Observe que o código abaixo faz a seleção de apenas 7 variáveis dentre as 29 existentes no *dataset* e armazena em um novo objeto chamado **novoDataset**."
   ]
  },
  {
   "cell_type": "code",
   "execution_count": 6,
   "metadata": {},
   "outputs": [],
   "source": [
    "novoDataset <- voos2008 %>% select(Year,Month,DayofMonth,DepTime,DepDelay,ArrDelay,Cancelled) "
   ]
  },
  {
   "cell_type": "markdown",
   "metadata": {},
   "source": [
    "Por enquanto todas as 100.000 observações (linhas) são mantidas, mas somente as 7 variáveis que são relevantes para resolver o problema foram retornadas. É possível ver este resultado com a função *str()* já estudada, e também com a função *head()* estudada há pouco."
   ]
  },
  {
   "cell_type": "code",
   "execution_count": 7,
   "metadata": {},
   "outputs": [
    {
     "name": "stdout",
     "output_type": "stream",
     "text": [
      "tibble [100,000 x 7] (S3: tbl_df/tbl/data.frame)\n",
      " $ Year      : num [1:100000] 2008 2008 2008 2008 2008 ...\n",
      " $ Month     : num [1:100000] 9 9 8 5 5 1 9 10 5 5 ...\n",
      " $ DayofMonth: num [1:100000] 21 18 11 3 13 13 17 8 17 4 ...\n",
      " $ DepTime   : num [1:100000] 1909 1440 2033 1936 2332 ...\n",
      " $ DepDelay  : num [1:100000] 9 -5 -2 6 -8 -8 6 -7 4 -12 ...\n",
      " $ ArrDelay  : num [1:100000] 4 -6 -5 5 -25 -12 6 -13 5 -42 ...\n",
      " $ Cancelled : num [1:100000] 0 0 0 0 0 0 0 0 0 0 ...\n"
     ]
    },
    {
     "data": {
      "text/html": [
       "<table class=\"dataframe\">\n",
       "<caption>A tibble: 6 × 7</caption>\n",
       "<thead>\n",
       "\t<tr><th scope=col>Year</th><th scope=col>Month</th><th scope=col>DayofMonth</th><th scope=col>DepTime</th><th scope=col>DepDelay</th><th scope=col>ArrDelay</th><th scope=col>Cancelled</th></tr>\n",
       "\t<tr><th scope=col>&lt;dbl&gt;</th><th scope=col>&lt;dbl&gt;</th><th scope=col>&lt;dbl&gt;</th><th scope=col>&lt;dbl&gt;</th><th scope=col>&lt;dbl&gt;</th><th scope=col>&lt;dbl&gt;</th><th scope=col>&lt;dbl&gt;</th></tr>\n",
       "</thead>\n",
       "<tbody>\n",
       "\t<tr><td>2008</td><td>9</td><td>21</td><td>1909</td><td> 9</td><td>  4</td><td>0</td></tr>\n",
       "\t<tr><td>2008</td><td>9</td><td>18</td><td>1440</td><td>-5</td><td> -6</td><td>0</td></tr>\n",
       "\t<tr><td>2008</td><td>8</td><td>11</td><td>2033</td><td>-2</td><td> -5</td><td>0</td></tr>\n",
       "\t<tr><td>2008</td><td>5</td><td> 3</td><td>1936</td><td> 6</td><td>  5</td><td>0</td></tr>\n",
       "\t<tr><td>2008</td><td>5</td><td>13</td><td>2332</td><td>-8</td><td>-25</td><td>0</td></tr>\n",
       "\t<tr><td>2008</td><td>1</td><td>13</td><td> 907</td><td>-8</td><td>-12</td><td>0</td></tr>\n",
       "</tbody>\n",
       "</table>\n"
      ],
      "text/latex": [
       "A tibble: 6 × 7\n",
       "\\begin{tabular}{lllllll}\n",
       " Year & Month & DayofMonth & DepTime & DepDelay & ArrDelay & Cancelled\\\\\n",
       " <dbl> & <dbl> & <dbl> & <dbl> & <dbl> & <dbl> & <dbl>\\\\\n",
       "\\hline\n",
       "\t 2008 & 9 & 21 & 1909 &  9 &   4 & 0\\\\\n",
       "\t 2008 & 9 & 18 & 1440 & -5 &  -6 & 0\\\\\n",
       "\t 2008 & 8 & 11 & 2033 & -2 &  -5 & 0\\\\\n",
       "\t 2008 & 5 &  3 & 1936 &  6 &   5 & 0\\\\\n",
       "\t 2008 & 5 & 13 & 2332 & -8 & -25 & 0\\\\\n",
       "\t 2008 & 1 & 13 &  907 & -8 & -12 & 0\\\\\n",
       "\\end{tabular}\n"
      ],
      "text/markdown": [
       "\n",
       "A tibble: 6 × 7\n",
       "\n",
       "| Year &lt;dbl&gt; | Month &lt;dbl&gt; | DayofMonth &lt;dbl&gt; | DepTime &lt;dbl&gt; | DepDelay &lt;dbl&gt; | ArrDelay &lt;dbl&gt; | Cancelled &lt;dbl&gt; |\n",
       "|---|---|---|---|---|---|---|\n",
       "| 2008 | 9 | 21 | 1909 |  9 |   4 | 0 |\n",
       "| 2008 | 9 | 18 | 1440 | -5 |  -6 | 0 |\n",
       "| 2008 | 8 | 11 | 2033 | -2 |  -5 | 0 |\n",
       "| 2008 | 5 |  3 | 1936 |  6 |   5 | 0 |\n",
       "| 2008 | 5 | 13 | 2332 | -8 | -25 | 0 |\n",
       "| 2008 | 1 | 13 |  907 | -8 | -12 | 0 |\n",
       "\n"
      ],
      "text/plain": [
       "  Year Month DayofMonth DepTime DepDelay ArrDelay Cancelled\n",
       "1 2008 9     21         1909     9         4      0        \n",
       "2 2008 9     18         1440    -5        -6      0        \n",
       "3 2008 8     11         2033    -2        -5      0        \n",
       "4 2008 5      3         1936     6         5      0        \n",
       "5 2008 5     13         2332    -8       -25      0        \n",
       "6 2008 1     13          907    -8       -12      0        "
      ]
     },
     "metadata": {},
     "output_type": "display_data"
    }
   ],
   "source": [
    "str(novoDataset)\n",
    "head(novoDataset)"
   ]
  },
  {
   "cell_type": "markdown",
   "metadata": {},
   "source": [
    "Agora repare em mais uma condição no bloco de código que utiliza o *pipe*, veja que foi adicionada no final da linha uma nova instrução. Desta vez, a função *filter* foi incluída, e adicionado um operador lógico de comparação com o valor 9 na variável *Month*. Esta função *filter* fará com que o dado seja retornado apenas quando o mês for setembro. \n",
    "\n",
    "Seguindo a estrutura de como o *pipe* funciona, o filtro para o mês de setembro será executado somente após a seleção de variáveis já ter sido executada. Ou seja, executa a instrução que está do lado direito do *pipe* em cima do objeto que está do lado esquerdo.\n",
    "\n",
    "Em ordem, este bloco de código executará na ordem:\n",
    "1) Pegar todos os dados;\n",
    "\n",
    "2) Selecionar apenas 7 variáveis;\n",
    "\n",
    "3) Fazer um filtro para o mês de setembro.\n",
    "\n",
    "Observe que, agora com o filtro aplicado, o conjunto de dados não tem mais 100.000 linhas. Ficou com apenas 7.739 que foram observadas no mês de setembro."
   ]
  },
  {
   "cell_type": "code",
   "execution_count": 8,
   "metadata": {},
   "outputs": [
    {
     "name": "stdout",
     "output_type": "stream",
     "text": [
      "tibble [7,739 x 7] (S3: tbl_df/tbl/data.frame)\n",
      " $ Year      : num [1:7739] 2008 2008 2008 2008 2008 ...\n",
      " $ Month     : num [1:7739] 9 9 9 9 9 9 9 9 9 9 ...\n",
      " $ DayofMonth: num [1:7739] 21 18 17 19 11 2 12 15 12 10 ...\n",
      " $ DepTime   : num [1:7739] 1909 1440 1054 1742 1925 ...\n",
      " $ DepDelay  : num [1:7739] 9 -5 6 -3 -5 -5 -5 NA -6 33 ...\n",
      " $ ArrDelay  : num [1:7739] 4 -6 6 -16 11 -15 -10 NA 8 38 ...\n",
      " $ Cancelled : num [1:7739] 0 0 0 0 0 0 0 1 0 0 ...\n"
     ]
    }
   ],
   "source": [
    "novoDataset <- voos2008 %>% select(Year,Month,DayofMonth,DepTime,DepDelay,ArrDelay,Cancelled) %>% filter(Month == 9)\n",
    "str(novoDataset)"
   ]
  },
  {
   "cell_type": "markdown",
   "metadata": {},
   "source": [
    "Bom, agora que já sabemos como realizar operações de *pipe*, *select* e *filter* é hora de voltar para resolver o problema proposto. O objetivo principal é pensar em quais épocas são melhores para ter mais eficiência com os vôos, porém o problema pede duas formas diferentes de encontrar essa época: Dia da semana e época do ano. Para nos simplificar o estudo, vamos pensar em época do ano como sendo o mês.\n",
    "\n",
    "Ao fazer a operação manual para calcular a média de atraso de um mês específico, pode-se filtrar o mês que se deseja e então calcular a média de atraso da decolagem. A média é calculada com a função *mean*. Veja o codigo abaixo como seria uma forma de se fazer este calculo da média."
   ]
  },
  {
   "cell_type": "code",
   "execution_count": 9,
   "metadata": {},
   "outputs": [
    {
     "data": {
      "text/html": [
       "3.72875773942827"
      ],
      "text/latex": [
       "3.72875773942827"
      ],
      "text/markdown": [
       "3.72875773942827"
      ],
      "text/plain": [
       "[1] 3.728758"
      ]
     },
     "metadata": {},
     "output_type": "display_data"
    }
   ],
   "source": [
    "novoDataset <- voos2008 %>%\n",
    "    select(Year,Month,DayofMonth,DepTime,DepDelay,ArrDelay,Cancelled) %>%\n",
    "    filter(Month == 9)\n",
    "\n",
    "mean(novoDataset$DepDelay, na.rm = TRUE)"
   ]
  },
  {
   "cell_type": "markdown",
   "metadata": {},
   "source": [
    "Veja que a média de atraso no mês de setembro é de 3.72 minutos. Porém, o que nós buscamos é descobrir a melhor época do ano para não ter os atrasos.\n",
    "\n",
    "Nós combinamos há pouco que trataríamos a época como meses, então vamos fazer esse calculo para todos os meses?\n",
    "\n",
    "Para isso, vamos inserir três novas funções no nosso estudo. A função *mutate* é capaz de criar uma nova variável a partir de alguma operação programada, a função *group_by* fará o agrupamento dos dados a partir das variáveis definidas, e a função *arrange* que ordena os dados de forma crescente a partir das variáveis informadas.\n",
    "\n",
    "Veja como fica uma possível forma de resolver o problema, utilizando as funções que aprendemos até agora:"
   ]
  },
  {
   "cell_type": "code",
   "execution_count": 16,
   "metadata": {},
   "outputs": [
    {
     "data": {
      "text/html": [
       "<table class=\"dataframe\">\n",
       "<caption>A grouped_df: 12 × 2</caption>\n",
       "<thead>\n",
       "\t<tr><th scope=col>Month</th><th scope=col>atrasoMedio</th></tr>\n",
       "\t<tr><th scope=col>&lt;dbl&gt;</th><th scope=col>&lt;dbl&gt;</th></tr>\n",
       "</thead>\n",
       "<tbody>\n",
       "\t<tr><td> 9</td><td> 3.728758</td></tr>\n",
       "\t<tr><td>10</td><td> 4.084229</td></tr>\n",
       "\t<tr><td>11</td><td> 5.606048</td></tr>\n",
       "\t<tr><td> 5</td><td> 7.768342</td></tr>\n",
       "\t<tr><td> 4</td><td> 8.237131</td></tr>\n",
       "\t<tr><td> 8</td><td>10.654034</td></tr>\n",
       "\t<tr><td> 1</td><td>11.328178</td></tr>\n",
       "\t<tr><td> 7</td><td>11.843637</td></tr>\n",
       "\t<tr><td> 3</td><td>12.263297</td></tr>\n",
       "\t<tr><td> 6</td><td>13.610787</td></tr>\n",
       "\t<tr><td> 2</td><td>13.692327</td></tr>\n",
       "\t<tr><td>12</td><td>17.940197</td></tr>\n",
       "</tbody>\n",
       "</table>\n"
      ],
      "text/latex": [
       "A grouped\\_df: 12 × 2\n",
       "\\begin{tabular}{ll}\n",
       " Month & atrasoMedio\\\\\n",
       " <dbl> & <dbl>\\\\\n",
       "\\hline\n",
       "\t  9 &  3.728758\\\\\n",
       "\t 10 &  4.084229\\\\\n",
       "\t 11 &  5.606048\\\\\n",
       "\t  5 &  7.768342\\\\\n",
       "\t  4 &  8.237131\\\\\n",
       "\t  8 & 10.654034\\\\\n",
       "\t  1 & 11.328178\\\\\n",
       "\t  7 & 11.843637\\\\\n",
       "\t  3 & 12.263297\\\\\n",
       "\t  6 & 13.610787\\\\\n",
       "\t  2 & 13.692327\\\\\n",
       "\t 12 & 17.940197\\\\\n",
       "\\end{tabular}\n"
      ],
      "text/markdown": [
       "\n",
       "A grouped_df: 12 × 2\n",
       "\n",
       "| Month &lt;dbl&gt; | atrasoMedio &lt;dbl&gt; |\n",
       "|---|---|\n",
       "|  9 |  3.728758 |\n",
       "| 10 |  4.084229 |\n",
       "| 11 |  5.606048 |\n",
       "|  5 |  7.768342 |\n",
       "|  4 |  8.237131 |\n",
       "|  8 | 10.654034 |\n",
       "|  1 | 11.328178 |\n",
       "|  7 | 11.843637 |\n",
       "|  3 | 12.263297 |\n",
       "|  6 | 13.610787 |\n",
       "|  2 | 13.692327 |\n",
       "| 12 | 17.940197 |\n",
       "\n"
      ],
      "text/plain": [
       "   Month atrasoMedio\n",
       "1   9     3.728758  \n",
       "2  10     4.084229  \n",
       "3  11     5.606048  \n",
       "4   5     7.768342  \n",
       "5   4     8.237131  \n",
       "6   8    10.654034  \n",
       "7   1    11.328178  \n",
       "8   7    11.843637  \n",
       "9   3    12.263297  \n",
       "10  6    13.610787  \n",
       "11  2    13.692327  \n",
       "12 12    17.940197  "
      ]
     },
     "metadata": {},
     "output_type": "display_data"
    }
   ],
   "source": [
    "voos2008 %>%\n",
    "    select(Month,DepDelay) %>%\n",
    "    group_by(Month) %>%\n",
    "    mutate(atrasoMedio = mean(DepDelay, na.rm = TRUE)) %>%\n",
    "    select(Month,atrasoMedio) %>%\n",
    "    unique() %>%\n",
    "    arrange(atrasoMedio) "
   ]
  },
  {
   "cell_type": "markdown",
   "metadata": {},
   "source": [
    "A média do atraso foi criada com a função *mean* e salva em uma nova variável chamada **atrasoMedio** com a função *mutate*. No final do bloco de código acima, foi incluída a função *unique* que remove os valores duplicados. Como anteriormente à função *unique* estava uma função de seleção das variáveis *Month* e *atrasoMedio*, somente uma aparição da combinação destas duas variáveis será apresentada. Por fim, após todos os processos de manipulação de dados é feita a ordenação com a variável *atrasoMedio* para que o resultado apresente os atrasos em ordem crescente. Assim é possível ver quais meses são os melhores para voar."
   ]
  },
  {
   "cell_type": "markdown",
   "metadata": {},
   "source": [
    "> **Pergunta 1)** Aproveitando a função *mutate*, como deve ser feito o cálculo de tempo médio de atraso de vôo com todas observações (linhas) que temos no *dataset* original? Mostre os 10 primeiros registros deste resultado.\n",
    "\n",
    "> **Pergunta 2)** No experimento para mostrar o mês com menos atrasos, o que acontece se executar a função *unique()* antes de executar a função *select*?"
   ]
  },
  {
   "cell_type": "markdown",
   "metadata": {},
   "source": [
    "## Qual aeroporto devemos evitar?"
   ]
  },
  {
   "cell_type": "markdown",
   "metadata": {},
   "source": [
    "Ao se atentear às questões que envolvem os atrasos, alguns outros desafios podem ser pensados. Um deles é **Qual aeroporto atrasa mais nas decolagens?**. Ao explorar as funções que já estudamos até aqui, esta é uma resposta relativamente simples de se encontrar neste *dataset*.\n",
    "\n",
    "A primeira coisa a se fazer é pensar nas variáveis que serão utilizadas. Para isso, fique atento à pergunta que precisa de resposta. Neste caso, é uma pergunta que exige apenas o aeroporto de decolagem (que é a variável **Origin**) e qual é o atraso na decolagem (que é a variável **DepDelay**). Será que conseguimos responder a questão só com estas variáveis?\n",
    "\n",
    "Para fazer esta construção passo a passo, e melhorar a forma de fixar o conhecimento estudado. Faça a seleção apenas destas duas variáveis e veja o resultado."
   ]
  },
  {
   "cell_type": "code",
   "execution_count": 41,
   "metadata": {},
   "outputs": [
    {
     "data": {
      "text/html": [
       "<table class=\"dataframe\">\n",
       "<caption>A tibble: 10 × 2</caption>\n",
       "<thead>\n",
       "\t<tr><th scope=col>Origin</th><th scope=col>DepDelay</th></tr>\n",
       "\t<tr><th scope=col>&lt;chr&gt;</th><th scope=col>&lt;dbl&gt;</th></tr>\n",
       "</thead>\n",
       "<tbody>\n",
       "\t<tr><td>MCO</td><td>  9</td></tr>\n",
       "\t<tr><td>EWR</td><td> -5</td></tr>\n",
       "\t<tr><td>DFW</td><td> -2</td></tr>\n",
       "\t<tr><td>HNL</td><td>  6</td></tr>\n",
       "\t<tr><td>LAS</td><td> -8</td></tr>\n",
       "\t<tr><td>DFW</td><td> -8</td></tr>\n",
       "\t<tr><td>JAN</td><td>  6</td></tr>\n",
       "\t<tr><td>SLC</td><td> -7</td></tr>\n",
       "\t<tr><td>BOS</td><td>  4</td></tr>\n",
       "\t<tr><td>TUS</td><td>-12</td></tr>\n",
       "</tbody>\n",
       "</table>\n"
      ],
      "text/latex": [
       "A tibble: 10 × 2\n",
       "\\begin{tabular}{ll}\n",
       " Origin & DepDelay\\\\\n",
       " <chr> & <dbl>\\\\\n",
       "\\hline\n",
       "\t MCO &   9\\\\\n",
       "\t EWR &  -5\\\\\n",
       "\t DFW &  -2\\\\\n",
       "\t HNL &   6\\\\\n",
       "\t LAS &  -8\\\\\n",
       "\t DFW &  -8\\\\\n",
       "\t JAN &   6\\\\\n",
       "\t SLC &  -7\\\\\n",
       "\t BOS &   4\\\\\n",
       "\t TUS & -12\\\\\n",
       "\\end{tabular}\n"
      ],
      "text/markdown": [
       "\n",
       "A tibble: 10 × 2\n",
       "\n",
       "| Origin &lt;chr&gt; | DepDelay &lt;dbl&gt; |\n",
       "|---|---|\n",
       "| MCO |   9 |\n",
       "| EWR |  -5 |\n",
       "| DFW |  -2 |\n",
       "| HNL |   6 |\n",
       "| LAS |  -8 |\n",
       "| DFW |  -8 |\n",
       "| JAN |   6 |\n",
       "| SLC |  -7 |\n",
       "| BOS |   4 |\n",
       "| TUS | -12 |\n",
       "\n"
      ],
      "text/plain": [
       "   Origin DepDelay\n",
       "1  MCO      9     \n",
       "2  EWR     -5     \n",
       "3  DFW     -2     \n",
       "4  HNL      6     \n",
       "5  LAS     -8     \n",
       "6  DFW     -8     \n",
       "7  JAN      6     \n",
       "8  SLC     -7     \n",
       "9  BOS      4     \n",
       "10 TUS    -12     "
      ]
     },
     "metadata": {},
     "output_type": "display_data"
    }
   ],
   "source": [
    "voos2008 %>%\n",
    "    select(Origin, DepDelay) %>%\n",
    "    head(10)"
   ]
  },
  {
   "cell_type": "markdown",
   "metadata": {},
   "source": [
    "Após fazer a seleção das variáveis, é hora de agrupar os códigos do aeroporto de origem. Isso nos ajudará a encontrar a soma dos atrasos. Veja o uso da função *group_by* e *mutate*, e em seguida os 10 primeiros registros deste resultado."
   ]
  },
  {
   "cell_type": "code",
   "execution_count": 42,
   "metadata": {},
   "outputs": [
    {
     "data": {
      "text/html": [
       "<table class=\"dataframe\">\n",
       "<caption>A grouped_df: 10 × 3</caption>\n",
       "<thead>\n",
       "\t<tr><th scope=col>Origin</th><th scope=col>DepDelay</th><th scope=col>totalAtraso</th></tr>\n",
       "\t<tr><th scope=col>&lt;chr&gt;</th><th scope=col>&lt;dbl&gt;</th><th scope=col>&lt;dbl&gt;</th></tr>\n",
       "</thead>\n",
       "<tbody>\n",
       "\t<tr><td>MCO</td><td>  9</td><td>20649</td></tr>\n",
       "\t<tr><td>EWR</td><td> -5</td><td>35770</td></tr>\n",
       "\t<tr><td>DFW</td><td> -2</td><td>43555</td></tr>\n",
       "\t<tr><td>HNL</td><td>  6</td><td> 1784</td></tr>\n",
       "\t<tr><td>LAS</td><td> -8</td><td>24756</td></tr>\n",
       "\t<tr><td>DFW</td><td> -8</td><td>43555</td></tr>\n",
       "\t<tr><td>JAN</td><td>  6</td><td> 1986</td></tr>\n",
       "\t<tr><td>SLC</td><td> -7</td><td>11334</td></tr>\n",
       "\t<tr><td>BOS</td><td>  4</td><td>16569</td></tr>\n",
       "\t<tr><td>TUS</td><td>-12</td><td> 2322</td></tr>\n",
       "</tbody>\n",
       "</table>\n"
      ],
      "text/latex": [
       "A grouped\\_df: 10 × 3\n",
       "\\begin{tabular}{lll}\n",
       " Origin & DepDelay & totalAtraso\\\\\n",
       " <chr> & <dbl> & <dbl>\\\\\n",
       "\\hline\n",
       "\t MCO &   9 & 20649\\\\\n",
       "\t EWR &  -5 & 35770\\\\\n",
       "\t DFW &  -2 & 43555\\\\\n",
       "\t HNL &   6 &  1784\\\\\n",
       "\t LAS &  -8 & 24756\\\\\n",
       "\t DFW &  -8 & 43555\\\\\n",
       "\t JAN &   6 &  1986\\\\\n",
       "\t SLC &  -7 & 11334\\\\\n",
       "\t BOS &   4 & 16569\\\\\n",
       "\t TUS & -12 &  2322\\\\\n",
       "\\end{tabular}\n"
      ],
      "text/markdown": [
       "\n",
       "A grouped_df: 10 × 3\n",
       "\n",
       "| Origin &lt;chr&gt; | DepDelay &lt;dbl&gt; | totalAtraso &lt;dbl&gt; |\n",
       "|---|---|---|\n",
       "| MCO |   9 | 20649 |\n",
       "| EWR |  -5 | 35770 |\n",
       "| DFW |  -2 | 43555 |\n",
       "| HNL |   6 |  1784 |\n",
       "| LAS |  -8 | 24756 |\n",
       "| DFW |  -8 | 43555 |\n",
       "| JAN |   6 |  1986 |\n",
       "| SLC |  -7 | 11334 |\n",
       "| BOS |   4 | 16569 |\n",
       "| TUS | -12 |  2322 |\n",
       "\n"
      ],
      "text/plain": [
       "   Origin DepDelay totalAtraso\n",
       "1  MCO      9      20649      \n",
       "2  EWR     -5      35770      \n",
       "3  DFW     -2      43555      \n",
       "4  HNL      6       1784      \n",
       "5  LAS     -8      24756      \n",
       "6  DFW     -8      43555      \n",
       "7  JAN      6       1986      \n",
       "8  SLC     -7      11334      \n",
       "9  BOS      4      16569      \n",
       "10 TUS    -12       2322      "
      ]
     },
     "metadata": {},
     "output_type": "display_data"
    }
   ],
   "source": [
    "voos2008 %>%\n",
    "    select(Origin, DepDelay) %>%\n",
    "    group_by(Origin) %>%\n",
    "    mutate(totalAtraso = sum(DepDelay, na.rm = TRUE)) %>%\n",
    "    head(10)"
   ]
  },
  {
   "cell_type": "markdown",
   "metadata": {},
   "source": [
    "Repare que os mesmos aeroportos de origem apresentam o mesmo total de atraso. Procure o aeroporto *DFW* na lista que foi apresentada acima. O total de atraso neste aeroporto é de 43.555 minutos durante todas as observações que estão no *dataset*.\n",
    "\n",
    "O passo seguinte é unir os valores unicos deste resultado, isso é feito com a função *unique*, e para garantir que os dados estão ordenados com os principais atrasos no topo da lista, é necessário fazer a ordenação de forma decrescente. Nós vimos no e-book que a função *arrange* nos dá o resultado em ordem crescente. E se deixar o resultado em ordem crescente, nós encontraremos os aeroportos que tem menos atrasos, como pode ser visto no bloco de código a seguir:"
   ]
  },
  {
   "cell_type": "code",
   "execution_count": 38,
   "metadata": {},
   "outputs": [
    {
     "data": {
      "text/html": [
       "<table class=\"dataframe\">\n",
       "<caption>A grouped_df: 10 × 2</caption>\n",
       "<thead>\n",
       "\t<tr><th scope=col>Origin</th><th scope=col>atrasoMedio</th></tr>\n",
       "\t<tr><th scope=col>&lt;chr&gt;</th><th scope=col>&lt;dbl&gt;</th></tr>\n",
       "</thead>\n",
       "<tbody>\n",
       "\t<tr><td>ITO</td><td>-259</td></tr>\n",
       "\t<tr><td>BIL</td><td>-169</td></tr>\n",
       "\t<tr><td>PIH</td><td>-121</td></tr>\n",
       "\t<tr><td>RAP</td><td> -97</td></tr>\n",
       "\t<tr><td>RDM</td><td> -94</td></tr>\n",
       "\t<tr><td>BFL</td><td> -82</td></tr>\n",
       "\t<tr><td>GCC</td><td> -80</td></tr>\n",
       "\t<tr><td>GTF</td><td> -75</td></tr>\n",
       "\t<tr><td>IYK</td><td> -71</td></tr>\n",
       "\t<tr><td>PSC</td><td> -70</td></tr>\n",
       "</tbody>\n",
       "</table>\n"
      ],
      "text/latex": [
       "A grouped\\_df: 10 × 2\n",
       "\\begin{tabular}{ll}\n",
       " Origin & atrasoMedio\\\\\n",
       " <chr> & <dbl>\\\\\n",
       "\\hline\n",
       "\t ITO & -259\\\\\n",
       "\t BIL & -169\\\\\n",
       "\t PIH & -121\\\\\n",
       "\t RAP &  -97\\\\\n",
       "\t RDM &  -94\\\\\n",
       "\t BFL &  -82\\\\\n",
       "\t GCC &  -80\\\\\n",
       "\t GTF &  -75\\\\\n",
       "\t IYK &  -71\\\\\n",
       "\t PSC &  -70\\\\\n",
       "\\end{tabular}\n"
      ],
      "text/markdown": [
       "\n",
       "A grouped_df: 10 × 2\n",
       "\n",
       "| Origin &lt;chr&gt; | atrasoMedio &lt;dbl&gt; |\n",
       "|---|---|\n",
       "| ITO | -259 |\n",
       "| BIL | -169 |\n",
       "| PIH | -121 |\n",
       "| RAP |  -97 |\n",
       "| RDM |  -94 |\n",
       "| BFL |  -82 |\n",
       "| GCC |  -80 |\n",
       "| GTF |  -75 |\n",
       "| IYK |  -71 |\n",
       "| PSC |  -70 |\n",
       "\n"
      ],
      "text/plain": [
       "   Origin atrasoMedio\n",
       "1  ITO    -259       \n",
       "2  BIL    -169       \n",
       "3  PIH    -121       \n",
       "4  RAP     -97       \n",
       "5  RDM     -94       \n",
       "6  BFL     -82       \n",
       "7  GCC     -80       \n",
       "8  GTF     -75       \n",
       "9  IYK     -71       \n",
       "10 PSC     -70       "
      ]
     },
     "metadata": {},
     "output_type": "display_data"
    }
   ],
   "source": [
    "voos2008 %>%\n",
    "    select(Origin, DepDelay) %>%\n",
    "    group_by(Origin) %>%\n",
    "    mutate(totalAtraso = sum(DepDelay, na.rm = TRUE)) %>%\n",
    "    select(Origin, totalAtraso) %>%\n",
    "    unique() %>%\n",
    "    arrange(totalAtraso) %>%\n",
    "    head(10)\n"
   ]
  },
  {
   "cell_type": "markdown",
   "metadata": {},
   "source": [
    "Para fazer a ordem inversa dos valores, ao invés de usar somente a função *arrange* é necessário adicionar a função *desc*. Esta função tem o objetivo de apresentar os valores do resultado de forma decrescente a partir da variável que foi informada no parâmetro. Veja como fica o código final."
   ]
  },
  {
   "cell_type": "code",
   "execution_count": 47,
   "metadata": {},
   "outputs": [
    {
     "data": {
      "text/html": [
       "<table class=\"dataframe\">\n",
       "<caption>A grouped_df: 10 × 2</caption>\n",
       "<thead>\n",
       "\t<tr><th scope=col>Origin</th><th scope=col>totalAtraso</th></tr>\n",
       "\t<tr><th scope=col>&lt;chr&gt;</th><th scope=col>&lt;dbl&gt;</th></tr>\n",
       "</thead>\n",
       "<tbody>\n",
       "\t<tr><td>ORD</td><td>82327</td></tr>\n",
       "\t<tr><td>ATL</td><td>68122</td></tr>\n",
       "\t<tr><td>DFW</td><td>43555</td></tr>\n",
       "\t<tr><td>EWR</td><td>35770</td></tr>\n",
       "\t<tr><td>DEN</td><td>35063</td></tr>\n",
       "\t<tr><td>LAX</td><td>30335</td></tr>\n",
       "\t<tr><td>IAH</td><td>27415</td></tr>\n",
       "\t<tr><td>SFO</td><td>26169</td></tr>\n",
       "\t<tr><td>PHX</td><td>25232</td></tr>\n",
       "\t<tr><td>LAS</td><td>24756</td></tr>\n",
       "</tbody>\n",
       "</table>\n"
      ],
      "text/latex": [
       "A grouped\\_df: 10 × 2\n",
       "\\begin{tabular}{ll}\n",
       " Origin & totalAtraso\\\\\n",
       " <chr> & <dbl>\\\\\n",
       "\\hline\n",
       "\t ORD & 82327\\\\\n",
       "\t ATL & 68122\\\\\n",
       "\t DFW & 43555\\\\\n",
       "\t EWR & 35770\\\\\n",
       "\t DEN & 35063\\\\\n",
       "\t LAX & 30335\\\\\n",
       "\t IAH & 27415\\\\\n",
       "\t SFO & 26169\\\\\n",
       "\t PHX & 25232\\\\\n",
       "\t LAS & 24756\\\\\n",
       "\\end{tabular}\n"
      ],
      "text/markdown": [
       "\n",
       "A grouped_df: 10 × 2\n",
       "\n",
       "| Origin &lt;chr&gt; | totalAtraso &lt;dbl&gt; |\n",
       "|---|---|\n",
       "| ORD | 82327 |\n",
       "| ATL | 68122 |\n",
       "| DFW | 43555 |\n",
       "| EWR | 35770 |\n",
       "| DEN | 35063 |\n",
       "| LAX | 30335 |\n",
       "| IAH | 27415 |\n",
       "| SFO | 26169 |\n",
       "| PHX | 25232 |\n",
       "| LAS | 24756 |\n",
       "\n"
      ],
      "text/plain": [
       "   Origin totalAtraso\n",
       "1  ORD    82327      \n",
       "2  ATL    68122      \n",
       "3  DFW    43555      \n",
       "4  EWR    35770      \n",
       "5  DEN    35063      \n",
       "6  LAX    30335      \n",
       "7  IAH    27415      \n",
       "8  SFO    26169      \n",
       "9  PHX    25232      \n",
       "10 LAS    24756      "
      ]
     },
     "metadata": {},
     "output_type": "display_data"
    }
   ],
   "source": [
    "voos2008 %>%\n",
    "    select(Origin, DepDelay) %>%\n",
    "    group_by(Origin) %>%\n",
    "    mutate(totalAtraso = sum(DepDelay, na.rm = TRUE)) %>%\n",
    "    select(Origin, totalAtraso) %>%\n",
    "    unique() %>%\n",
    "    arrange(desc(totalAtraso)) %>%\n",
    "    head(10)"
   ]
  },
  {
   "cell_type": "markdown",
   "metadata": {},
   "source": [
    "E dos vôos cancelados, quais são as principais causas? "
   ]
  },
  {
   "cell_type": "code",
   "execution_count": 72,
   "metadata": {},
   "outputs": [
    {
     "data": {
      "text/html": [
       "<table class=\"dataframe\">\n",
       "<caption>A grouped_df: 3 × 2</caption>\n",
       "<thead>\n",
       "\t<tr><th scope=col>CancellationCode</th><th scope=col>totalAtraso</th></tr>\n",
       "\t<tr><th scope=col>&lt;chr&gt;</th><th scope=col>&lt;dbl&gt;</th></tr>\n",
       "</thead>\n",
       "<tbody>\n",
       "\t<tr><td>A</td><td>790</td></tr>\n",
       "\t<tr><td>B</td><td>785</td></tr>\n",
       "\t<tr><td>C</td><td>416</td></tr>\n",
       "</tbody>\n",
       "</table>\n"
      ],
      "text/latex": [
       "A grouped\\_df: 3 × 2\n",
       "\\begin{tabular}{ll}\n",
       " CancellationCode & totalAtraso\\\\\n",
       " <chr> & <dbl>\\\\\n",
       "\\hline\n",
       "\t A & 790\\\\\n",
       "\t B & 785\\\\\n",
       "\t C & 416\\\\\n",
       "\\end{tabular}\n"
      ],
      "text/markdown": [
       "\n",
       "A grouped_df: 3 × 2\n",
       "\n",
       "| CancellationCode &lt;chr&gt; | totalAtraso &lt;dbl&gt; |\n",
       "|---|---|\n",
       "| A | 790 |\n",
       "| B | 785 |\n",
       "| C | 416 |\n",
       "\n"
      ],
      "text/plain": [
       "  CancellationCode totalAtraso\n",
       "1 A                790        \n",
       "2 B                785        \n",
       "3 C                416        "
      ]
     },
     "metadata": {},
     "output_type": "display_data"
    }
   ],
   "source": [
    "voosCancelados <- voos2008 %>%\n",
    "    select(Cancelled, CancellationCode) %>%\n",
    "    filter(Cancelled == 1) %>%\n",
    "    group_by(CancellationCode) %>%\n",
    "    mutate(totalAtraso = sum(Cancelled)) %>%\n",
    "    select(CancellationCode, totalAtraso) %>%\n",
    "    unique() %>%\n",
    "    arrange(desc(totalAtraso))\n",
    "\n",
    "head(voosCancelados)"
   ]
  },
  {
   "cell_type": "markdown",
   "metadata": {},
   "source": [
    "Repare que o resultado ficou com o código do cancelamento, mas isso não é muito interessante para quem for consumir o resultado do seu trabalho. Se você se lembrar, lá no dicionário de dados há uma descrição para cada um dos 4 códigos de cancelamento. Que tal juntarmos a descrição com essa manipulação que fizemos?\n",
    "\n",
    "Para isso, é necessário criar um outro *dataframe*, para depois utilizarmos uma função de *join* para unir este novo *dataframe* com o resultado que foi criado.\n",
    "\n",
    "Vamos criar este *dataframe* fazendo passo a passo para ficar didático. Então, relembrando o que foi aprendido na trilha 5, crie 2 vetores, um deles terá os códigos e o outro a descrição. "
   ]
  },
  {
   "cell_type": "code",
   "execution_count": 68,
   "metadata": {},
   "outputs": [
    {
     "data": {
      "text/html": [
       "<table class=\"dataframe\">\n",
       "<caption>A data.frame: 4 × 2</caption>\n",
       "<thead>\n",
       "\t<tr><th scope=col>Codigo</th><th scope=col>Descricao</th></tr>\n",
       "\t<tr><th scope=col>&lt;chr&gt;</th><th scope=col>&lt;chr&gt;</th></tr>\n",
       "</thead>\n",
       "<tbody>\n",
       "\t<tr><td>A</td><td>Operadora</td></tr>\n",
       "\t<tr><td>B</td><td>Clima    </td></tr>\n",
       "\t<tr><td>C</td><td>NAS      </td></tr>\n",
       "\t<tr><td>D</td><td>Segurança</td></tr>\n",
       "</tbody>\n",
       "</table>\n"
      ],
      "text/latex": [
       "A data.frame: 4 × 2\n",
       "\\begin{tabular}{ll}\n",
       " Codigo & Descricao\\\\\n",
       " <chr> & <chr>\\\\\n",
       "\\hline\n",
       "\t A & Operadora\\\\\n",
       "\t B & Clima    \\\\\n",
       "\t C & NAS      \\\\\n",
       "\t D & Segurança\\\\\n",
       "\\end{tabular}\n"
      ],
      "text/markdown": [
       "\n",
       "A data.frame: 4 × 2\n",
       "\n",
       "| Codigo &lt;chr&gt; | Descricao &lt;chr&gt; |\n",
       "|---|---|\n",
       "| A | Operadora |\n",
       "| B | Clima     |\n",
       "| C | NAS       |\n",
       "| D | Segurança |\n",
       "\n"
      ],
      "text/plain": [
       "  Codigo Descricao\n",
       "1 A      Operadora\n",
       "2 B      Clima    \n",
       "3 C      NAS      \n",
       "4 D      Segurança"
      ]
     },
     "metadata": {},
     "output_type": "display_data"
    }
   ],
   "source": [
    "codigoCancelamento = c('A','B','C','D')\n",
    "descricaoCancelamento = c('Operadora', 'Clima', 'NAS', 'Segurança')"
   ]
  },
  {
   "cell_type": "markdown",
   "metadata": {},
   "source": [
    "Com os dois vetores criados, é hora de incluir uma nova função no nosso aprendizado. A função *data.frame* recebe uma lista de parâmetros compostos que equivalem ao nome da coluna e seus valores. Veja que vamos usar a função *data.frame* e passar o nome da coluna que queremos como **Codigo** dizendo que ela terá os valores do vetor de código que criamos anteriormente. A mesma coisa será feita com a coluna **Descricao** que receberá os valores que trouxemos lá do dicionário.\n",
    "\n",
    "Veja como é esse código:"
   ]
  },
  {
   "cell_type": "code",
   "execution_count": 70,
   "metadata": {},
   "outputs": [
    {
     "data": {
      "text/html": [
       "<table class=\"dataframe\">\n",
       "<caption>A data.frame: 4 × 2</caption>\n",
       "<thead>\n",
       "\t<tr><th></th><th scope=col>Codigo</th><th scope=col>Descricao</th></tr>\n",
       "\t<tr><th></th><th scope=col>&lt;chr&gt;</th><th scope=col>&lt;chr&gt;</th></tr>\n",
       "</thead>\n",
       "<tbody>\n",
       "\t<tr><th scope=row>1</th><td>A</td><td>Operadora</td></tr>\n",
       "\t<tr><th scope=row>2</th><td>B</td><td>Clima    </td></tr>\n",
       "\t<tr><th scope=row>3</th><td>C</td><td>NAS      </td></tr>\n",
       "\t<tr><th scope=row>4</th><td>D</td><td>Segurança</td></tr>\n",
       "</tbody>\n",
       "</table>\n"
      ],
      "text/latex": [
       "A data.frame: 4 × 2\n",
       "\\begin{tabular}{r|ll}\n",
       "  & Codigo & Descricao\\\\\n",
       "  & <chr> & <chr>\\\\\n",
       "\\hline\n",
       "\t1 & A & Operadora\\\\\n",
       "\t2 & B & Clima    \\\\\n",
       "\t3 & C & NAS      \\\\\n",
       "\t4 & D & Segurança\\\\\n",
       "\\end{tabular}\n"
      ],
      "text/markdown": [
       "\n",
       "A data.frame: 4 × 2\n",
       "\n",
       "| <!--/--> | Codigo &lt;chr&gt; | Descricao &lt;chr&gt; |\n",
       "|---|---|---|\n",
       "| 1 | A | Operadora |\n",
       "| 2 | B | Clima     |\n",
       "| 3 | C | NAS       |\n",
       "| 4 | D | Segurança |\n",
       "\n"
      ],
      "text/plain": [
       "  Codigo Descricao\n",
       "1 A      Operadora\n",
       "2 B      Clima    \n",
       "3 C      NAS      \n",
       "4 D      Segurança"
      ]
     },
     "metadata": {},
     "output_type": "display_data"
    }
   ],
   "source": [
    "tiposOcorrencias <- data.frame(Codigo = codigoCancelamento, Descricao = descricaoCancelamento)\n",
    "\n",
    "head(tiposOcorrencias)"
   ]
  },
  {
   "cell_type": "markdown",
   "metadata": {},
   "source": [
    "Agora é hora de unir os resultados dos dois *data frame*, o que tem a sua manipulação de dados e o que tem o código e a descrição dos cancelamentos. Para isso, é necessário utilizar a função de *join* do pacote *tidyverse*. Esta função permite unir os conjuntos de dados de algumas formas, eu recomendo explorar a [documentação do join](https://dplyr.tidyverse.org/reference/join.html) para ter mais detalhes sobre as opções.\n",
    "\n",
    "No nosso exemplo vamos utilizar a função *inner_join* informando por qual variável (coluna) que faremos a união dos *data frames*."
   ]
  },
  {
   "cell_type": "code",
   "execution_count": 78,
   "metadata": {},
   "outputs": [
    {
     "data": {
      "text/html": [
       "<table class=\"dataframe\">\n",
       "<caption>A grouped_df: 3 × 3</caption>\n",
       "<thead>\n",
       "\t<tr><th scope=col>CancellationCode</th><th scope=col>totalAtraso</th><th scope=col>Descricao</th></tr>\n",
       "\t<tr><th scope=col>&lt;chr&gt;</th><th scope=col>&lt;dbl&gt;</th><th scope=col>&lt;chr&gt;</th></tr>\n",
       "</thead>\n",
       "<tbody>\n",
       "\t<tr><td>A</td><td>790</td><td>Operadora</td></tr>\n",
       "\t<tr><td>B</td><td>785</td><td>Clima    </td></tr>\n",
       "\t<tr><td>C</td><td>416</td><td>NAS      </td></tr>\n",
       "</tbody>\n",
       "</table>\n"
      ],
      "text/latex": [
       "A grouped\\_df: 3 × 3\n",
       "\\begin{tabular}{lll}\n",
       " CancellationCode & totalAtraso & Descricao\\\\\n",
       " <chr> & <dbl> & <chr>\\\\\n",
       "\\hline\n",
       "\t A & 790 & Operadora\\\\\n",
       "\t B & 785 & Clima    \\\\\n",
       "\t C & 416 & NAS      \\\\\n",
       "\\end{tabular}\n"
      ],
      "text/markdown": [
       "\n",
       "A grouped_df: 3 × 3\n",
       "\n",
       "| CancellationCode &lt;chr&gt; | totalAtraso &lt;dbl&gt; | Descricao &lt;chr&gt; |\n",
       "|---|---|---|\n",
       "| A | 790 | Operadora |\n",
       "| B | 785 | Clima     |\n",
       "| C | 416 | NAS       |\n",
       "\n"
      ],
      "text/plain": [
       "  CancellationCode totalAtraso Descricao\n",
       "1 A                790         Operadora\n",
       "2 B                785         Clima    \n",
       "3 C                416         NAS      "
      ]
     },
     "metadata": {},
     "output_type": "display_data"
    }
   ],
   "source": [
    "inner_join(x=voosCancelados,y=tiposOcorrencias, by = c(\"CancellationCode\" = \"Codigo\"))"
   ]
  },
  {
   "cell_type": "markdown",
   "metadata": {},
   "source": [
    "Veja que agora, quem for consumir seu resultado, saberá o que significa *A*, *B*, *C* ou *D*. \n",
    "\n",
    "Neste e-book nós estudamos o pacote *tidyverse* e algumas de suas funções:\n",
    "* Pipe\n",
    "* Select\n",
    "* group_by\n",
    "* mutate\n",
    "* arrange / desc\n",
    "* unique\n",
    "* join"
   ]
  },
  {
   "cell_type": "markdown",
   "metadata": {},
   "source": [
    "## Respostas das perguntas"
   ]
  },
  {
   "cell_type": "markdown",
   "metadata": {},
   "source": [
    "**Pergunta 1)** Aproveitando a função *mutate*, como deve ser feito o cálculo de tempo médio de atraso de vôo com todas observações (linhas) que temos no *dataset* original? Mostre os 10 primeiros registros deste resultado.\n",
    "\n",
    "> **Resposta 1)**"
   ]
  },
  {
   "cell_type": "code",
   "execution_count": 18,
   "metadata": {},
   "outputs": [
    {
     "data": {
      "text/html": [
       "<table class=\"dataframe\">\n",
       "<caption>A grouped_df: 10 × 2</caption>\n",
       "<thead>\n",
       "\t<tr><th scope=col>TailNum</th><th scope=col>tempoAtraso</th></tr>\n",
       "\t<tr><th scope=col>&lt;chr&gt;</th><th scope=col>&lt;dbl&gt;</th></tr>\n",
       "</thead>\n",
       "<tbody>\n",
       "\t<tr><td>N245AY</td><td>-2030.0000</td></tr>\n",
       "\t<tr><td>N289YV</td><td>-1174.0000</td></tr>\n",
       "\t<tr><td>N1610D</td><td>-1105.0000</td></tr>\n",
       "\t<tr><td>N067AA</td><td>-1073.0000</td></tr>\n",
       "\t<tr><td>N3DCAA</td><td> -919.6000</td></tr>\n",
       "\t<tr><td>N791UA</td><td> -794.6667</td></tr>\n",
       "\t<tr><td>N200UU</td><td> -779.3333</td></tr>\n",
       "\t<tr><td>N583HA</td><td> -748.3333</td></tr>\n",
       "\t<tr><td>N078AA</td><td> -705.0000</td></tr>\n",
       "\t<tr><td>N062AA</td><td> -686.0000</td></tr>\n",
       "</tbody>\n",
       "</table>\n"
      ],
      "text/latex": [
       "A grouped\\_df: 10 × 2\n",
       "\\begin{tabular}{ll}\n",
       " TailNum & tempoAtraso\\\\\n",
       " <chr> & <dbl>\\\\\n",
       "\\hline\n",
       "\t N245AY & -2030.0000\\\\\n",
       "\t N289YV & -1174.0000\\\\\n",
       "\t N1610D & -1105.0000\\\\\n",
       "\t N067AA & -1073.0000\\\\\n",
       "\t N3DCAA &  -919.6000\\\\\n",
       "\t N791UA &  -794.6667\\\\\n",
       "\t N200UU &  -779.3333\\\\\n",
       "\t N583HA &  -748.3333\\\\\n",
       "\t N078AA &  -705.0000\\\\\n",
       "\t N062AA &  -686.0000\\\\\n",
       "\\end{tabular}\n"
      ],
      "text/markdown": [
       "\n",
       "A grouped_df: 10 × 2\n",
       "\n",
       "| TailNum &lt;chr&gt; | tempoAtraso &lt;dbl&gt; |\n",
       "|---|---|\n",
       "| N245AY | -2030.0000 |\n",
       "| N289YV | -1174.0000 |\n",
       "| N1610D | -1105.0000 |\n",
       "| N067AA | -1073.0000 |\n",
       "| N3DCAA |  -919.6000 |\n",
       "| N791UA |  -794.6667 |\n",
       "| N200UU |  -779.3333 |\n",
       "| N583HA |  -748.3333 |\n",
       "| N078AA |  -705.0000 |\n",
       "| N062AA |  -686.0000 |\n",
       "\n"
      ],
      "text/plain": [
       "   TailNum tempoAtraso\n",
       "1  N245AY  -2030.0000 \n",
       "2  N289YV  -1174.0000 \n",
       "3  N1610D  -1105.0000 \n",
       "4  N067AA  -1073.0000 \n",
       "5  N3DCAA   -919.6000 \n",
       "6  N791UA   -794.6667 \n",
       "7  N200UU   -779.3333 \n",
       "8  N583HA   -748.3333 \n",
       "9  N078AA   -705.0000 \n",
       "10 N062AA   -686.0000 "
      ]
     },
     "metadata": {},
     "output_type": "display_data"
    }
   ],
   "source": [
    "voos2008 %>%\n",
    "    select(ArrTime,CRSArrTime, ArrDelay, TailNum, Month) %>%\n",
    "    group_by(TailNum) %>%\n",
    "    mutate(tempoAtraso = mean(ArrTime - CRSArrTime)) %>%\n",
    "    select(TailNum, tempoAtraso) %>% \n",
    "    unique() %>%\n",
    "    arrange(tempoAtraso, TailNum) %>%\n",
    "    head(10)"
   ]
  },
  {
   "cell_type": "markdown",
   "metadata": {},
   "source": [
    "**Pergunta 2)** No experimento para mostrar o mês com menos atrasos, o que acontece se executar a função unique() antes de executar a função select?\n",
    "\n",
    "> **Resposta 2)** Como o conjunto de dados possui muitas variáveis ainda (5 no total), a função *unique* faz com que os dados repetidos sejam removidos. Porém, ela usa todas as variáveis existentes naquele momento, fazendo com que as 5 variáveis sejam utlizadas. Para garantir que somente as 12 observações sejam apresentadas, coloque a função *unique* no momento que realmente precise fazer a remoção de valores duplicados"
   ]
  },
  {
   "cell_type": "code",
   "execution_count": 19,
   "metadata": {},
   "outputs": [
    {
     "data": {
      "text/html": [
       "<table class=\"dataframe\">\n",
       "<caption>A grouped_df: 2856 × 2</caption>\n",
       "<thead>\n",
       "\t<tr><th scope=col>Month</th><th scope=col>atrasoMedio</th></tr>\n",
       "\t<tr><th scope=col>&lt;dbl&gt;</th><th scope=col>&lt;dbl&gt;</th></tr>\n",
       "</thead>\n",
       "<tbody>\n",
       "\t<tr><td>9</td><td>3.728758</td></tr>\n",
       "\t<tr><td>9</td><td>3.728758</td></tr>\n",
       "\t<tr><td>9</td><td>3.728758</td></tr>\n",
       "\t<tr><td>9</td><td>3.728758</td></tr>\n",
       "\t<tr><td>9</td><td>3.728758</td></tr>\n",
       "\t<tr><td>9</td><td>3.728758</td></tr>\n",
       "\t<tr><td>9</td><td>3.728758</td></tr>\n",
       "\t<tr><td>9</td><td>3.728758</td></tr>\n",
       "\t<tr><td>9</td><td>3.728758</td></tr>\n",
       "\t<tr><td>9</td><td>3.728758</td></tr>\n",
       "\t<tr><td>9</td><td>3.728758</td></tr>\n",
       "\t<tr><td>9</td><td>3.728758</td></tr>\n",
       "\t<tr><td>9</td><td>3.728758</td></tr>\n",
       "\t<tr><td>9</td><td>3.728758</td></tr>\n",
       "\t<tr><td>9</td><td>3.728758</td></tr>\n",
       "\t<tr><td>9</td><td>3.728758</td></tr>\n",
       "\t<tr><td>9</td><td>3.728758</td></tr>\n",
       "\t<tr><td>9</td><td>3.728758</td></tr>\n",
       "\t<tr><td>9</td><td>3.728758</td></tr>\n",
       "\t<tr><td>9</td><td>3.728758</td></tr>\n",
       "\t<tr><td>9</td><td>3.728758</td></tr>\n",
       "\t<tr><td>9</td><td>3.728758</td></tr>\n",
       "\t<tr><td>9</td><td>3.728758</td></tr>\n",
       "\t<tr><td>9</td><td>3.728758</td></tr>\n",
       "\t<tr><td>9</td><td>3.728758</td></tr>\n",
       "\t<tr><td>9</td><td>3.728758</td></tr>\n",
       "\t<tr><td>9</td><td>3.728758</td></tr>\n",
       "\t<tr><td>9</td><td>3.728758</td></tr>\n",
       "\t<tr><td>9</td><td>3.728758</td></tr>\n",
       "\t<tr><td>9</td><td>3.728758</td></tr>\n",
       "\t<tr><td>...</td><td>...</td></tr>\n",
       "\t<tr><td>12</td><td>17.9402</td></tr>\n",
       "\t<tr><td>12</td><td>17.9402</td></tr>\n",
       "\t<tr><td>12</td><td>17.9402</td></tr>\n",
       "\t<tr><td>12</td><td>17.9402</td></tr>\n",
       "\t<tr><td>12</td><td>17.9402</td></tr>\n",
       "\t<tr><td>12</td><td>17.9402</td></tr>\n",
       "\t<tr><td>12</td><td>17.9402</td></tr>\n",
       "\t<tr><td>12</td><td>17.9402</td></tr>\n",
       "\t<tr><td>12</td><td>17.9402</td></tr>\n",
       "\t<tr><td>12</td><td>17.9402</td></tr>\n",
       "\t<tr><td>12</td><td>17.9402</td></tr>\n",
       "\t<tr><td>12</td><td>17.9402</td></tr>\n",
       "\t<tr><td>12</td><td>17.9402</td></tr>\n",
       "\t<tr><td>12</td><td>17.9402</td></tr>\n",
       "\t<tr><td>12</td><td>17.9402</td></tr>\n",
       "\t<tr><td>12</td><td>17.9402</td></tr>\n",
       "\t<tr><td>12</td><td>17.9402</td></tr>\n",
       "\t<tr><td>12</td><td>17.9402</td></tr>\n",
       "\t<tr><td>12</td><td>17.9402</td></tr>\n",
       "\t<tr><td>12</td><td>17.9402</td></tr>\n",
       "\t<tr><td>12</td><td>17.9402</td></tr>\n",
       "\t<tr><td>12</td><td>17.9402</td></tr>\n",
       "\t<tr><td>12</td><td>17.9402</td></tr>\n",
       "\t<tr><td>12</td><td>17.9402</td></tr>\n",
       "\t<tr><td>12</td><td>17.9402</td></tr>\n",
       "\t<tr><td>12</td><td>17.9402</td></tr>\n",
       "\t<tr><td>12</td><td>17.9402</td></tr>\n",
       "\t<tr><td>12</td><td>17.9402</td></tr>\n",
       "\t<tr><td>12</td><td>17.9402</td></tr>\n",
       "\t<tr><td>12</td><td>17.9402</td></tr>\n",
       "</tbody>\n",
       "</table>\n"
      ],
      "text/latex": [
       "A grouped\\_df: 2856 × 2\n",
       "\\begin{tabular}{ll}\n",
       " Month & atrasoMedio\\\\\n",
       " <dbl> & <dbl>\\\\\n",
       "\\hline\n",
       "\t 9 & 3.728758\\\\\n",
       "\t 9 & 3.728758\\\\\n",
       "\t 9 & 3.728758\\\\\n",
       "\t 9 & 3.728758\\\\\n",
       "\t 9 & 3.728758\\\\\n",
       "\t 9 & 3.728758\\\\\n",
       "\t 9 & 3.728758\\\\\n",
       "\t 9 & 3.728758\\\\\n",
       "\t 9 & 3.728758\\\\\n",
       "\t 9 & 3.728758\\\\\n",
       "\t 9 & 3.728758\\\\\n",
       "\t 9 & 3.728758\\\\\n",
       "\t 9 & 3.728758\\\\\n",
       "\t 9 & 3.728758\\\\\n",
       "\t 9 & 3.728758\\\\\n",
       "\t 9 & 3.728758\\\\\n",
       "\t 9 & 3.728758\\\\\n",
       "\t 9 & 3.728758\\\\\n",
       "\t 9 & 3.728758\\\\\n",
       "\t 9 & 3.728758\\\\\n",
       "\t 9 & 3.728758\\\\\n",
       "\t 9 & 3.728758\\\\\n",
       "\t 9 & 3.728758\\\\\n",
       "\t 9 & 3.728758\\\\\n",
       "\t 9 & 3.728758\\\\\n",
       "\t 9 & 3.728758\\\\\n",
       "\t 9 & 3.728758\\\\\n",
       "\t 9 & 3.728758\\\\\n",
       "\t 9 & 3.728758\\\\\n",
       "\t 9 & 3.728758\\\\\n",
       "\t ... & ...\\\\\n",
       "\t 12 & 17.9402\\\\\n",
       "\t 12 & 17.9402\\\\\n",
       "\t 12 & 17.9402\\\\\n",
       "\t 12 & 17.9402\\\\\n",
       "\t 12 & 17.9402\\\\\n",
       "\t 12 & 17.9402\\\\\n",
       "\t 12 & 17.9402\\\\\n",
       "\t 12 & 17.9402\\\\\n",
       "\t 12 & 17.9402\\\\\n",
       "\t 12 & 17.9402\\\\\n",
       "\t 12 & 17.9402\\\\\n",
       "\t 12 & 17.9402\\\\\n",
       "\t 12 & 17.9402\\\\\n",
       "\t 12 & 17.9402\\\\\n",
       "\t 12 & 17.9402\\\\\n",
       "\t 12 & 17.9402\\\\\n",
       "\t 12 & 17.9402\\\\\n",
       "\t 12 & 17.9402\\\\\n",
       "\t 12 & 17.9402\\\\\n",
       "\t 12 & 17.9402\\\\\n",
       "\t 12 & 17.9402\\\\\n",
       "\t 12 & 17.9402\\\\\n",
       "\t 12 & 17.9402\\\\\n",
       "\t 12 & 17.9402\\\\\n",
       "\t 12 & 17.9402\\\\\n",
       "\t 12 & 17.9402\\\\\n",
       "\t 12 & 17.9402\\\\\n",
       "\t 12 & 17.9402\\\\\n",
       "\t 12 & 17.9402\\\\\n",
       "\t 12 & 17.9402\\\\\n",
       "\\end{tabular}\n"
      ],
      "text/markdown": [
       "\n",
       "A grouped_df: 2856 × 2\n",
       "\n",
       "| Month &lt;dbl&gt; | atrasoMedio &lt;dbl&gt; |\n",
       "|---|---|\n",
       "| 9 | 3.728758 |\n",
       "| 9 | 3.728758 |\n",
       "| 9 | 3.728758 |\n",
       "| 9 | 3.728758 |\n",
       "| 9 | 3.728758 |\n",
       "| 9 | 3.728758 |\n",
       "| 9 | 3.728758 |\n",
       "| 9 | 3.728758 |\n",
       "| 9 | 3.728758 |\n",
       "| 9 | 3.728758 |\n",
       "| 9 | 3.728758 |\n",
       "| 9 | 3.728758 |\n",
       "| 9 | 3.728758 |\n",
       "| 9 | 3.728758 |\n",
       "| 9 | 3.728758 |\n",
       "| 9 | 3.728758 |\n",
       "| 9 | 3.728758 |\n",
       "| 9 | 3.728758 |\n",
       "| 9 | 3.728758 |\n",
       "| 9 | 3.728758 |\n",
       "| 9 | 3.728758 |\n",
       "| 9 | 3.728758 |\n",
       "| 9 | 3.728758 |\n",
       "| 9 | 3.728758 |\n",
       "| 9 | 3.728758 |\n",
       "| 9 | 3.728758 |\n",
       "| 9 | 3.728758 |\n",
       "| 9 | 3.728758 |\n",
       "| 9 | 3.728758 |\n",
       "| 9 | 3.728758 |\n",
       "| ... | ... |\n",
       "| 12 | 17.9402 |\n",
       "| 12 | 17.9402 |\n",
       "| 12 | 17.9402 |\n",
       "| 12 | 17.9402 |\n",
       "| 12 | 17.9402 |\n",
       "| 12 | 17.9402 |\n",
       "| 12 | 17.9402 |\n",
       "| 12 | 17.9402 |\n",
       "| 12 | 17.9402 |\n",
       "| 12 | 17.9402 |\n",
       "| 12 | 17.9402 |\n",
       "| 12 | 17.9402 |\n",
       "| 12 | 17.9402 |\n",
       "| 12 | 17.9402 |\n",
       "| 12 | 17.9402 |\n",
       "| 12 | 17.9402 |\n",
       "| 12 | 17.9402 |\n",
       "| 12 | 17.9402 |\n",
       "| 12 | 17.9402 |\n",
       "| 12 | 17.9402 |\n",
       "| 12 | 17.9402 |\n",
       "| 12 | 17.9402 |\n",
       "| 12 | 17.9402 |\n",
       "| 12 | 17.9402 |\n",
       "| 12 | 17.9402 |\n",
       "| 12 | 17.9402 |\n",
       "| 12 | 17.9402 |\n",
       "| 12 | 17.9402 |\n",
       "| 12 | 17.9402 |\n",
       "| 12 | 17.9402 |\n",
       "\n"
      ],
      "text/plain": [
       "     Month atrasoMedio\n",
       "1    9     3.728758   \n",
       "2    9     3.728758   \n",
       "3    9     3.728758   \n",
       "4    9     3.728758   \n",
       "5    9     3.728758   \n",
       "6    9     3.728758   \n",
       "7    9     3.728758   \n",
       "8    9     3.728758   \n",
       "9    9     3.728758   \n",
       "10   9     3.728758   \n",
       "11   9     3.728758   \n",
       "12   9     3.728758   \n",
       "13   9     3.728758   \n",
       "14   9     3.728758   \n",
       "15   9     3.728758   \n",
       "16   9     3.728758   \n",
       "17   9     3.728758   \n",
       "18   9     3.728758   \n",
       "19   9     3.728758   \n",
       "20   9     3.728758   \n",
       "21   9     3.728758   \n",
       "22   9     3.728758   \n",
       "23   9     3.728758   \n",
       "24   9     3.728758   \n",
       "25   9     3.728758   \n",
       "26   9     3.728758   \n",
       "27   9     3.728758   \n",
       "28   9     3.728758   \n",
       "29   9     3.728758   \n",
       "30   9     3.728758   \n",
       "...  ...   ...        \n",
       "2827 12    17.9402    \n",
       "2828 12    17.9402    \n",
       "2829 12    17.9402    \n",
       "2830 12    17.9402    \n",
       "2831 12    17.9402    \n",
       "2832 12    17.9402    \n",
       "2833 12    17.9402    \n",
       "2834 12    17.9402    \n",
       "2835 12    17.9402    \n",
       "2836 12    17.9402    \n",
       "2837 12    17.9402    \n",
       "2838 12    17.9402    \n",
       "2839 12    17.9402    \n",
       "2840 12    17.9402    \n",
       "2841 12    17.9402    \n",
       "2842 12    17.9402    \n",
       "2843 12    17.9402    \n",
       "2844 12    17.9402    \n",
       "2845 12    17.9402    \n",
       "2846 12    17.9402    \n",
       "2847 12    17.9402    \n",
       "2848 12    17.9402    \n",
       "2849 12    17.9402    \n",
       "2850 12    17.9402    \n",
       "2851 12    17.9402    \n",
       "2852 12    17.9402    \n",
       "2853 12    17.9402    \n",
       "2854 12    17.9402    \n",
       "2855 12    17.9402    \n",
       "2856 12    17.9402    "
      ]
     },
     "metadata": {},
     "output_type": "display_data"
    }
   ],
   "source": [
    "voos2008 %>%\n",
    "    select(Month,DepDelay) %>%\n",
    "    group_by(Month) %>%\n",
    "    mutate(atrasoMedio = mean(DepDelay, na.rm = TRUE)) %>%\n",
    "    unique() %>%\n",
    "    select(Month,atrasoMedio) %>%\n",
    "    arrange(atrasoMedio) "
   ]
  }
 ],
 "metadata": {
  "kernelspec": {
   "display_name": "R",
   "language": "R",
   "name": "ir"
  },
  "language_info": {
   "codemirror_mode": "r",
   "file_extension": ".r",
   "mimetype": "text/x-r-source",
   "name": "R",
   "pygments_lexer": "r",
   "version": "4.1.0"
  }
 },
 "nbformat": 4,
 "nbformat_minor": 4
}
