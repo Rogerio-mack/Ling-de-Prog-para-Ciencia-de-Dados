{
 "cells": [
  {
   "cell_type": "markdown",
   "metadata": {},
   "source": [
    "# Trilha 7"
   ]
  },
  {
   "cell_type": "markdown",
   "metadata": {},
   "source": [
    "## Introdução ao GGPLOT2 "
   ]
  },
  {
   "attachments": {},
   "cell_type": "markdown",
   "metadata": {},
   "source": [
    "A proposta deste e-Book é expandir seus horizontes na questão de visualização de dados, e conjunto de ferramentas, além do que já ouvimos no audio blog e assistimos na aula. Daremos um passo além dos gráficos de dispersão, aprendendo outras maneiras de visualizar dados, bem como algumas regras gerais a serem seguidas ao criar visualizações (que podem ser encontradas no slide **Principios da análise gráfica!** que estão nas *Telas Interativas*).\n",
    "\n",
    "É esperado que, ao concluir esta trilha, você tenha habilidades para discutir estes assuntos:\n",
    "\n",
    "- Descrever quando e porque usar os seguintes tipos de visualizações:\n",
    "    - gráficos de dispersão\n",
    "    - gráficos de linha\n",
    "    - gráficos de barra\n",
    "    - gráficos de histograma\n",
    "\n",
    "- Ao obter um conjunto de dados e uma pergunta da área de negócio, saiba selecionar um dos tipos de gráfico apropriado para criar uma visualização que melhor responde à pergunta;\n",
    "\n",
    "- Definir os três aspectos principais dos objetos *ggplot*:\n",
    "    - mapeamentos estéticos (*aesthetic mappings*)\n",
    "    - objetos geométricos (*geometric objects*)\n",
    "    - escalas (*scales*) \n",
    "\n",
    "- Usar a biblioteca *ggplot2* em R para criar e refinar as visualizações utilizando:\n",
    "    - objectos geométricos:  `geom_point`, `geom_line`, `geom_histogram`, `geom_bar`, `geom_vline`, `geom_hline`\n",
    "    - escalas:  `scale_x_continuous`, `scale_y_continuous`\n",
    "    - mapeamentos de estéticas: `x`, `y`, `fill`, `colour`, `shape`\n",
    "    - Rótulos: `xlab`, `ylab`, `labs`\n",
    "    - controle de fonte, posicionamento de legenda e temas:  `theme`\n",
    "    - Rotacionar eixos: `coord_flip`\n",
    "    - Fatiar gráficos: `facet_grid`"
   ]
  }
 ],
 "metadata": {
  "kernelspec": {
   "display_name": "R",
   "language": "R",
   "name": "ir"
  },
  "language_info": {
   "codemirror_mode": "r",
   "file_extension": ".r",
   "mimetype": "text/x-r-source",
   "name": "R",
   "pygments_lexer": "r",
   "version": "4.1.0"
  }
 },
 "nbformat": 4,
 "nbformat_minor": 4
}
